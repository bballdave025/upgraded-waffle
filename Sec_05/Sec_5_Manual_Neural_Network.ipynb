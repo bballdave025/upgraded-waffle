{
 "cells": [
  {
   "cell_type": "markdown",
   "metadata": {},
   "source": [
    "# Manual Neural Network\n",
    "\n",
    "This is really cool, and it's something I've wanted to do. I've got this and several other ways to do a similar thing. This one gets done first. It's going to mimic the TensorFlow API. When I get back to TensorFlow, I should have a better understanding.\n",
    "\n",
    "From Jose\n",
    "\n",
    "> In this notebook we will manually build out a neural network that mimics the TensorFlow API. This will greatly help your understanding when working with the real TensorFlow!"
   ]
  },
  {
   "cell_type": "markdown",
   "metadata": {},
   "source": [
    "<hr/>\n",
    "<br/>\n",
    "<hr/>\n",
    "<hr/>"
   ]
  },
  {
   "cell_type": "markdown",
   "metadata": {},
   "source": [
    "### Some Info About super() and Object Oriented Programming in General\n",
    "\n",
    "<hr/>"
   ]
  },
  {
   "cell_type": "code",
   "execution_count": null,
   "metadata": {},
   "outputs": [],
   "source": [
    "class SimpleClassLecture0():\n",
    "    \n",
    "    def __init__(self):\n",
    "        print(\"hello\")\n",
    "    ##endof:  __init__(self)\n",
    "    \n",
    "    \n",
    "    \n",
    "##endof:  SimpleClassLecture0"
   ]
  },
  {
   "cell_type": "code",
   "execution_count": null,
   "metadata": {},
   "outputs": [],
   "source": [
    "s = \"world\""
   ]
  },
  {
   "cell_type": "code",
   "execution_count": null,
   "metadata": {},
   "outputs": [],
   "source": [
    "type(s)"
   ]
  },
  {
   "cell_type": "code",
   "execution_count": null,
   "metadata": {},
   "outputs": [],
   "source": [
    "# s.<then press [Tab]>\n",
    "# Gives a list of methods"
   ]
  },
  {
   "cell_type": "code",
   "execution_count": null,
   "metadata": {},
   "outputs": [],
   "source": [
    "x0 = SimpleClassLecture0"
   ]
  },
  {
   "cell_type": "code",
   "execution_count": null,
   "metadata": {},
   "outputs": [],
   "source": [
    "x0 # what we get without the parentheses - __init__ doesn't get called"
   ]
  },
  {
   "cell_type": "code",
   "execution_count": null,
   "metadata": {},
   "outputs": [],
   "source": [
    "x0 = SimpleClassLecture0()"
   ]
  },
  {
   "cell_type": "code",
   "execution_count": null,
   "metadata": {},
   "outputs": [],
   "source": [
    "x0 # Instance of SimpleClassLecture and where it exists in memory"
   ]
  },
  {
   "cell_type": "code",
   "execution_count": null,
   "metadata": {},
   "outputs": [],
   "source": [
    "class SimpleClassLecture1():\n",
    "    \n",
    "    def __init__(self):\n",
    "        print(\"hello\")\n",
    "    ##endof:  __init__(self)\n",
    "    \n",
    "    def yell(self):\n",
    "        print(\"YELLING\")\n",
    "    ##endof:  yell(self)\n",
    "    \n",
    "##endof:  SimpleClassLecture1"
   ]
  },
  {
   "cell_type": "code",
   "execution_count": null,
   "metadata": {},
   "outputs": [],
   "source": [
    "x1 = SimpleClassLecture1()"
   ]
  },
  {
   "cell_type": "code",
   "execution_count": null,
   "metadata": {},
   "outputs": [],
   "source": [
    "#  I'm going to type 'x1.' then hit [Tab].\n",
    "#+ it will autocomplete 'x1.yell', after\n",
    "#+ which I'll add the parenthesis\n",
    "x1.yell()"
   ]
  },
  {
   "cell_type": "code",
   "execution_count": null,
   "metadata": {},
   "outputs": [],
   "source": [
    "# Now, I'll just type it all out.\n",
    "x1.yell()"
   ]
  },
  {
   "cell_type": "code",
   "execution_count": null,
   "metadata": {},
   "outputs": [],
   "source": [
    "##  adding in this illustration. These first calls will work fine.\n",
    "sc = SimpleClassLecture1()\n",
    "print(\"--- some separation ---\")\n",
    "sc.yell()"
   ]
  },
  {
   "cell_type": "code",
   "execution_count": null,
   "metadata": {},
   "outputs": [],
   "source": [
    "##  continuing with the illustration. This is called\n",
    "##+ as if it were the lecture notes. It will throw\n",
    "##+ an error/exception/whatever-you-want-to-call-it\n",
    "sc_oops = SimpleClassLecture1(\"Basket Weaving 101\")\n",
    "print(\"--- some separation ---\") # won't execute b/c error before\n",
    "sc_oops.yell()                   # won't execute b/c error before"
   ]
  },
  {
   "cell_type": "markdown",
   "metadata": {},
   "source": [
    "OUTPUT (error) should be\n",
    "\n",
    "```\n",
    "---------------------------------------------------------------------------\n",
    "TypeError                                 Traceback (most recent call last)\n",
    "<ipython-input-87-6c1cabf9d07d> in <module>()\n",
    "      2 ##+ as if it were the lecture notes. It will throw\n",
    "      3 ##+ an error/exception/whatever-you-want-to-call-it\n",
    "----> 4 sc_oops = SimpleClassLecture1(\"Basket Weaving 101\")\n",
    "      5 print(\"--- some separation ---\") # won't execute b/c error before\n",
    "      6 sc_oops.yell()                   # won't execute b/c error before\n",
    "\n",
    "TypeError: __init__() takes 1 positional argument but 2 were given\n",
    "```"
   ]
  },
  {
   "cell_type": "markdown",
   "metadata": {},
   "source": [
    "<b>Remember the code:</b>\n",
    "\n",
    "```\n",
    "class SimpleClassLecture1():\n",
    "    \n",
    "    def __init__(self):\n",
    "        print(\"hello\")\n",
    "    ##endof:  __init__(self)\n",
    "    \n",
    "    def yell(self):\n",
    "        print(\"YELLING\")\n",
    "    ##endof:  yell(self)\n",
    "    \n",
    "##endof:  SimpleClassLecture1\n",
    "```"
   ]
  },
  {
   "cell_type": "code",
   "execution_count": null,
   "metadata": {},
   "outputs": [],
   "source": [
    "class ExtendedClassLecture0(SimpleClassLecture1):\n",
    "    \n",
    "    def __init__(self):\n",
    "        \n",
    "        print(\"EXTEND!\")\n",
    "        \n",
    "    ##endof:  __init__(self)\n",
    "    \n",
    "##endof:  ExtendedClassLecture0(SimpleClassLecture1)"
   ]
  },
  {
   "cell_type": "code",
   "execution_count": null,
   "metadata": {},
   "outputs": [],
   "source": [
    "y0 = ExtendedClassLecture0()\n",
    "#  Remember, there's no 'super' call for '__init__'"
   ]
  },
  {
   "cell_type": "code",
   "execution_count": null,
   "metadata": {},
   "outputs": [],
   "source": [
    "#  No 'super' with '__init__', but other things work\n",
    "y0.yell()"
   ]
  },
  {
   "cell_type": "markdown",
   "metadata": {},
   "source": [
    "Now, let's use the `super` keyword."
   ]
  },
  {
   "cell_type": "code",
   "execution_count": null,
   "metadata": {},
   "outputs": [],
   "source": [
    "class ExtendedClassLecture1(SimpleClassLecture1):\n",
    "    \n",
    "    def __init__(self):\n",
    "        \n",
    "        super().__init__()\n",
    "        print(\"EXTEND!\")\n",
    "    ##endof:  __init__(self)\n",
    "    \n",
    "##endof:  ExtendedClassLecture(SimpleClassLecture)"
   ]
  },
  {
   "cell_type": "code",
   "execution_count": null,
   "metadata": {},
   "outputs": [],
   "source": [
    "y1 = ExtendedClassLecture1()"
   ]
  },
  {
   "cell_type": "code",
   "execution_count": null,
   "metadata": {},
   "outputs": [],
   "source": [
    "y1.yell()"
   ]
  },
  {
   "cell_type": "markdown",
   "metadata": {},
   "source": [
    "Here, we're going to add an argument to the `SimpleClass` `__init__` (i.e. its constructor). Since this is the final state in which Jose leaves it, I'm going to use `SimpleClassLecture` instead of continuing with `SimpleClassLecture2`. I'll do similarly with the extended class - using `ExtendedClassLecture` instead of staying with the pattern and using `ExtendedClassLecture2`."
   ]
  },
  {
   "cell_type": "code",
   "execution_count": null,
   "metadata": {},
   "outputs": [],
   "source": [
    "class SimpleClassLecture():\n",
    "    \n",
    "    def __init__(self, name):\n",
    "        print(\"hello \" + name) #  Jose put the space here, which\n",
    "                               #+ I consider the correct place.\n",
    "            #+ a minute or so after 1701113954_2023-11-27T123914-0700\n",
    "    ##endof:  __init__(self)\n",
    "    \n",
    "    def yell(self):\n",
    "        print(\"YELLING\")\n",
    "    ##endof:  yell(self)\n",
    "    \n",
    "##endof:  SimpleClassLecture1"
   ]
  },
  {
   "cell_type": "code",
   "execution_count": null,
   "metadata": {},
   "outputs": [],
   "source": [
    "x = SimpleClassLecture(\"Dave\")"
   ]
  },
  {
   "cell_type": "code",
   "execution_count": null,
   "metadata": {},
   "outputs": [],
   "source": [
    "x.yell()"
   ]
  },
  {
   "cell_type": "code",
   "execution_count": null,
   "metadata": {},
   "outputs": [],
   "source": [
    "class ExtendedClassLecture(SimpleClassLecture):\n",
    "    \n",
    "    def __init__(self):\n",
    "        \n",
    "        super().__init__(\"Davidushka!\")\n",
    "        print(\"EXTEND!\")\n",
    "        \n",
    "    ##endof:  __init__(self)\n",
    "    \n",
    "##endof:  ExtendedClassLecture(SimpleClassLecture)"
   ]
  },
  {
   "cell_type": "code",
   "execution_count": null,
   "metadata": {},
   "outputs": [],
   "source": [
    "y = ExtendedClassLecture()"
   ]
  },
  {
   "cell_type": "code",
   "execution_count": null,
   "metadata": {},
   "outputs": [],
   "source": [
    "y.yell()"
   ]
  },
  {
   "cell_type": "markdown",
   "metadata": {},
   "source": [
    "<hr/>"
   ]
  },
  {
   "cell_type": "markdown",
   "metadata": {},
   "source": [
    "<b>From the class material</b>"
   ]
  },
  {
   "cell_type": "code",
   "execution_count": null,
   "metadata": {},
   "outputs": [],
   "source": [
    "class SimpleClass():\n",
    "    \n",
    "    def __init__(self, str_input):\n",
    "        #  DWB: I'm not fixing his lack of space after \"SIMPLE\". \n",
    "        #+      1701111285_2023-11-27T115445-0700\n",
    "        print(\"SIMPLE\" + str_input)\n",
    "    ##endof:  __init__(self, str_input)\n",
    "        \n",
    "##endof:  SimpleClass"
   ]
  },
  {
   "cell_type": "markdown",
   "metadata": {},
   "source": [
    "I'll do the same two illustrations."
   ]
  },
  {
   "cell_type": "code",
   "execution_count": null,
   "metadata": {},
   "outputs": [],
   "source": [
    "sc = SimpleClass() # will throw an error"
   ]
  },
  {
   "cell_type": "markdown",
   "metadata": {},
   "source": [
    "OUTPUT:\n",
    "\n",
    "```\n",
    "---------------------------------------------------------------------------\n",
    "TypeError                                 Traceback (most recent call last)\n",
    "<ipython-input-29-1a19d7d610fd> in <module>()\n",
    "----> 1 sc = SimpleClass() # will throw an error\n",
    "\n",
    "TypeError: __init__() missing 1 required positional argument: 'str_input'\n",
    "```"
   ]
  },
  {
   "cell_type": "code",
   "execution_count": null,
   "metadata": {},
   "outputs": [],
   "source": [
    "##  This one should work fine, though the lack of a space between\n",
    "##+ \"SIMPLE\" and \"Basket Weaving 101\" - i.e. \n",
    "##+ \"SIMPLEBasket Weaving 101\", grates on my nerves a bit. Q&R\n",
    "sc = SimpleClass(\"Basket Weaving 101\")"
   ]
  },
  {
   "cell_type": "markdown",
   "metadata": {},
   "source": [
    "Remember the code (defined in the lecture notes)\n",
    "\n",
    "```\n",
    "class SimpleClass():\n",
    "    \n",
    "    def __init__(self, str_input):\n",
    "        #  DWB: I'm not fixing his lack of space after \"SIMPLE\". \n",
    "        #+      1701111285_2023-11-27T115445-0700\n",
    "        print(\"SIMPLE\" + str_input)\n",
    "    ##endof:  __init__(self, str_input)\n",
    "        \n",
    "##endof:  SimpleClass\n",
    "```"
   ]
  },
  {
   "cell_type": "code",
   "execution_count": null,
   "metadata": {},
   "outputs": [],
   "source": [
    "class ExtendedClassNoSuper(SimpleClass):\n",
    "    \n",
    "    def __init__(self):\n",
    "        print('EXTENDED')\n",
    "    ## endof:  __init__(self)\n",
    "\n",
    "##endof:  ExtendedClassNoSuper"
   ]
  },
  {
   "cell_type": "code",
   "execution_count": null,
   "metadata": {},
   "outputs": [],
   "source": [
    "s = ExtendedClassNoSuper()"
   ]
  },
  {
   "cell_type": "markdown",
   "metadata": {},
   "source": [
    "With the output, remember that we <i>overwrote</i> the `__init__(self)` method."
   ]
  },
  {
   "cell_type": "markdown",
   "metadata": {},
   "source": [
    "What I'll call `ExtendedClass` is building upon the `ExtendedClassNoSuper` code. I could have added `Super` at the end (`ExtendedClassSuper`), or I could have done as the lecture notes did and call both `ExtendedClass`, with one replacing the other. Anyway, `ExtendedClass` will use `super`."
   ]
  },
  {
   "cell_type": "code",
   "execution_count": null,
   "metadata": {},
   "outputs": [],
   "source": [
    "#  remember to use 'class' instead of 'def'\n",
    "#+ (Oops, DWB 1701111919_2023-11-27T120519-0700)\n",
    "\n",
    "class ExtendedClass(SimpleClass):\n",
    "    \n",
    "    def __init__(self):\n",
    "        \n",
    "        super().__init__(\" My String\") # Jose puts the space in the string here.\n",
    "        print('EXTENDED')\n",
    "        \n",
    "    ##endof:  def __init__(self)\n",
    "    \n",
    "##endof:  ExtendedClass"
   ]
  },
  {
   "cell_type": "code",
   "execution_count": null,
   "metadata": {},
   "outputs": [],
   "source": [
    "s = ExtendedClass()"
   ]
  },
  {
   "cell_type": "markdown",
   "metadata": {},
   "source": [
    "<hr/>\n",
    "<hr/>\n",
    "<br/>\n",
    "<hr/>\n",
    "<hr/>\n",
    "<br/>\n",
    "\n",
    "## We've finished learning some OOP stuff - now for the Manual NN\n",
    "\n",
    "<br/>\n",
    "<hr/>\n",
    "<br/>"
   ]
  },
  {
   "cell_type": "markdown",
   "metadata": {},
   "source": [
    "## Operation"
   ]
  },
  {
   "cell_type": "markdown",
   "metadata": {},
   "source": [
    "### Lecture Version - with Dave's additions"
   ]
  },
  {
   "cell_type": "code",
   "execution_count": null,
   "metadata": {},
   "outputs": [],
   "source": [
    "class Operation():\n",
    "    \n",
    "    def __init__(self, input_nodes=[], do_show_steps=True):\n",
    "        \n",
    "        if do_show_steps:\n",
    "            dashes = \"-\"*50\n",
    "            print(\"\\n\\n\" + dashes)\n",
    "            print(\"In __init__\")\n",
    "            print()\n",
    "        ##endof:  if do_show_steps\n",
    "        \n",
    "        self.input_nodes = input_nodes\n",
    "        \n",
    "        if do_show_steps:\n",
    "            print(\"\\n Now,   self.input_nodes = \")\n",
    "            print(\"     \" + str(self.input_nodes))\n",
    "            print()\n",
    "        ##endof:  if do_show_steps\n",
    "        \n",
    "        self.output_nodes = []\n",
    "        \n",
    "        for node in input_nodes:\n",
    "            if do_show_steps:\n",
    "                print(\"\\n Current node is:\")\n",
    "                print(\"     node = \" + str(node))\n",
    "                print()\n",
    "            ##endof:  if do_show_steps\n",
    "            \n",
    "            node.output_nodes.append(self)\n",
    "            \n",
    "            if do_show_steps:\n",
    "                print(\"\\n After assignment, node.output_nodes.append(self)\")\n",
    "                print(\"     node = \" + str(node))\n",
    "                print()\n",
    "                print(dashes)\n",
    "                print()\n",
    "            ##endof:  if do_show_steps\n",
    "            \n",
    "        ##endof:  for node in input_nodes\n",
    "        \n",
    "        if do_show_steps:\n",
    "            print(\"\\n Before appending  self  to  _default_graph,\")\n",
    "            print(\"     _default_graph = \")\n",
    "            print(\"               \" + str(_default_graph))\n",
    "            print()\n",
    "        ##endof:  if do_show_steps\n",
    "        \n",
    "        _default_graph.operations.append(self) #  Came back to add this\n",
    "                                               #+ after we had created\n",
    "                                               #+ the graph class\n",
    "        \n",
    "        if do_show_steps:\n",
    "            print(\"\\n After appending  self  to  _default_graph,\")\n",
    "            print(\"     _default_graph = \")\n",
    "            print(\"               \" + str(_default_graph))\n",
    "            print()\n",
    "        ##endof:  if do_show_steps\n",
    "        \n",
    "    ##endof:  __init__(self, input_nodes=[]):\n",
    "    \n",
    "    def compute(self):\n",
    "        pass\n",
    "    ##endof:  compute(self)\n",
    "    \n",
    "##endof:  Operation"
   ]
  },
  {
   "cell_type": "markdown",
   "metadata": {},
   "source": [
    "### Course Notes Version"
   ]
  },
  {
   "cell_type": "code",
   "execution_count": null,
   "metadata": {},
   "outputs": [],
   "source": [
    "class OperationCNV():\n",
    "    '''\n",
    "    An Operation is a node in a \"Graph\". TensorFlow will also use this concept of a Graph.\n",
    "    \n",
    "    This Operation class will be inherited by other classes that actually compute the specific\n",
    "    operation, such as adding or matrix multiplication.\n",
    "    '''\n",
    "    \n",
    "    def __init__(self, input_nodes=[]):\n",
    "        '''\n",
    "        Initialize an Operation\n",
    "        '''\n",
    "        \n",
    "        self.input_nodes = input_nodes #  The list of input nodes coming in to the node\n",
    "        self.output_nodes = []          #  List of nodes that will consume the output\n",
    "                                       #+ of this node\n",
    "        \n",
    "        #  For every node in the input, we append this operation (self) to the list of\n",
    "        #+ to the list of the input nodes' consumers (i.e. this operation becomes an\n",
    "        #+ output node)\n",
    "        for node in input_nodes:\n",
    "            node.output_nodes.append(self)\n",
    "        ##endof:  for node in input_nodes\n",
    "        \n",
    "        #  There will be a global default graph (TensorFlow works this way)\n",
    "        #+ We will append this particular operation (to the global default graph)\n",
    "        #\n",
    "        #  Append this operation to the list of operations in the currently-active\n",
    "        #+ default graph\n",
    "        _default_graph.operations.append(self)\n",
    "        \n",
    "    ##endof:  __init_(self, input_nodes=[])\n",
    "    \n",
    "    def compute(self):\n",
    "        '''\n",
    "        This is a placeholder function. It will be overwritten by the actual specific operation \n",
    "        that inherits from this class\n",
    "        '''\n",
    "        \n",
    "        pass\n",
    "        \n",
    "    ##endof:  compute(self)\n",
    "    \n",
    "##endof:  class OperationCNV()"
   ]
  },
  {
   "cell_type": "markdown",
   "metadata": {},
   "source": [
    "## Example Operations"
   ]
  },
  {
   "cell_type": "markdown",
   "metadata": {},
   "source": [
    "### Addition"
   ]
  },
  {
   "cell_type": "markdown",
   "metadata": {},
   "source": [
    "#### Lecture Version - with Dave's additions"
   ]
  },
  {
   "cell_type": "code",
   "execution_count": null,
   "metadata": {},
   "outputs": [],
   "source": [
    "class Add(Operation):\n",
    "    \n",
    "    def __init__(self, x, y, do_show_steps=True):\n",
    "        if do_show_steps:\n",
    "            dashes = \"-\"*35\n",
    "            print(dashes)\n",
    "            print(\"\\n Initializing an  Add  operation\")\n",
    "            print()\n",
    "        ##endof:  if do_show_steps\n",
    "        super().__init__([x, y])\n",
    "    ##endof:  __init__(self, x, y)\n",
    "    \n",
    "    def compute(self, x_var, y_var):\n",
    "        \n",
    "        if do_show_steps:\n",
    "            print(\"\\n Now, computing the  Add  operation \")\n",
    "            print()\n",
    "        ##endof:  if do_show_steps\n",
    "        \n",
    "        self.inputs = [x_var, y_var]\n",
    "        \n",
    "        if do_show_steps:\n",
    "            print(\"\\n Now,   self.inputs = \")\n",
    "            print(\"     \" + str(self.inputs))\n",
    "            print()\n",
    "        ##endof:  if do_show_steps\n",
    "        \n",
    "        result_of_add = x_var + y_var\n",
    "        \n",
    "        if do_show_steps:\n",
    "            print(\"\\n We will return\")\n",
    "            print(\"     result_of_add = \" + str(result_of_add))\n",
    "            dashes = \"-\"*35\n",
    "            print(dashes)\n",
    "            print()\n",
    "        ##endof:  if do_show_steps\n",
    "        \n",
    "        return result_of_add\n",
    "        \n",
    "    ##endof:  compute(self, x_var, y_var):\n",
    "    \n",
    "##endof:  class Add(Operation)"
   ]
  },
  {
   "cell_type": "markdown",
   "metadata": {},
   "source": [
    "#### Course Notes Version"
   ]
  },
  {
   "cell_type": "code",
   "execution_count": null,
   "metadata": {},
   "outputs": [],
   "source": [
    "class addCNV(OperationCNV):\n",
    "    \n",
    "    def __init__(self, x, y):\n",
    "        \n",
    "        super().__init__([x, y])\n",
    "        \n",
    "    ##endof:  __init__(self, x, y)\n",
    "    \n",
    "    def compute(self, x_var, y_var):\n",
    "        \n",
    "        self.inputs = [x_var, y_var]\n",
    "        return x_var + y_var\n",
    "        \n",
    "    ##endof:  compute(self, x_var, y_var)\n",
    "    \n",
    "##endof:  addCNV(OperationCNV)"
   ]
  },
  {
   "cell_type": "markdown",
   "metadata": {},
   "source": [
    "### Multiplication"
   ]
  },
  {
   "cell_type": "markdown",
   "metadata": {},
   "source": [
    "#### Lecture Version - with Dave's additions"
   ]
  },
  {
   "cell_type": "code",
   "execution_count": null,
   "metadata": {},
   "outputs": [],
   "source": [
    "class Multiply(Operation):\n",
    "    \n",
    "    def __init__(self, x, y, do_show_steps=True):\n",
    "        if do_show_steps:\n",
    "            dashes = \"-\"*35\n",
    "            print(dashes)\n",
    "            print(\"\\n Initializing a  Multiply  operation\")\n",
    "            print()\n",
    "        ##endof:  if do_show_steps\n",
    "        super().__init__([x, y])\n",
    "    ##endof:  __init__(self, x, y)\n",
    "    \n",
    "    def compute(self, x_var, y_var):\n",
    "        \n",
    "        if do_show_steps:\n",
    "            print(\"\\n Now, computing the  Multiply  operation \")\n",
    "            print()\n",
    "        ##endof:  if do_show_steps\n",
    "        \n",
    "        self.inputs = [x_var, y_var]\n",
    "        \n",
    "        if do_show_steps:\n",
    "            print(\"\\n Now,   self.inputs = \")\n",
    "            print(\"     \" + str(self.inputs))\n",
    "            print()\n",
    "        ##endof:  if do_show_steps\n",
    "        \n",
    "        result_of_multiply = x_var * y_var\n",
    "        \n",
    "        if do_show_steps:\n",
    "            print(\"\\n We will return\")\n",
    "            print(\"     result_of_multiply = \" + str(result_of_multiply))\n",
    "            dashes = \"-\"*35\n",
    "            print(dashes)\n",
    "            print()\n",
    "        ##endof:  if do_show_steps\n",
    "        \n",
    "        return result_of_multiply\n",
    "        \n",
    "    ##endof:  compute(self, x_var, y_var):\n",
    "    \n",
    "##endof:  class Multiply(Operation)"
   ]
  },
  {
   "cell_type": "markdown",
   "metadata": {},
   "source": [
    "#### Course Notes Version"
   ]
  },
  {
   "cell_type": "code",
   "execution_count": null,
   "metadata": {},
   "outputs": [],
   "source": [
    "class multiplyCNV(OperationCNV):\n",
    "    \n",
    "    def __init__(self, a, b):\n",
    "        \n",
    "        super().__init__([a, b])\n",
    "        \n",
    "    ##endof:  __init__(self, a, b)\n",
    "    \n",
    "    def compute(self, a_var, b_var):\n",
    "        \n",
    "        self.inputs = [a_var, b_var]\n",
    "        return a_var * b_var\n",
    "        \n",
    "    ##endof:  compute(self, a_var, b_var)\n",
    "    \n",
    "##endof:  multiplyCNV(OperationCNV)"
   ]
  },
  {
   "cell_type": "markdown",
   "metadata": {},
   "source": [
    "### Matrix Multiplication"
   ]
  },
  {
   "cell_type": "markdown",
   "metadata": {},
   "source": [
    "#### Lecture Version - with Dave's additions"
   ]
  },
  {
   "cell_type": "code",
   "execution_count": null,
   "metadata": {},
   "outputs": [],
   "source": [
    "class MatMul(Operation):\n",
    "    \n",
    "    def __init__(self, x, y, do_show_steps=True):\n",
    "        if do_show_steps:\n",
    "            dashes = \"-\"*35\n",
    "            print(dashes)\n",
    "            print(\"\\n Initializing a  MatMul  operation\")\n",
    "            print()\n",
    "        ##endof:  if do_show_steps\n",
    "        super().__init__([x, y])\n",
    "    ##endof:  __init__(self, x, y)\n",
    "    \n",
    "    def compute(self, x_var, y_var):\n",
    "        \n",
    "        if do_show_steps:\n",
    "            print(\"\\n Now, computing the  MatMul  operation \")\n",
    "            print()\n",
    "        ##endof:  if do_show_steps\n",
    "        \n",
    "        self.inputs = [x_var, y_var]\n",
    "        \n",
    "        if do_show_steps:\n",
    "            print(\"\\n Now,   self.inputs = \")\n",
    "            print(\"     \" + str(self.inputs))\n",
    "            print()\n",
    "        ##endof:  if do_show_steps\n",
    "        \n",
    "        #  We're assuming we have numpy arrays (matrices), so we can\n",
    "        #+ use the  var.dot()  operation\n",
    "        result_of_matmul = x_var.dot(y_var)\n",
    "        \n",
    "        if do_show_steps:\n",
    "            print(\"\\n We will return\")\n",
    "            print(\"     result_of_matmul = \" + str(result_of_matmul))\n",
    "            dashes = \"-\"*35\n",
    "            print(dashes)\n",
    "            print()\n",
    "        ##endof:  if do_show_steps\n",
    "        \n",
    "        return result_of_matmul\n",
    "        \n",
    "    ##endof:  compute(self, x_var, y_var):\n",
    "    \n",
    "##endof:  class MatMul(Operation)"
   ]
  },
  {
   "cell_type": "markdown",
   "metadata": {},
   "source": [
    "#### Course Notes Version"
   ]
  },
  {
   "cell_type": "code",
   "execution_count": null,
   "metadata": {},
   "outputs": [],
   "source": [
    "class matmulCNV(OperationCNV):\n",
    "    \n",
    "    def __init__(self, a, b):\n",
    "        \n",
    "        super().__init__([a, b])\n",
    "        \n",
    "    ##endof:  __init__(self, a, b)\n",
    "    \n",
    "    def compute(self, a_mat, b_mat):\n",
    "        \n",
    "        self.inputs = [a_mat, b_mat]\n",
    "        return a_mat.dot(b_mat)\n",
    "        \n",
    "    ##endof:  compute(self, a_mat, b_mat)\n",
    "    \n",
    "##endof:  matmulCNV(OperationCNV)"
   ]
  },
  {
   "cell_type": "markdown",
   "metadata": {},
   "source": [
    "## Placeholders"
   ]
  },
  {
   "cell_type": "markdown",
   "metadata": {},
   "source": [
    "#### Lecture Version - with (maybe) Dave's additions"
   ]
  },
  {
   "cell_type": "code",
   "execution_count": null,
   "metadata": {},
   "outputs": [],
   "source": [
    "class Placeholder():\n",
    "    \n",
    "    def __init__(self):\n",
    "        \n",
    "        self.output_nodes = []\n",
    "        \n",
    "        _default_graph.placeholders.append(self) #  this is added in during\n",
    "                                                 #+ the course of the lecture.\n",
    "                                                 #+ whereas those before\n",
    "                                                 #+ weren't\n",
    "        \n",
    "    ##endof:  __init__(self)\n",
    "    \n",
    "##endof:  Placeholder()"
   ]
  },
  {
   "cell_type": "markdown",
   "metadata": {},
   "source": [
    "#### Course Notes Version"
   ]
  },
  {
   "cell_type": "code",
   "execution_count": null,
   "metadata": {},
   "outputs": [],
   "source": [
    "class PlaceholderCNV():\n",
    "    '''\n",
    "    A placeholder is a node that needs to be provided a value for \n",
    "    computing the output in the graph.\n",
    "    '''\n",
    "    \n",
    "    def __init__(self):\n",
    "        \n",
    "        self.output_nodes = []\n",
    "        \n",
    "        _default_graph.placeholders.append(self) #  this is added in during\n",
    "                                                 #+ the course of the lecture.\n",
    "                                                 #+ whereas those before\n",
    "                                                 #+ weren't\n",
    "        \n",
    "    ##endof:  __init__(self)\n",
    "    \n",
    "##endof:  PlaceholderCNV()"
   ]
  },
  {
   "cell_type": "markdown",
   "metadata": {},
   "source": [
    "## Variables"
   ]
  },
  {
   "cell_type": "markdown",
   "metadata": {},
   "source": [
    "#### Lecture Version - with (maybe) Dave's additions"
   ]
  },
  {
   "cell_type": "code",
   "execution_count": null,
   "metadata": {},
   "outputs": [],
   "source": [
    "class Variable():\n",
    "    \n",
    "    def __init__(self, initial_value=None):\n",
    "        \n",
    "        self.value = initial_value\n",
    "        self.output_nodes = []\n",
    "        \n",
    "        _default_graph.variables.append(self)\n",
    "        \n",
    "    ##endof:  __init__(self, initial_value=None)\n",
    "    \n",
    "##endof:  class Variable"
   ]
  },
  {
   "cell_type": "markdown",
   "metadata": {},
   "source": [
    "#### Course Notes Version"
   ]
  },
  {
   "cell_type": "code",
   "execution_count": null,
   "metadata": {},
   "outputs": [],
   "source": [
    "class VariableCNV():\n",
    "    '''\n",
    "    This variable is a changeable parameter of the Graph.\n",
    "    (Jose said we can think of it as a weight.)\n",
    "    '''\n",
    "    \n",
    "    def __init__(self, initial_value=None):\n",
    "        \n",
    "        self.value = initial_value\n",
    "        self.output_nodes = []\n",
    "        \n",
    "        _default_graph.variables.append(self)\n",
    "        \n",
    "    ##endof:  __init__(self, initial_value=None)\n",
    "    \n",
    "##endof:  VariableCNV()"
   ]
  },
  {
   "cell_type": "markdown",
   "metadata": {},
   "source": [
    "## Graph"
   ]
  },
  {
   "cell_type": "markdown",
   "metadata": {},
   "source": [
    "#### Lecture Version - with (maybe) Dave's additions"
   ]
  },
  {
   "cell_type": "code",
   "execution_count": null,
   "metadata": {},
   "outputs": [],
   "source": [
    "class Graph():\n",
    "    \n",
    "    def __init__(self):\n",
    "        \n",
    "        self.operations = []\n",
    "        self.placeholders = []\n",
    "        self.variables = []\n",
    "        \n",
    "    ##endof:  __init__(self)\n",
    "    \n",
    "    def set_as_default(self):\n",
    "        \n",
    "        global _default_graph\n",
    "        _default_graph = self\n",
    "        \n",
    "    ##endof:  set_as_default(self)\n",
    "    \n",
    "##endof:  Graph()"
   ]
  },
  {
   "cell_type": "markdown",
   "metadata": {},
   "source": [
    "#### Course Notes Version"
   ]
  },
  {
   "cell_type": "code",
   "execution_count": null,
   "metadata": {},
   "outputs": [],
   "source": [
    "class GraphCNV():\n",
    "    '''\n",
    "    No docstring in the course notes\n",
    "    '''\n",
    "    \n",
    "    def __init__(self):\n",
    "        \n",
    "        self.operations = []\n",
    "        self.placeholders = []\n",
    "        self.variables = []\n",
    "        \n",
    "    ##endof:  def __init__(self)\n",
    "    \n",
    "    def set_as_default(self):\n",
    "        '''\n",
    "        Sets this Graph instance as the Global Default Graph\n",
    "        '''\n",
    "        \n",
    "        global _default_graph\n",
    "        _default_graph = self\n",
    "        \n",
    "    ##endof:  set_as_default(self)\n",
    "    \n",
    "##endof:  GraphCNV()"
   ]
  },
  {
   "cell_type": "markdown",
   "metadata": {},
   "source": [
    "## A Basic Graph"
   ]
  },
  {
   "cell_type": "markdown",
   "metadata": {},
   "source": [
    "$$ z = Ax + b $$\n",
    "\n",
    "With $A = 10$ and $b = 1$\n",
    "\n",
    "$$ z = 10x + 1 $$\n",
    "\n",
    "Just need a placeholder for $x$ and then, once $x$ is filled in, we can solve it!"
   ]
  },
  {
   "cell_type": "code",
   "execution_count": null,
   "metadata": {},
   "outputs": [],
   "source": [
    "g = Graph()"
   ]
  },
  {
   "cell_type": "code",
   "execution_count": null,
   "metadata": {},
   "outputs": [],
   "source": [
    "g.set_as_default()"
   ]
  },
  {
   "cell_type": "code",
   "execution_count": null,
   "metadata": {},
   "outputs": [],
   "source": [
    "A = Variable(10)"
   ]
  },
  {
   "cell_type": "code",
   "execution_count": null,
   "metadata": {},
   "outputs": [],
   "source": [
    "b = Variable(1)"
   ]
  },
  {
   "cell_type": "code",
   "execution_count": null,
   "metadata": {},
   "outputs": [],
   "source": [
    "# Jose says, \"Will be filled out later\"\n",
    "x = Placeholder()"
   ]
  },
  {
   "cell_type": "code",
   "execution_count": null,
   "metadata": {},
   "outputs": [],
   "source": [
    "y = Multiply(A, x)"
   ]
  },
  {
   "cell_type": "code",
   "execution_count": null,
   "metadata": {},
   "outputs": [],
   "source": [
    "z = Add(y, b)"
   ]
  },
  {
   "cell_type": "markdown",
   "metadata": {},
   "source": [
    "<b>A Comment or 2</b>\n",
    "\n",
    "Now, we just need to actually compute the $z$. We need to add in 1) a traverse-post-order function, which allows a post order traversal of nodes, which is necessary to make sure the computation is done in the correct order; 2) a Session class, which actually executes this graph.\n"
   ]
  },
  {
   "cell_type": "markdown",
   "metadata": {},
   "source": [
    "#### The Basic Graph with the Course Notes Version"
   ]
  },
  {
   "cell_type": "code",
   "execution_count": null,
   "metadata": {},
   "outputs": [],
   "source": [
    "# g_CNV = GraphCNV()"
   ]
  },
  {
   "cell_type": "code",
   "execution_count": null,
   "metadata": {},
   "outputs": [],
   "source": [
    "# g_CNV.set_as_default()"
   ]
  },
  {
   "cell_type": "code",
   "execution_count": null,
   "metadata": {},
   "outputs": [],
   "source": [
    "# A_CNV = VariableCNV(10)"
   ]
  },
  {
   "cell_type": "code",
   "execution_count": null,
   "metadata": {},
   "outputs": [],
   "source": [
    "# b_CNV = VariableCNV(1)"
   ]
  },
  {
   "cell_type": "code",
   "execution_count": null,
   "metadata": {},
   "outputs": [],
   "source": [
    "# x_CNV = PlaceholderCNV()"
   ]
  },
  {
   "cell_type": "code",
   "execution_count": null,
   "metadata": {},
   "outputs": [],
   "source": [
    "# y_CNV = multiplyCNV(A_CNV, x_CNV)"
   ]
  },
  {
   "cell_type": "code",
   "execution_count": null,
   "metadata": {},
   "outputs": [],
   "source": [
    "# z_CNV = addCNV(y_CNV, b_CNV)"
   ]
  },
  {
   "cell_type": "markdown",
   "metadata": {},
   "source": [
    "<b>We got here, and everything computes</b>, both for my lecture version and the course notes version. When I go through the next lecture, I'll commment out the Course Notes Version. I might come back and do the Course Notes Version. The problem now isn't the same variable names (though I added `'_CNV'` to all of them) - it's the `Graph.set_as_default` function.\n",
    "\n",
    "DWB\n",
    "\n",
    "`1701317785_2023-11-29T211625-0700`"
   ]
  },
  {
   "cell_type": "markdown",
   "metadata": {},
   "source": [
    "## Session"
   ]
  },
  {
   "cell_type": "markdown",
   "metadata": {},
   "source": [
    "#### Lecture Version - with Dave's additions"
   ]
  },
  {
   "cell_type": "code",
   "execution_count": null,
   "metadata": {},
   "outputs": [],
   "source": []
  },
  {
   "cell_type": "markdown",
   "metadata": {},
   "source": [
    "#### Course Notes Version"
   ]
  },
  {
   "cell_type": "code",
   "execution_count": null,
   "metadata": {},
   "outputs": [],
   "source": []
  },
  {
   "cell_type": "markdown",
   "metadata": {},
   "source": [
    "### Traversing Operation Nodes"
   ]
  },
  {
   "cell_type": "code",
   "execution_count": null,
   "metadata": {},
   "outputs": [],
   "source": []
  },
  {
   "cell_type": "code",
   "execution_count": null,
   "metadata": {},
   "outputs": [],
   "source": []
  },
  {
   "cell_type": "markdown",
   "metadata": {},
   "source": [
    "Let's try it!"
   ]
  },
  {
   "cell_type": "code",
   "execution_count": null,
   "metadata": {},
   "outputs": [],
   "source": []
  },
  {
   "cell_type": "code",
   "execution_count": null,
   "metadata": {},
   "outputs": [],
   "source": []
  },
  {
   "cell_type": "code",
   "execution_count": null,
   "metadata": {},
   "outputs": [],
   "source": []
  },
  {
   "cell_type": "code",
   "execution_count": null,
   "metadata": {},
   "outputs": [],
   "source": []
  },
  {
   "cell_type": "markdown",
   "metadata": {},
   "source": [
    "Now, some matrix multiplication"
   ]
  },
  {
   "cell_type": "code",
   "execution_count": null,
   "metadata": {},
   "outputs": [],
   "source": []
  },
  {
   "cell_type": "code",
   "execution_count": null,
   "metadata": {},
   "outputs": [],
   "source": []
  },
  {
   "cell_type": "code",
   "execution_count": null,
   "metadata": {},
   "outputs": [],
   "source": []
  },
  {
   "cell_type": "code",
   "execution_count": null,
   "metadata": {},
   "outputs": [],
   "source": []
  },
  {
   "cell_type": "markdown",
   "metadata": {},
   "source": [
    "## Activation Function"
   ]
  },
  {
   "cell_type": "code",
   "execution_count": null,
   "metadata": {},
   "outputs": [],
   "source": []
  },
  {
   "cell_type": "code",
   "execution_count": null,
   "metadata": {},
   "outputs": [],
   "source": []
  },
  {
   "cell_type": "code",
   "execution_count": null,
   "metadata": {},
   "outputs": [],
   "source": []
  },
  {
   "cell_type": "code",
   "execution_count": null,
   "metadata": {},
   "outputs": [],
   "source": []
  },
  {
   "cell_type": "code",
   "execution_count": null,
   "metadata": {},
   "outputs": [],
   "source": []
  },
  {
   "cell_type": "markdown",
   "metadata": {},
   "source": [
    "#### Sigmoid as an Operation"
   ]
  },
  {
   "cell_type": "markdown",
   "metadata": {},
   "source": [
    "#### Lecture Version - with Dave's additions"
   ]
  },
  {
   "cell_type": "code",
   "execution_count": null,
   "metadata": {},
   "outputs": [],
   "source": []
  },
  {
   "cell_type": "markdown",
   "metadata": {},
   "source": [
    "#### Course Notes Version"
   ]
  },
  {
   "cell_type": "code",
   "execution_count": null,
   "metadata": {},
   "outputs": [],
   "source": []
  },
  {
   "cell_type": "markdown",
   "metadata": {},
   "source": [
    "## Classification Example"
   ]
  },
  {
   "cell_type": "code",
   "execution_count": null,
   "metadata": {},
   "outputs": [],
   "source": []
  },
  {
   "cell_type": "code",
   "execution_count": null,
   "metadata": {},
   "outputs": [],
   "source": []
  },
  {
   "cell_type": "code",
   "execution_count": null,
   "metadata": {},
   "outputs": [],
   "source": []
  },
  {
   "cell_type": "code",
   "execution_count": null,
   "metadata": {},
   "outputs": [],
   "source": []
  },
  {
   "cell_type": "code",
   "execution_count": null,
   "metadata": {},
   "outputs": [],
   "source": []
  },
  {
   "cell_type": "code",
   "execution_count": null,
   "metadata": {},
   "outputs": [],
   "source": []
  },
  {
   "cell_type": "code",
   "execution_count": null,
   "metadata": {},
   "outputs": [],
   "source": []
  },
  {
   "cell_type": "code",
   "execution_count": null,
   "metadata": {},
   "outputs": [],
   "source": []
  },
  {
   "cell_type": "markdown",
   "metadata": {},
   "source": [
    "## Defining the Perceptron"
   ]
  },
  {
   "cell_type": "markdown",
   "metadata": {},
   "source": [
    "blah!"
   ]
  },
  {
   "cell_type": "markdown",
   "metadata": {},
   "source": [
    "### Convert to a Matrix Representation of Features"
   ]
  },
  {
   "cell_type": "markdown",
   "metadata": {},
   "source": [
    "blah! Strong Bad. blah!"
   ]
  },
  {
   "cell_type": "markdown",
   "metadata": {},
   "source": [
    "### Example Point"
   ]
  },
  {
   "cell_type": "markdown",
   "metadata": {},
   "source": [
    "and blah! again."
   ]
  },
  {
   "cell_type": "code",
   "execution_count": null,
   "metadata": {},
   "outputs": [],
   "source": []
  },
  {
   "cell_type": "markdown",
   "metadata": {},
   "source": [
    "something else"
   ]
  },
  {
   "cell_type": "code",
   "execution_count": null,
   "metadata": {},
   "outputs": [],
   "source": []
  },
  {
   "cell_type": "markdown",
   "metadata": {},
   "source": [
    "### Using an Example Session Graph"
   ]
  },
  {
   "cell_type": "code",
   "execution_count": null,
   "metadata": {},
   "outputs": [],
   "source": []
  },
  {
   "cell_type": "code",
   "execution_count": null,
   "metadata": {},
   "outputs": [],
   "source": []
  },
  {
   "cell_type": "code",
   "execution_count": null,
   "metadata": {},
   "outputs": [],
   "source": []
  },
  {
   "cell_type": "code",
   "execution_count": null,
   "metadata": {},
   "outputs": [],
   "source": []
  },
  {
   "cell_type": "code",
   "execution_count": null,
   "metadata": {},
   "outputs": [],
   "source": []
  },
  {
   "cell_type": "code",
   "execution_count": null,
   "metadata": {},
   "outputs": [],
   "source": []
  },
  {
   "cell_type": "code",
   "execution_count": null,
   "metadata": {},
   "outputs": [],
   "source": []
  },
  {
   "cell_type": "code",
   "execution_count": null,
   "metadata": {},
   "outputs": [],
   "source": []
  },
  {
   "cell_type": "markdown",
   "metadata": {},
   "source": [
    "_That's all for now, folks!_"
   ]
  },
  {
   "cell_type": "code",
   "execution_count": null,
   "metadata": {},
   "outputs": [],
   "source": []
  }
 ],
 "metadata": {
  "kernelspec": {
   "display_name": "Python 3",
   "language": "python",
   "name": "python3"
  },
  "language_info": {
   "codemirror_mode": {
    "name": "ipython",
    "version": 3
   },
   "file_extension": ".py",
   "mimetype": "text/x-python",
   "name": "python",
   "nbconvert_exporter": "python",
   "pygments_lexer": "ipython3",
   "version": "3.5.4"
  }
 },
 "nbformat": 4,
 "nbformat_minor": 4
}
