{
 "cells": [
  {
   "cell_type": "markdown",
   "metadata": {},
   "source": [
    "# Manual Neural Network\n",
    "\n",
    "This is really cool, and it's something I've wanted to do. I've got this and several other ways to do a similar thing. This one gets done first. It's going to mimic the TensorFlow API. When I get back to TensorFlow, I should have a better understanding.\n",
    "\n",
    "From Jose\n",
    "\n",
    "> In this notebook we will manually build out a neural network that mimics the TensorFlow API. This will greatly help your understanding when working with the real TensorFlow!"
   ]
  },
  {
   "cell_type": "markdown",
   "metadata": {},
   "source": [
    "<hr/>\n",
    "<br/>\n",
    "<hr/>\n",
    "<hr/>"
   ]
  },
  {
   "cell_type": "code",
   "execution_count": null,
   "metadata": {},
   "outputs": [],
   "source": [
    "##  It can be useful to see errors to know how to fix them.\n",
    "##+ However, it messes with the \"compute all cells\" type of\n",
    "##+ stuff. Here, you can decide whether to see the errors or\n",
    "##+ not. (In some places, I've put the error text in \n",
    "##+ markdown cells.)\n",
    "\n",
    "do_show_errors = False"
   ]
  },
  {
   "cell_type": "markdown",
   "metadata": {},
   "source": [
    "### Some Info About super() and Object Oriented Programming in General\n",
    "\n",
    "<hr/>"
   ]
  },
  {
   "cell_type": "code",
   "execution_count": null,
   "metadata": {},
   "outputs": [],
   "source": [
    "class SimpleClassLecture0():\n",
    "    \n",
    "    def __init__(self):\n",
    "        print(\"hello\")\n",
    "    ##endof:  __init__(self)\n",
    "    \n",
    "    \n",
    "    \n",
    "##endof:  SimpleClassLecture0"
   ]
  },
  {
   "cell_type": "code",
   "execution_count": null,
   "metadata": {},
   "outputs": [],
   "source": [
    "s = \"world\""
   ]
  },
  {
   "cell_type": "code",
   "execution_count": null,
   "metadata": {},
   "outputs": [],
   "source": [
    "type(s)"
   ]
  },
  {
   "cell_type": "code",
   "execution_count": null,
   "metadata": {},
   "outputs": [],
   "source": [
    "# s.<then press [Tab]>\n",
    "# Gives a list of methods"
   ]
  },
  {
   "cell_type": "code",
   "execution_count": null,
   "metadata": {},
   "outputs": [],
   "source": [
    "x0 = SimpleClassLecture0"
   ]
  },
  {
   "cell_type": "code",
   "execution_count": null,
   "metadata": {},
   "outputs": [],
   "source": [
    "x0 # what we get without the parentheses - __init__ doesn't get called"
   ]
  },
  {
   "cell_type": "code",
   "execution_count": null,
   "metadata": {},
   "outputs": [],
   "source": [
    "x0 = SimpleClassLecture0()"
   ]
  },
  {
   "cell_type": "code",
   "execution_count": null,
   "metadata": {},
   "outputs": [],
   "source": [
    "x0 # Instance of SimpleClassLecture and where it exists in memory"
   ]
  },
  {
   "cell_type": "code",
   "execution_count": null,
   "metadata": {},
   "outputs": [],
   "source": [
    "class SimpleClassLecture1():\n",
    "    \n",
    "    def __init__(self):\n",
    "        print(\"hello\")\n",
    "    ##endof:  __init__(self)\n",
    "    \n",
    "    def yell(self):\n",
    "        print(\"YELLING\")\n",
    "    ##endof:  yell(self)\n",
    "    \n",
    "##endof:  SimpleClassLecture1"
   ]
  },
  {
   "cell_type": "code",
   "execution_count": null,
   "metadata": {},
   "outputs": [],
   "source": [
    "x1 = SimpleClassLecture1()"
   ]
  },
  {
   "cell_type": "code",
   "execution_count": null,
   "metadata": {},
   "outputs": [],
   "source": [
    "#  I'm going to type 'x1.' then hit [Tab].\n",
    "#+ it will autocomplete 'x1.yell', after\n",
    "#+ which I'll add the parenthesis\n",
    "x1.yell()"
   ]
  },
  {
   "cell_type": "code",
   "execution_count": null,
   "metadata": {},
   "outputs": [],
   "source": [
    "# Now, I'll just type it all out.\n",
    "x1.yell()"
   ]
  },
  {
   "cell_type": "code",
   "execution_count": null,
   "metadata": {},
   "outputs": [],
   "source": [
    "##  adding in this illustration. These first calls will work fine.\n",
    "sc = SimpleClassLecture1()\n",
    "print(\"--- some separation ---\")\n",
    "sc.yell()"
   ]
  },
  {
   "cell_type": "code",
   "execution_count": null,
   "metadata": {},
   "outputs": [],
   "source": [
    "##  continuing with the illustration. This is called\n",
    "##+ as if it were the lecture notes. It will throw\n",
    "##+ an error/exception/whatever-you-want-to-call-it\n",
    "if do_show_errors:\n",
    "    sc_oops = SimpleClassLecture1(\"Basket Weaving 101\")\n",
    "    print(\"--- some separation ---\") # won't execute b/c error before\n",
    "    sc_oops.yell()                   # won't execute b/c error before\n",
    "##endof:  if do_show_errors"
   ]
  },
  {
   "cell_type": "markdown",
   "metadata": {},
   "source": [
    "OUTPUT (error) should be\n",
    "\n",
    "```\n",
    "---------------------------------------------------------------------------\n",
    "TypeError                                 Traceback (most recent call last)\n",
    "<ipython-input-87-6c1cabf9d07d> in <module>()\n",
    "      2 ##+ as if it were the lecture notes. It will throw\n",
    "      3 ##+ an error/exception/whatever-you-want-to-call-it\n",
    "----> 4 sc_oops = SimpleClassLecture1(\"Basket Weaving 101\")\n",
    "      5 print(\"--- some separation ---\") # won't execute b/c error before\n",
    "      6 sc_oops.yell()                   # won't execute b/c error before\n",
    "\n",
    "TypeError: __init__() takes 1 positional argument but 2 were given\n",
    "```"
   ]
  },
  {
   "cell_type": "markdown",
   "metadata": {},
   "source": [
    "<b>Remember the code:</b>\n",
    "\n",
    "```\n",
    "class SimpleClassLecture1():\n",
    "    \n",
    "    def __init__(self):\n",
    "        print(\"hello\")\n",
    "    ##endof:  __init__(self)\n",
    "    \n",
    "    def yell(self):\n",
    "        print(\"YELLING\")\n",
    "    ##endof:  yell(self)\n",
    "    \n",
    "##endof:  SimpleClassLecture1\n",
    "```"
   ]
  },
  {
   "cell_type": "code",
   "execution_count": null,
   "metadata": {},
   "outputs": [],
   "source": [
    "class ExtendedClassLecture0(SimpleClassLecture1):\n",
    "    \n",
    "    def __init__(self):\n",
    "        \n",
    "        print(\"EXTEND!\")\n",
    "        \n",
    "    ##endof:  __init__(self)\n",
    "    \n",
    "##endof:  ExtendedClassLecture0(SimpleClassLecture1)"
   ]
  },
  {
   "cell_type": "code",
   "execution_count": null,
   "metadata": {},
   "outputs": [],
   "source": [
    "y0 = ExtendedClassLecture0()\n",
    "#  Remember, there's no 'super' call for '__init__'"
   ]
  },
  {
   "cell_type": "code",
   "execution_count": null,
   "metadata": {},
   "outputs": [],
   "source": [
    "#  No 'super' with '__init__', but other things work\n",
    "y0.yell()"
   ]
  },
  {
   "cell_type": "markdown",
   "metadata": {},
   "source": [
    "Now, let's use the `super` keyword."
   ]
  },
  {
   "cell_type": "code",
   "execution_count": null,
   "metadata": {},
   "outputs": [],
   "source": [
    "class ExtendedClassLecture1(SimpleClassLecture1):\n",
    "    \n",
    "    def __init__(self):\n",
    "        \n",
    "        super().__init__()\n",
    "        print(\"EXTEND!\")\n",
    "    ##endof:  __init__(self)\n",
    "    \n",
    "##endof:  ExtendedClassLecture(SimpleClassLecture)"
   ]
  },
  {
   "cell_type": "code",
   "execution_count": null,
   "metadata": {},
   "outputs": [],
   "source": [
    "y1 = ExtendedClassLecture1()"
   ]
  },
  {
   "cell_type": "code",
   "execution_count": null,
   "metadata": {},
   "outputs": [],
   "source": [
    "y1.yell()"
   ]
  },
  {
   "cell_type": "markdown",
   "metadata": {},
   "source": [
    "Here, we're going to add an argument to the `SimpleClass` `__init__` (i.e. its constructor). Since this is the final state in which Jose leaves it, I'm going to use `SimpleClassLecture` instead of continuing with `SimpleClassLecture2`. I'll do similarly with the extended class - using `ExtendedClassLecture` instead of staying with the pattern and using `ExtendedClassLecture2`."
   ]
  },
  {
   "cell_type": "code",
   "execution_count": null,
   "metadata": {},
   "outputs": [],
   "source": [
    "class SimpleClassLecture():\n",
    "    \n",
    "    def __init__(self, name):\n",
    "        print(\"hello \" + name) #  Jose put the space here, which\n",
    "                               #+ I consider the correct place.\n",
    "            #+ a minute or so after 1701113954_2023-11-27T123914-0700\n",
    "    ##endof:  __init__(self)\n",
    "    \n",
    "    def yell(self):\n",
    "        print(\"YELLING\")\n",
    "    ##endof:  yell(self)\n",
    "    \n",
    "##endof:  SimpleClassLecture1"
   ]
  },
  {
   "cell_type": "code",
   "execution_count": null,
   "metadata": {},
   "outputs": [],
   "source": [
    "x = SimpleClassLecture(\"Dave\")"
   ]
  },
  {
   "cell_type": "code",
   "execution_count": null,
   "metadata": {},
   "outputs": [],
   "source": [
    "x.yell()"
   ]
  },
  {
   "cell_type": "code",
   "execution_count": null,
   "metadata": {},
   "outputs": [],
   "source": [
    "class ExtendedClassLecture(SimpleClassLecture):\n",
    "    \n",
    "    def __init__(self):\n",
    "        \n",
    "        super().__init__(\"Davidushka!\")\n",
    "        print(\"EXTEND!\")\n",
    "        \n",
    "    ##endof:  __init__(self)\n",
    "    \n",
    "##endof:  ExtendedClassLecture(SimpleClassLecture)"
   ]
  },
  {
   "cell_type": "code",
   "execution_count": null,
   "metadata": {},
   "outputs": [],
   "source": [
    "y = ExtendedClassLecture()"
   ]
  },
  {
   "cell_type": "code",
   "execution_count": null,
   "metadata": {},
   "outputs": [],
   "source": [
    "y.yell()"
   ]
  },
  {
   "cell_type": "markdown",
   "metadata": {},
   "source": [
    "<hr/>"
   ]
  },
  {
   "cell_type": "markdown",
   "metadata": {},
   "source": [
    "<b>From the class material</b>"
   ]
  },
  {
   "cell_type": "code",
   "execution_count": null,
   "metadata": {},
   "outputs": [],
   "source": [
    "class SimpleClass():\n",
    "    \n",
    "    def __init__(self, str_input):\n",
    "        #  DWB: I'm not fixing his lack of space after \"SIMPLE\". \n",
    "        #+      1701111285_2023-11-27T115445-0700\n",
    "        print(\"SIMPLE\" + str_input)\n",
    "    ##endof:  __init__(self, str_input)\n",
    "        \n",
    "##endof:  SimpleClass"
   ]
  },
  {
   "cell_type": "markdown",
   "metadata": {},
   "source": [
    "I'll do the same two illustrations."
   ]
  },
  {
   "cell_type": "code",
   "execution_count": null,
   "metadata": {},
   "outputs": [],
   "source": [
    "if do_show_errors:\n",
    "    sc = SimpleClass() # will throw an error\n",
    "##endof:  if do_show_errors"
   ]
  },
  {
   "cell_type": "markdown",
   "metadata": {},
   "source": [
    "OUTPUT (which is an error) should be:\n",
    "\n",
    "```\n",
    "---------------------------------------------------------------------------\n",
    "TypeError                                 Traceback (most recent call last)\n",
    "<ipython-input-29-1a19d7d610fd> in <module>()\n",
    "----> 1 sc = SimpleClass() # will throw an error\n",
    "\n",
    "TypeError: __init__() missing 1 required positional argument: 'str_input'\n",
    "```"
   ]
  },
  {
   "cell_type": "code",
   "execution_count": null,
   "metadata": {},
   "outputs": [],
   "source": [
    "##  This one should work fine, though the lack of a space between\n",
    "##+ \"SIMPLE\" and \"Basket Weaving 101\" - i.e. \n",
    "##+ \"SIMPLEBasket Weaving 101\", grates on my nerves a bit. Q&R\n",
    "sc = SimpleClass(\"Basket Weaving 101\")"
   ]
  },
  {
   "cell_type": "markdown",
   "metadata": {},
   "source": [
    "Remember the code (defined in the lecture notes)\n",
    "\n",
    "```\n",
    "class SimpleClass():\n",
    "    \n",
    "    def __init__(self, str_input):\n",
    "        #  DWB: I'm not fixing his lack of space after \"SIMPLE\". \n",
    "        #+      1701111285_2023-11-27T115445-0700\n",
    "        print(\"SIMPLE\" + str_input)\n",
    "    ##endof:  __init__(self, str_input)\n",
    "        \n",
    "##endof:  SimpleClass\n",
    "```"
   ]
  },
  {
   "cell_type": "code",
   "execution_count": null,
   "metadata": {},
   "outputs": [],
   "source": [
    "class ExtendedClassNoSuper(SimpleClass):\n",
    "    \n",
    "    def __init__(self):\n",
    "        print('EXTENDED')\n",
    "    ## endof:  __init__(self)\n",
    "\n",
    "##endof:  ExtendedClassNoSuper"
   ]
  },
  {
   "cell_type": "code",
   "execution_count": null,
   "metadata": {},
   "outputs": [],
   "source": [
    "s = ExtendedClassNoSuper()"
   ]
  },
  {
   "cell_type": "markdown",
   "metadata": {},
   "source": [
    "With the output, remember that we <i>overwrote</i> the `__init__(self)` method."
   ]
  },
  {
   "cell_type": "markdown",
   "metadata": {},
   "source": [
    "What I'll call `ExtendedClass` is building upon the `ExtendedClassNoSuper` code. I could have added `Super` at the end (`ExtendedClassSuper`), or I could have done as the lecture notes did and call both `ExtendedClass`, with one replacing the other. Anyway, `ExtendedClass` will use `super`."
   ]
  },
  {
   "cell_type": "code",
   "execution_count": null,
   "metadata": {},
   "outputs": [],
   "source": [
    "#  remember to use 'class' instead of 'def'\n",
    "#+ (Oops, DWB 1701111919_2023-11-27T120519-0700)\n",
    "\n",
    "class ExtendedClass(SimpleClass):\n",
    "    \n",
    "    def __init__(self):\n",
    "        \n",
    "        super().__init__(\" My String\") # Jose puts the space in the string here.\n",
    "        print('EXTENDED')\n",
    "        \n",
    "    ##endof:  def __init__(self)\n",
    "    \n",
    "##endof:  ExtendedClass"
   ]
  },
  {
   "cell_type": "code",
   "execution_count": null,
   "metadata": {},
   "outputs": [],
   "source": [
    "s = ExtendedClass()"
   ]
  },
  {
   "cell_type": "markdown",
   "metadata": {},
   "source": [
    "<hr/>\n",
    "<hr/>\n",
    "<br/>\n",
    "<hr/>\n",
    "<hr/>\n",
    "<br/>\n",
    "\n",
    "## We've finished learning some OOP stuff - now for the Manual NN\n",
    "\n",
    "<br/>\n",
    "<hr/>\n",
    "<br/>"
   ]
  },
  {
   "cell_type": "markdown",
   "metadata": {},
   "source": [
    "I've put in a bunch of stuff which should give some general idea of what's going on (though there will be a lot of memory addresses rather than useful info). You can turn this on or off in the next cell."
   ]
  },
  {
   "cell_type": "code",
   "execution_count": null,
   "metadata": {},
   "outputs": [],
   "source": [
    "global_do_show_steps_bool = True"
   ]
  },
  {
   "cell_type": "markdown",
   "metadata": {},
   "source": [
    "## Operation"
   ]
  },
  {
   "cell_type": "markdown",
   "metadata": {},
   "source": [
    "### Lecture Version - with Dave's additions"
   ]
  },
  {
   "cell_type": "code",
   "execution_count": null,
   "metadata": {},
   "outputs": [],
   "source": [
    "class Operation():\n",
    "    \n",
    "    def __init__(self, input_nodes=[], \n",
    "                 do_show_steps=global_do_show_steps_bool):\n",
    "        \n",
    "        if do_show_steps:\n",
    "            dashes = \"-\"*50\n",
    "            print(\"\\n\\n\" + dashes)\n",
    "            print(\"In __init__\")\n",
    "            print()\n",
    "        ##endof:  if do_show_steps\n",
    "        \n",
    "        self.input_nodes = input_nodes\n",
    "        \n",
    "        if do_show_steps:\n",
    "            print(\"\\n Now,   self.input_nodes = \")\n",
    "            print(\"     \" + str(self.input_nodes))\n",
    "            print()\n",
    "        ##endof:  if do_show_steps\n",
    "        \n",
    "        self.output_nodes = []\n",
    "        \n",
    "        for node in input_nodes:\n",
    "            if do_show_steps:\n",
    "                print(\"\\n Current node is:\")\n",
    "                print(\"     node = \" + str(node))\n",
    "                print()\n",
    "            ##endof:  if do_show_steps\n",
    "            \n",
    "            node.output_nodes.append(self)\n",
    "            \n",
    "            if do_show_steps:\n",
    "                print(\"\\n After assignment, node.output_nodes.append(self)\")\n",
    "                print(\"     node = \" + str(node))\n",
    "                print()\n",
    "                print(dashes)\n",
    "                print()\n",
    "            ##endof:  if do_show_steps\n",
    "            \n",
    "        ##endof:  for node in input_nodes\n",
    "        \n",
    "        if do_show_steps:\n",
    "            print(\"\\n Before appending  self  to  _default_graph,\")\n",
    "            print(\"     _default_graph = \")\n",
    "            print(\"               \" + str(_default_graph))\n",
    "            print()\n",
    "        ##endof:  if do_show_steps\n",
    "        \n",
    "        _default_graph.operations.append(self) #  Came back to add this\n",
    "                                               #+ after we had created\n",
    "                                               #+ the graph class\n",
    "        \n",
    "        if do_show_steps:\n",
    "            print(\"\\n After appending  self  to  _default_graph,\")\n",
    "            print(\"     _default_graph = \")\n",
    "            print(\"               \" + str(_default_graph))\n",
    "            print()\n",
    "        ##endof:  if do_show_steps\n",
    "        \n",
    "    ##endof:  __init__(self, input_nodes=[]):\n",
    "    \n",
    "    def compute(self):\n",
    "        pass\n",
    "    ##endof:  compute(self)\n",
    "    \n",
    "##endof:  Operation"
   ]
  },
  {
   "cell_type": "markdown",
   "metadata": {},
   "source": [
    "### Course Notes Version"
   ]
  },
  {
   "cell_type": "code",
   "execution_count": null,
   "metadata": {},
   "outputs": [],
   "source": [
    "class OperationCNV():\n",
    "    '''\n",
    "    An Operation is a node in a \"Graph\". TensorFlow will also use this concept of a Graph.\n",
    "    \n",
    "    This Operation class will be inherited by other classes that actually compute the specific\n",
    "    operation, such as adding or matrix multiplication.\n",
    "    '''\n",
    "    \n",
    "    def __init__(self, input_nodes=[]):\n",
    "        '''\n",
    "        Initialize an Operation\n",
    "        '''\n",
    "        \n",
    "        self.input_nodes = input_nodes #  The list of input nodes coming in to the node\n",
    "        self.output_nodes = []          #  List of nodes that will consume the output\n",
    "                                       #+ of this node\n",
    "        \n",
    "        #  For every node in the input, we append this operation (self) to the list of\n",
    "        #+ to the list of the input nodes' consumers (i.e. this operation becomes an\n",
    "        #+ output node)\n",
    "        for node in input_nodes:\n",
    "            node.output_nodes.append(self)\n",
    "        ##endof:  for node in input_nodes\n",
    "        \n",
    "        #  There will be a global default graph (TensorFlow works this way)\n",
    "        #+ We will append this particular operation (to the global default graph)\n",
    "        #\n",
    "        #  Append this operation to the list of operations in the currently-active\n",
    "        #+ default graph\n",
    "        _default_graph.operations.append(self)\n",
    "        \n",
    "    ##endof:  __init_(self, input_nodes=[])\n",
    "    \n",
    "    def compute(self):\n",
    "        '''\n",
    "        This is a placeholder function. It will be overwritten by the actual specific operation \n",
    "        that inherits from this class\n",
    "        '''\n",
    "        \n",
    "        pass\n",
    "        \n",
    "    ##endof:  compute(self)\n",
    "    \n",
    "##endof:  class OperationCNV()"
   ]
  },
  {
   "cell_type": "markdown",
   "metadata": {},
   "source": [
    "## Example Operations"
   ]
  },
  {
   "cell_type": "markdown",
   "metadata": {},
   "source": [
    "### Addition"
   ]
  },
  {
   "cell_type": "markdown",
   "metadata": {},
   "source": [
    "#### Lecture Version - with Dave's additions"
   ]
  },
  {
   "cell_type": "code",
   "execution_count": null,
   "metadata": {},
   "outputs": [],
   "source": [
    "class Add(Operation):\n",
    "    \n",
    "    def __init__(self, x, y, \n",
    "                 do_show_steps=global_do_show_steps_bool):\n",
    "        \n",
    "        self.do_show_steps = do_show_steps\n",
    "        \n",
    "        if self.do_show_steps:\n",
    "            dashes = \"-\"*35\n",
    "            print(\"\\n\" + dashes)\n",
    "            print(\"\\n Initializing an  Add  operation\")\n",
    "            print()\n",
    "        ##endof:  if do_show_steps\n",
    "        super().__init__([x, y])\n",
    "        \n",
    "        \n",
    "        \n",
    "    ##endof:  __init__(self, x, y)\n",
    "    \n",
    "    def compute(self, x_var, y_var):\n",
    "        \n",
    "        if self.do_show_steps:\n",
    "            print(\"\\n Now, computing the  Add  operation \")\n",
    "            print()\n",
    "        ##endof:  if do_show_steps\n",
    "        \n",
    "        self.inputs = [x_var, y_var]\n",
    "        \n",
    "        if self.do_show_steps:\n",
    "            print(\"\\n Now,   self.inputs = \")\n",
    "            print(\"     \" + str(self.inputs))\n",
    "            print()\n",
    "        ##endof:  if do_show_steps\n",
    "        \n",
    "        result_of_add = x_var + y_var\n",
    "        \n",
    "        if self.do_show_steps:\n",
    "            print(\"\\n We will return\")\n",
    "            print(\"     result_of_add = \" + str(result_of_add))\n",
    "            dashes = \"-\"*35\n",
    "            print(dashes)\n",
    "            print()\n",
    "        ##endof:  if do_show_steps\n",
    "        \n",
    "        return result_of_add\n",
    "        \n",
    "    ##endof:  compute(self, x_var, y_var):\n",
    "    \n",
    "##endof:  class Add(Operation)"
   ]
  },
  {
   "cell_type": "markdown",
   "metadata": {},
   "source": [
    "#### Course Notes Version"
   ]
  },
  {
   "cell_type": "code",
   "execution_count": null,
   "metadata": {},
   "outputs": [],
   "source": [
    "class addCNV(OperationCNV):\n",
    "    \n",
    "    def __init__(self, x, y):\n",
    "        \n",
    "        super().__init__([x, y])\n",
    "        \n",
    "    ##endof:  __init__(self, x, y)\n",
    "    \n",
    "    def compute(self, x_var, y_var):\n",
    "        \n",
    "        self.inputs = [x_var, y_var]\n",
    "        return x_var + y_var\n",
    "        \n",
    "    ##endof:  compute(self, x_var, y_var)\n",
    "    \n",
    "##endof:  addCNV(OperationCNV)"
   ]
  },
  {
   "cell_type": "markdown",
   "metadata": {},
   "source": [
    "### Multiplication"
   ]
  },
  {
   "cell_type": "markdown",
   "metadata": {},
   "source": [
    "#### Lecture Version - with Dave's additions"
   ]
  },
  {
   "cell_type": "code",
   "execution_count": null,
   "metadata": {},
   "outputs": [],
   "source": [
    "class Multiply(Operation):\n",
    "    \n",
    "    def __init__(self, x, y, \n",
    "                 do_show_steps=global_do_show_steps_bool):\n",
    "        \n",
    "        self.do_show_steps = do_show_steps\n",
    "        \n",
    "        if self.do_show_steps:\n",
    "            dashes = \"-\"*35\n",
    "            print(\"\\n\" + dashes)\n",
    "            print(\"\\n Initializing a  Multiply  operation\")\n",
    "            print()\n",
    "        ##endof:  if do_show_steps\n",
    "        super().__init__([x, y])\n",
    "    ##endof:  __init__(self, x, y)\n",
    "    \n",
    "    def compute(self, x_var, y_var):\n",
    "        \n",
    "        if self.do_show_steps:\n",
    "            print(\"\\n Now, computing the  Multiply  operation \")\n",
    "            print()\n",
    "        ##endof:  if do_show_steps\n",
    "        \n",
    "        self.inputs = [x_var, y_var]\n",
    "        \n",
    "        if self.do_show_steps:\n",
    "            print(\"\\n Now,   self.inputs = \")\n",
    "            print(\"     \" + str(self.inputs))\n",
    "            print()\n",
    "        ##endof:  if do_show_steps\n",
    "        \n",
    "        result_of_multiply = x_var * y_var\n",
    "        \n",
    "        if self.do_show_steps:\n",
    "            print(\"\\n We will return\")\n",
    "            print(\"     result_of_multiply = \" + str(result_of_multiply))\n",
    "            dashes = \"-\"*35\n",
    "            print(dashes)\n",
    "            print()\n",
    "        ##endof:  if do_show_steps\n",
    "        \n",
    "        return result_of_multiply\n",
    "        \n",
    "    ##endof:  compute(self, x_var, y_var):\n",
    "    \n",
    "##endof:  class Multiply(Operation)"
   ]
  },
  {
   "cell_type": "markdown",
   "metadata": {},
   "source": [
    "#### Course Notes Version"
   ]
  },
  {
   "cell_type": "code",
   "execution_count": null,
   "metadata": {},
   "outputs": [],
   "source": [
    "class multiplyCNV(OperationCNV):\n",
    "    \n",
    "    def __init__(self, a, b):\n",
    "        \n",
    "        super().__init__([a, b])\n",
    "        \n",
    "    ##endof:  __init__(self, a, b)\n",
    "    \n",
    "    def compute(self, a_var, b_var):\n",
    "        \n",
    "        self.inputs = [a_var, b_var]\n",
    "        return a_var * b_var\n",
    "        \n",
    "    ##endof:  compute(self, a_var, b_var)\n",
    "    \n",
    "##endof:  multiplyCNV(OperationCNV)"
   ]
  },
  {
   "cell_type": "markdown",
   "metadata": {},
   "source": [
    "### Matrix Multiplication"
   ]
  },
  {
   "cell_type": "markdown",
   "metadata": {},
   "source": [
    "#### Lecture Version - with Dave's additions"
   ]
  },
  {
   "cell_type": "code",
   "execution_count": null,
   "metadata": {},
   "outputs": [],
   "source": [
    "class MatMul(Operation):\n",
    "    \n",
    "    def __init__(self, x, y, \n",
    "                 do_show_steps=global_do_show_steps_bool):\n",
    "        \n",
    "        self.do_show_steps = do_show_steps\n",
    "        \n",
    "        if self.do_show_steps:\n",
    "            dashes = \"-\"*35\n",
    "            print(\"\\n\" + dashes)\n",
    "            print(\"\\n Initializing a  MatMul  operation\")\n",
    "            print()\n",
    "        ##endof:  if do_show_steps\n",
    "        super().__init__([x, y])\n",
    "    ##endof:  __init__(self, x, y)\n",
    "    \n",
    "    def compute(self, x_var, y_var):\n",
    "        \n",
    "        if self.do_show_steps:\n",
    "            print(\"\\n Now, computing the  MatMul  operation \")\n",
    "            print()\n",
    "        ##endof:  if do_show_steps\n",
    "        \n",
    "        self.inputs = [x_var, y_var]\n",
    "        \n",
    "        if self.do_show_steps:\n",
    "            print(\"\\n Now,   self.inputs = \")\n",
    "            print(\"     \" + str(self.inputs))\n",
    "            print()\n",
    "        ##endof:  if do_show_steps\n",
    "        \n",
    "        #  We're assuming we have numpy arrays (matrices), so we can\n",
    "        #+ use the  var.dot()  operation\n",
    "        result_of_matmul = x_var.dot(y_var)\n",
    "        \n",
    "        if self.do_show_steps:\n",
    "            print(\"\\n We will return\")\n",
    "            print(\"     result_of_matmul = \" + str(result_of_matmul))\n",
    "            dashes = \"-\"*35\n",
    "            print(dashes)\n",
    "            print()\n",
    "        ##endof:  if do_show_steps\n",
    "        \n",
    "        return result_of_matmul\n",
    "        \n",
    "    ##endof:  compute(self, x_var, y_var):\n",
    "    \n",
    "##endof:  class MatMul(Operation)"
   ]
  },
  {
   "cell_type": "markdown",
   "metadata": {},
   "source": [
    "#### Course Notes Version"
   ]
  },
  {
   "cell_type": "code",
   "execution_count": null,
   "metadata": {},
   "outputs": [],
   "source": [
    "class matmulCNV(OperationCNV):\n",
    "    \n",
    "    def __init__(self, a, b):\n",
    "        \n",
    "        super().__init__([a, b])\n",
    "        \n",
    "    ##endof:  __init__(self, a, b)\n",
    "    \n",
    "    def compute(self, a_mat, b_mat):\n",
    "        \n",
    "        self.inputs = [a_mat, b_mat]\n",
    "        return a_mat.dot(b_mat)\n",
    "        \n",
    "    ##endof:  compute(self, a_mat, b_mat)\n",
    "    \n",
    "##endof:  matmulCNV(OperationCNV)"
   ]
  },
  {
   "cell_type": "markdown",
   "metadata": {},
   "source": [
    "## Placeholders"
   ]
  },
  {
   "cell_type": "markdown",
   "metadata": {},
   "source": [
    "#### Lecture Version - with (maybe) Dave's additions"
   ]
  },
  {
   "cell_type": "code",
   "execution_count": null,
   "metadata": {},
   "outputs": [],
   "source": [
    "class Placeholder():\n",
    "    \n",
    "    def __init__(self):\n",
    "        \n",
    "        self.output_nodes = []\n",
    "        \n",
    "        _default_graph.placeholders.append(self) #  this is added in during\n",
    "                                                 #+ the course of the lecture.\n",
    "                                                 #+ whereas those before\n",
    "                                                 #+ weren't\n",
    "        \n",
    "    ##endof:  __init__(self)\n",
    "    \n",
    "##endof:  Placeholder()"
   ]
  },
  {
   "cell_type": "markdown",
   "metadata": {},
   "source": [
    "#### Course Notes Version"
   ]
  },
  {
   "cell_type": "code",
   "execution_count": null,
   "metadata": {},
   "outputs": [],
   "source": [
    "class PlaceholderCNV():\n",
    "    '''\n",
    "    A placeholder is a node that needs to be provided a value for \n",
    "    computing the output in the graph.\n",
    "    '''\n",
    "    \n",
    "    def __init__(self):\n",
    "        \n",
    "        self.output_nodes = []\n",
    "        \n",
    "        _default_graph.placeholders.append(self) #  this is added in during\n",
    "                                                 #+ the course of the lecture.\n",
    "                                                 #+ whereas those before\n",
    "                                                 #+ weren't\n",
    "        \n",
    "    ##endof:  __init__(self)\n",
    "    \n",
    "##endof:  PlaceholderCNV()"
   ]
  },
  {
   "cell_type": "markdown",
   "metadata": {},
   "source": [
    "## Variables"
   ]
  },
  {
   "cell_type": "markdown",
   "metadata": {},
   "source": [
    "#### Lecture Version - with (maybe) Dave's additions"
   ]
  },
  {
   "cell_type": "code",
   "execution_count": null,
   "metadata": {},
   "outputs": [],
   "source": [
    "class Variable():\n",
    "    \n",
    "    def __init__(self, initial_value=None):\n",
    "        \n",
    "        self.value = initial_value\n",
    "        self.output_nodes = []\n",
    "        \n",
    "        _default_graph.variables.append(self)\n",
    "        \n",
    "    ##endof:  __init__(self, initial_value=None)\n",
    "    \n",
    "##endof:  class Variable"
   ]
  },
  {
   "cell_type": "markdown",
   "metadata": {},
   "source": [
    "#### Course Notes Version"
   ]
  },
  {
   "cell_type": "code",
   "execution_count": null,
   "metadata": {},
   "outputs": [],
   "source": [
    "class VariableCNV():\n",
    "    '''\n",
    "    This variable is a changeable parameter of the Graph.\n",
    "    (Jose said we can think of it as a weight.)\n",
    "    '''\n",
    "    \n",
    "    def __init__(self, initial_value=None):\n",
    "        \n",
    "        self.value = initial_value\n",
    "        self.output_nodes = []\n",
    "        \n",
    "        _default_graph.variables.append(self)\n",
    "        \n",
    "    ##endof:  __init__(self, initial_value=None)\n",
    "    \n",
    "##endof:  VariableCNV()"
   ]
  },
  {
   "cell_type": "markdown",
   "metadata": {},
   "source": [
    "## Graph"
   ]
  },
  {
   "cell_type": "markdown",
   "metadata": {},
   "source": [
    "#### Lecture Version - with (maybe) Dave's additions"
   ]
  },
  {
   "cell_type": "code",
   "execution_count": null,
   "metadata": {},
   "outputs": [],
   "source": [
    "class Graph():\n",
    "    \n",
    "    def __init__(self):\n",
    "        \n",
    "        self.operations = []\n",
    "        self.placeholders = []\n",
    "        self.variables = []\n",
    "        \n",
    "    ##endof:  __init__(self)\n",
    "    \n",
    "    def set_as_default(self):\n",
    "        \n",
    "        global _default_graph\n",
    "        _default_graph = self\n",
    "        \n",
    "    ##endof:  set_as_default(self)\n",
    "    \n",
    "##endof:  Graph()"
   ]
  },
  {
   "cell_type": "markdown",
   "metadata": {},
   "source": [
    "#### Course Notes Version"
   ]
  },
  {
   "cell_type": "code",
   "execution_count": null,
   "metadata": {},
   "outputs": [],
   "source": [
    "class GraphCNV():\n",
    "    '''\n",
    "    No docstring in the course notes\n",
    "    '''\n",
    "    \n",
    "    def __init__(self):\n",
    "        \n",
    "        self.operations = []\n",
    "        self.placeholders = []\n",
    "        self.variables = []\n",
    "        \n",
    "    ##endof:  def __init__(self)\n",
    "    \n",
    "    def set_as_default(self):\n",
    "        '''\n",
    "        Sets this Graph instance as the Global Default Graph\n",
    "        '''\n",
    "        \n",
    "        global _default_graph\n",
    "        _default_graph = self\n",
    "        \n",
    "    ##endof:  set_as_default(self)\n",
    "    \n",
    "##endof:  GraphCNV()"
   ]
  },
  {
   "cell_type": "markdown",
   "metadata": {},
   "source": [
    "## A Basic Graph"
   ]
  },
  {
   "cell_type": "markdown",
   "metadata": {},
   "source": [
    "$$ z = Ax + b $$\n",
    "\n",
    "With $A = 10$ and $b = 1$\n",
    "\n",
    "$$ z = 10x + 1 $$\n",
    "\n",
    "Just need a placeholder for $x$ and then, once $x$ is filled in, we can solve it!"
   ]
  },
  {
   "cell_type": "code",
   "execution_count": null,
   "metadata": {},
   "outputs": [],
   "source": [
    "g = Graph()"
   ]
  },
  {
   "cell_type": "code",
   "execution_count": null,
   "metadata": {},
   "outputs": [],
   "source": [
    "g.set_as_default()"
   ]
  },
  {
   "cell_type": "code",
   "execution_count": null,
   "metadata": {},
   "outputs": [],
   "source": [
    "A = Variable(10)"
   ]
  },
  {
   "cell_type": "code",
   "execution_count": null,
   "metadata": {},
   "outputs": [],
   "source": [
    "b = Variable(1)"
   ]
  },
  {
   "cell_type": "code",
   "execution_count": null,
   "metadata": {},
   "outputs": [],
   "source": [
    "# Jose comments, \"Will be filled out later\"\n",
    "x = Placeholder()"
   ]
  },
  {
   "cell_type": "code",
   "execution_count": null,
   "metadata": {},
   "outputs": [],
   "source": [
    "y = Multiply(A, x)"
   ]
  },
  {
   "cell_type": "code",
   "execution_count": null,
   "metadata": {},
   "outputs": [],
   "source": [
    "z = Add(y, b)"
   ]
  },
  {
   "cell_type": "markdown",
   "metadata": {},
   "source": [
    "<b>A Comment or 2</b>\n",
    "\n",
    "Now, we just need to actually compute the $z$. We need to add in 1) a traverse-post-order function, which allows a post order traversal of nodes, which is necessary to make sure the computation is done in the correct order; 2) a Session class, which actually executes this graph.\n"
   ]
  },
  {
   "cell_type": "markdown",
   "metadata": {},
   "source": [
    "#### The Basic Graph with the Course Notes Version"
   ]
  },
  {
   "cell_type": "code",
   "execution_count": null,
   "metadata": {},
   "outputs": [],
   "source": [
    "g_CNV = GraphCNV()"
   ]
  },
  {
   "cell_type": "code",
   "execution_count": null,
   "metadata": {},
   "outputs": [],
   "source": [
    "g_CNV.set_as_default()"
   ]
  },
  {
   "cell_type": "code",
   "execution_count": null,
   "metadata": {},
   "outputs": [],
   "source": [
    "A_CNV = VariableCNV(10)"
   ]
  },
  {
   "cell_type": "code",
   "execution_count": null,
   "metadata": {},
   "outputs": [],
   "source": [
    "b_CNV = VariableCNV(1)"
   ]
  },
  {
   "cell_type": "code",
   "execution_count": null,
   "metadata": {},
   "outputs": [],
   "source": [
    "x_CNV = PlaceholderCNV()"
   ]
  },
  {
   "cell_type": "code",
   "execution_count": null,
   "metadata": {},
   "outputs": [],
   "source": [
    "y_CNV = multiplyCNV(A_CNV, x_CNV)"
   ]
  },
  {
   "cell_type": "code",
   "execution_count": null,
   "metadata": {},
   "outputs": [],
   "source": [
    "z_CNV = addCNV(y_CNV, b_CNV)"
   ]
  },
  {
   "cell_type": "markdown",
   "metadata": {},
   "source": [
    "<b>We got here, and everything computes</b>, both for my lecture version and the course notes version. When I go through the next lecture, I'll commment out the Course Notes Version. I might come back and do the Course Notes Version. The problem now isn't the same variable names (though I added `'_CNV'` to all of them) - it's the `Graph.set_as_default` function.\n",
    "\n",
    "DWB\n",
    "\n",
    "`1701317785_2023-11-29T211625-0700`\n",
    "\n",
    "Actually, I think both would be fine, but I'm not going to spend the extra time doing both.\n",
    "\n",
    "`1701394493_2023-11-30T183453-0700`"
   ]
  },
  {
   "cell_type": "markdown",
   "metadata": {},
   "source": [
    "## Session"
   ]
  },
  {
   "cell_type": "code",
   "execution_count": null,
   "metadata": {},
   "outputs": [],
   "source": [
    "import numpy as np"
   ]
  },
  {
   "cell_type": "markdown",
   "metadata": {},
   "source": [
    "Check on graphs, due to error."
   ]
  },
  {
   "cell_type": "code",
   "execution_count": null,
   "metadata": {},
   "outputs": [],
   "source": [
    "g"
   ]
  },
  {
   "cell_type": "code",
   "execution_count": null,
   "metadata": {},
   "outputs": [],
   "source": [
    "g_CNV"
   ]
  },
  {
   "cell_type": "code",
   "execution_count": null,
   "metadata": {},
   "outputs": [],
   "source": [
    "g == g_CNV"
   ]
  },
  {
   "cell_type": "markdown",
   "metadata": {},
   "source": [
    "### Traversing Operation Nodes"
   ]
  },
  {
   "cell_type": "markdown",
   "metadata": {},
   "source": [
    "#### Lecture Version of Classes - with Dave's additions - AND of Running the Session"
   ]
  },
  {
   "cell_type": "code",
   "execution_count": null,
   "metadata": {},
   "outputs": [],
   "source": [
    "def traverse_postorder(operation, \n",
    "                       do_show_steps=global_do_show_steps_bool):\n",
    "\n",
    "    '''\n",
    "    PostOrder Traversal of Nodes. Basically makes sure computations are\n",
    "    done in the correct order ( A*x first , then A*x + b ). Feel free\n",
    "    to copy and paste this code. (DWB 1701792896_2023-12-05T091456-0700,\n",
    "    nope, typing it out). It is not super important for understanding \n",
    "    the basic fundamentals of deep learning.\n",
    "    '''\n",
    "    \n",
    "    nodes_postorder = []\n",
    "    def recurse(node):\n",
    "        if do_show_steps:\n",
    "            dashes = \"-\"*40\n",
    "            print(\"\\n\" + dashes)\n",
    "            print(\"\\n Inside  recurse(node)\")\n",
    "            print()\n",
    "            print(\"     node = \" + str(node))\n",
    "            print()\n",
    "        ##endof:  if do_show_steps\n",
    "        if isinstance(node, Operation):\n",
    "            if do_show_steps:\n",
    "                print(\"\\n node, \" + str(node))\n",
    "                print(\" is an  Operation\")\n",
    "            ##endof:  if do_show_steps\n",
    "            for input_node in node.input_nodes:\n",
    "                if do_show_steps:\n",
    "                    print(\"\\n Current  input_node = \")\n",
    "                    print(str(input_node))\n",
    "                ##endof:  if do_show_steps\n",
    "                recurse(input_node)\n",
    "            ##endof:  for input_node in node.input_nodes\n",
    "        ##endof:  if isinstance(node, Operation)\n",
    "        \n",
    "        nodes_postorder.append(node)\n",
    "        \n",
    "    ##endof:  recurse(node)\n",
    "    \n",
    "    if do_show_steps:\n",
    "        dashes = \"-\"*43\n",
    "        print(\"\\n\\n\" + dashes)\n",
    "        print(\"\\n Calling  recurse(operation)\")\n",
    "        print(\"\\n     with operation = \")\n",
    "        print(str(operation))\n",
    "        print()\n",
    "    ##endof:  if do_show_steps\n",
    "    recurse(operation)\n",
    "    \n",
    "    if do_show_steps:\n",
    "        print(\"\\n\\n\")\n",
    "        dashes = \"-\"*43\n",
    "        print(\"\\n\\n\")\n",
    "        print(\"Exited the recursion\")\n",
    "        print(\"\\n\")\n",
    "        print(\" We now have  nodes_postorder = \")\n",
    "        print(str(nodes_postorder))\n",
    "        print()\n",
    "    ##endof:  if do_show_steps\n",
    "    return nodes_postorder\n",
    "    \n",
    "##endof traverse_postorder(operation)"
   ]
  },
  {
   "cell_type": "code",
   "execution_count": null,
   "metadata": {},
   "outputs": [],
   "source": [
    "class Session():\n",
    "    \n",
    "    ##  use  operation  and  feed_dict  as these are the names used by\n",
    "    ##+ TensorFlow.  feed_dict matches placeholders to input values.\n",
    "    ##+ Later on, we'll feed our network batches of data through that\n",
    "    ##+ dictionary.\n",
    "    def run(self, operation, feed_dict={}, \n",
    "            do_show_steps=global_do_show_steps_bool):\n",
    "       \n",
    "        if do_show_steps:\n",
    "            print(\"\\n\\n   !!! Running the Session !!!\\n\")\n",
    "        ##endof:  if do_show_steps\n",
    "        \n",
    "        nodes_postorder = traverse_postorder(operation)\n",
    "        \n",
    "        if do_show_steps:\n",
    "            print(\"\\n After running\")\n",
    "            print(\"   nodes_postorder = traverse_postorder(operation)\")\n",
    "            print(\" we have\")\n",
    "            print(\" nodes_postorder = \")\n",
    "            print(str(nodes_postorder))\n",
    "            print()\n",
    "        ##endof:  if do_show_steps\n",
    "        \n",
    "        for node in nodes_postorder:\n",
    "            if type(node) == Placeholder:\n",
    "                if do_show_steps:\n",
    "                    print(\"\\n We have a  Placeholder  and will\")\n",
    "                    print(\" assign  feed_dict[node]  to  node.output\")\n",
    "                    print(\" ( which which means the value,\")\n",
    "                    print(\" feed_dict[node] = \" + str(feed_dict[node])) #\"<probably not yet ready>\")\n",
    "                    print(\" will be assigned.\")\n",
    "                    print()\n",
    "                ##endof:  if do_show_steps\n",
    "                node.output = feed_dict[node]\n",
    "                if do_show_steps:\n",
    "                    print(\"\\n Checking, node.output = \" + str(node.output)) #\"<probably not yet ready>\")\n",
    "                    print()\n",
    "                ##endof:  if do_show_steps\n",
    "            ##endof:  if type(node) == Placeholder\n",
    "            elif type(node) == Variable:\n",
    "                if do_show_steps:\n",
    "                    print(\"\\n We have a  Variable  and will\")\n",
    "                    print(\" assign  node.value  to  node.output\")\n",
    "                    print(\" ( which which means the value,\")\n",
    "                    print(\" node.value = \" + str(node.value))\n",
    "                    print(\" will be assigned.\")\n",
    "                    print()\n",
    "                ##endof:  if do_show_steps\n",
    "                node.output = node.value\n",
    "                if do_show_steps:\n",
    "                    print(\"\\n Checking, node.output = \" + str(node.output))\n",
    "                    print()\n",
    "                ##endof:  if do_show_steps\n",
    "            ##endof:  elif type(node) == Variable\n",
    "            # # DWB commenting out the  else  and its assumption\n",
    "            # else:\n",
    "            #     # <s>OPERATION</s>\n",
    "            ## ## DWB, my first attempt here was off.\n",
    "            ## elif type(node) == Operation:\n",
    "            elif isinstance(node, Operation):\n",
    "                if do_show_steps:\n",
    "                    print(\"\\n We have an  Operation  and will\")\n",
    "                    print(\" compute the output of the operation\")\n",
    "                    print(\" based on each input_node's output,\")\n",
    "                    print(\" for each node's input_nodes\")\n",
    "                    print(\" We will assign the result of the\")\n",
    "                    print(\" computation to  node.output\")\n",
    "                    print()\n",
    "                    print(\" Some pertinent parts:\")\n",
    "                    print(str(node.input_nodes))\n",
    "                    print(\" I'm not going to mess around finding\")\n",
    "                    print(\" the  output  of each  input_node  here,\")\n",
    "                    print(\" since it will become the  node.inputs\")\n",
    "                    print()\n",
    "                ##endof:  if do_show_steps\n",
    "                node.inputs = \\\n",
    "                  [input_node.output for input_node in node.input_nodes]\n",
    "                \n",
    "                #  For the next command,\n",
    "                #+   node.output = node.compute((node_inputs))\n",
    "                #+ asterisk is basically a sort of args asterisk. \n",
    "                #+ Allows us to combine inputs \n",
    "                #+ without knowing how many we might have. (Note: each of\n",
    "                #+ the operations we've made only has two inputs, but it's\n",
    "                #+ nice to have it generalized, as I'm sure Tensorflow has\n",
    "                #+ it generalized. -DWB 1701796074_2023-12-05T100754-0700)\n",
    "                \n",
    "                if do_show_steps:\n",
    "                    print(\"\\n We will now assign the value of\")\n",
    "                    print(\" node.output\")\n",
    "                    print(\" We will use\")\n",
    "                    #  next line might need \n",
    "                    #+   for nd_inp in *node_inputs: print(nd_inp)\n",
    "                    #+ instead of  str(*node_inputs)\n",
    "                    #+ Nope, seems we're okay\n",
    "                    print(\" node.inputs = \" + str(node.inputs))\n",
    "                    print()\n",
    "                ##endof:  if do_show_steps\n",
    "                \n",
    "                node.output = node.compute(*node.inputs)\n",
    "                \n",
    "                if do_show_steps:\n",
    "                    print(\"\\n Inspecting, node.output = \" + str(node.output))\n",
    "                    print()\n",
    "                ##endof:  if do_show_steps\n",
    "                \n",
    "            ##endof:  elif isinstance(node, Operation)\n",
    "            else:\n",
    "                print()\n",
    "                print(\"Session: SOMETHING IS WRONG, AND THINGS WILL PROBABLY BREAK\")\n",
    "                print()\n",
    "            ##endof:  if/elif/else <type(node)>\n",
    "            \n",
    "            # Get things numpy-y\n",
    "            if type(node.output) == list:\n",
    "                node.output = np.array(node.output)\n",
    "            ##endof:  if type(node.output) == list\n",
    "        ##endof:  for node in nodes_postorder\n",
    "        \n",
    "        if do_show_steps:\n",
    "            print(\"\\n\\n Looking at a few things, where we are getting\")\n",
    "            print(\" errors, as shown in a cell below.\")\n",
    "            print()\n",
    "            print(\"operation = \" + str(operation))\n",
    "            print()\n",
    "            op_out = operation.output\n",
    "            print(\"operation.output = \" + str(op_out))\n",
    "            print()\n",
    "            print(\"\\n Looking at  nodes_postorder = \")\n",
    "            print(str(nodes_postorder))\n",
    "            print()\n",
    "            print(\" Looking at nodes_postorder[0], which I hope is an Operation\")\n",
    "            print(\"     nodes_postorder[0] = \" + str(nodes_postorder[0]))\n",
    "            print()\n",
    "            print(\"\\n If we got an Operation, let's print its  output\")\n",
    "            print()\n",
    "            if type(nodes_postorder[0]) == Operation:\n",
    "                print(\"\\n It is an operation, and\")\n",
    "                print(\"     nodes_postorder[0].output = \" + \\\n",
    "                      str(nodes_postorder[0].output))\n",
    "                print()\n",
    "            ##endof:  if/else type(nodes_postorder[0]) == Operation            \n",
    "        ##endof:  if do_show_steps\n",
    "        \n",
    "        output_to_return = operation.output\n",
    "        \n",
    "        if do_show_steps:\n",
    "            print(\"\\n\\n We will return the output of the operation,\")\n",
    "            equals_str = \"=\"*60\n",
    "            print(\"  \" + equals_str)\n",
    "            print(\"output_to_return = operation.output = \" + \\\n",
    "                  str(output_to_return))\n",
    "            print(\"  \" + equals_str)\n",
    "            print()\n",
    "            print(\"\\n\\n   !!! Finished Running the Session !!!\\n\")\n",
    "            print()\n",
    "        ##endof:  if do_show_steps\n",
    "        \n",
    "        return output_to_return\n",
    "        \n",
    "    ##endof:  run(self, operation, feed_dict={}, do_show_steps=True)\n",
    "##endof:  Session()"
   ]
  },
  {
   "cell_type": "code",
   "execution_count": null,
   "metadata": {},
   "outputs": [],
   "source": [
    "sess = Session()"
   ]
  },
  {
   "cell_type": "code",
   "execution_count": null,
   "metadata": {},
   "outputs": [],
   "source": [
    "result = sess.run(operation=z, \n",
    "                  feed_dict={x:10}, \n",
    "                  do_show_steps=global_do_show_steps_bool)"
   ]
  },
  {
   "cell_type": "markdown",
   "metadata": {},
   "source": [
    "#### Course Notes Version of Classes AND of Running the Session"
   ]
  },
  {
   "cell_type": "code",
   "execution_count": null,
   "metadata": {},
   "outputs": [],
   "source": [
    "def traverse_postorder_CNV(operation):\n",
    "    \"\"\" \n",
    "    PostOrder Traversal of Nodes. Basically makes sure computations are done in \n",
    "    the correct order (Ax first , then Ax + b). Feel free to copy and paste this code.\n",
    "    It is not super important for understanding the basic fundamentals of deep learning.\n",
    "    \"\"\"\n",
    "    \n",
    "    nodes_postorder = []\n",
    "    def recurse(node):\n",
    "        if isinstance(node, OperationCNV):\n",
    "            for input_node in node.input_nodes:\n",
    "                recurse(input_node)\n",
    "        nodes_postorder.append(node)\n",
    "\n",
    "    recurse(operation)\n",
    "    return nodes_postorder\n",
    "    \n",
    "##endof traverse_postorder_CNV(operation)\n",
    "\n",
    "##+ I just copy/pasted it and added the '_CNV'\n",
    "##+ or \"CNV\" where necessary\n",
    "##+ DWB 1701800683_2023-12-05T112443-0700"
   ]
  },
  {
   "cell_type": "code",
   "execution_count": null,
   "metadata": {},
   "outputs": [],
   "source": [
    "class SessionCNV():\n",
    "    \n",
    "    def run(self, operation, feed_dict = {}):\n",
    "        \"\"\" \n",
    "          operation: The operation to compute\n",
    "          feed_dict: Dictionary mapping placeholders to input values (the data)  \n",
    "        \"\"\"\n",
    "        \n",
    "        # Puts nodes in correct order\n",
    "        nodes_postorder = traverse_postorder_CNV(operation)\n",
    "        \n",
    "        for node in nodes_postorder:\n",
    "\n",
    "            if type(node) == PlaceholderCNV:\n",
    "                \n",
    "                node.output = feed_dict[node]\n",
    "                \n",
    "            elif type(node) == VariableCNV:\n",
    "                \n",
    "                node.output = node.value\n",
    "                \n",
    "            else: # Operation\n",
    "                \n",
    "                node.inputs = [input_node.output for input_node in node.input_nodes]\n",
    "\n",
    "                 \n",
    "                node.output = node.compute(*node.inputs)\n",
    "                \n",
    "            # Convert lists to numpy arrays\n",
    "            if type(node.output) == list:\n",
    "                node.output = np.array(node.output)\n",
    "        \n",
    "        # Return the requested node value\n",
    "        return operation.output\n",
    "\n",
    "\n",
    "##endof:  class SessionCNV()\n",
    "\n",
    "##+ I just copy/pasted it and added the '_CNV'\n",
    "##+ or \"CNV\" where necessary\n",
    "##+ DWB 1701800683_2023-12-05T112443-0700"
   ]
  },
  {
   "cell_type": "code",
   "execution_count": null,
   "metadata": {},
   "outputs": [],
   "source": [
    "sess_CNV = SessionCNV()"
   ]
  },
  {
   "cell_type": "code",
   "execution_count": null,
   "metadata": {},
   "outputs": [],
   "source": [
    "result_CNV = sess_CNV.run(operation=z_CNV, \n",
    "                          feed_dict={x_CNV:10})"
   ]
  },
  {
   "cell_type": "code",
   "execution_count": null,
   "metadata": {},
   "outputs": [],
   "source": [
    "result_CNV"
   ]
  },
  {
   "cell_type": "markdown",
   "metadata": {},
   "source": [
    "That worked. We also fixed the bug in my version. On we go! Time for Q&R as I continue forward."
   ]
  },
  {
   "cell_type": "markdown",
   "metadata": {},
   "source": [
    "### Now, some matrix multiplication"
   ]
  },
  {
   "cell_type": "markdown",
   "metadata": {},
   "source": [
    "#### Lecture Version of matrix multiplication"
   ]
  },
  {
   "cell_type": "code",
   "execution_count": null,
   "metadata": {},
   "outputs": [],
   "source": [
    "g_mat = Graph()\n",
    "\n",
    "g_mat.set_as_default()\n",
    "\n",
    "A_mat = Variable([[10, 20],[30, 40]])\n",
    "b_mat = Variable([1, 2])\n",
    "\n",
    "x_mat = Placeholder()\n",
    "\n",
    "y_mat = MatMul(A_mat, x_mat)\n",
    "\n",
    "z_mat = Add(y_mat, b_mat)"
   ]
  },
  {
   "cell_type": "code",
   "execution_count": null,
   "metadata": {},
   "outputs": [],
   "source": [
    "sess_mat = Session()"
   ]
  },
  {
   "cell_type": "code",
   "execution_count": null,
   "metadata": {},
   "outputs": [],
   "source": [
    "sess_mat.run(operation=z_mat, feed_dict={x_mat:10})"
   ]
  },
  {
   "cell_type": "markdown",
   "metadata": {},
   "source": [
    "#### Course Notes Version of matrix multiplication"
   ]
  },
  {
   "cell_type": "code",
   "execution_count": null,
   "metadata": {},
   "outputs": [],
   "source": [
    "g_mat_CNV = GraphCNV()\n",
    "\n",
    "g_mat_CNV.set_as_default()\n",
    "\n",
    "A_mat_CNV = VariableCNV([[10, 20],[30, 40]])\n",
    "b_mat_CNV = VariableCNV([1, 1])\n",
    "\n",
    "x_mat_CNV = PlaceholderCNV()\n",
    "\n",
    "y_mat_CNV = matmulCNV(A_mat_CNV, x_mat_CNV)\n",
    "\n",
    "z_mat_CNV = addCNV(y_mat_CNV, b_mat_CNV)"
   ]
  },
  {
   "cell_type": "code",
   "execution_count": null,
   "metadata": {},
   "outputs": [],
   "source": [
    "sess_mat_CNV = SessionCNV()"
   ]
  },
  {
   "cell_type": "code",
   "execution_count": null,
   "metadata": {},
   "outputs": [],
   "source": [
    "result_mat_CNV = sess_mat_CNV.run(operation=z_mat_CNV,\n",
    "                                  feed_dict={x_mat_CNV:10})"
   ]
  },
  {
   "cell_type": "code",
   "execution_count": null,
   "metadata": {},
   "outputs": [],
   "source": [
    "result_mat_CNV"
   ]
  },
  {
   "cell_type": "markdown",
   "metadata": {},
   "source": [
    "# Classification"
   ]
  },
  {
   "cell_type": "markdown",
   "metadata": {},
   "source": [
    "## Activation Function"
   ]
  },
  {
   "cell_type": "code",
   "execution_count": null,
   "metadata": {},
   "outputs": [],
   "source": [
    "import matplotlib.pyplot as plt\n",
    "%matplotlib inline"
   ]
  },
  {
   "cell_type": "markdown",
   "metadata": {},
   "source": [
    "#### Sigmoid as an Operation"
   ]
  },
  {
   "cell_type": "markdown",
   "metadata": {},
   "source": [
    "#### Lecture Version - with Dave's additions"
   ]
  },
  {
   "cell_type": "code",
   "execution_count": null,
   "metadata": {},
   "outputs": [],
   "source": [
    "def Sigmoid(z):\n",
    "    return 1 / (1 + np.exp(-z))\n",
    "##endof:  Sigmoid(z)"
   ]
  },
  {
   "cell_type": "code",
   "execution_count": null,
   "metadata": {},
   "outputs": [],
   "source": [
    "sample_z = np.linspace(-10, 10, 100)\n",
    "sample_a = Sigmoid(sample_z)"
   ]
  },
  {
   "cell_type": "code",
   "execution_count": null,
   "metadata": {},
   "outputs": [],
   "source": [
    "plt.plot(sample_z, sample_a)"
   ]
  },
  {
   "cell_type": "code",
   "execution_count": null,
   "metadata": {},
   "outputs": [],
   "source": [
    "class Sigmoid(Operation):\n",
    "    \n",
    "    def __init__(self, z):\n",
    "        super().__init__([z]) # need z inside square brackets\n",
    "    ##endof:  __init__(self, z)\n",
    "    \n",
    "    \n",
    "    def compute(self, z_val):\n",
    "        return 1 / (1 + np.exp(-z_val))\n",
    "    ##endof:  compute(self, z)\n",
    "    \n",
    "##endof:  Sigmoid(Operation)"
   ]
  },
  {
   "cell_type": "markdown",
   "metadata": {},
   "source": [
    "#### Course Notes Version"
   ]
  },
  {
   "cell_type": "code",
   "execution_count": null,
   "metadata": {},
   "outputs": [],
   "source": [
    "class sigmoidCNV(OperationCNV):\n",
    "   \n",
    "    def __init__(self, z):\n",
    "        \n",
    "        super().__init__([z])\n",
    "        \n",
    "    ##endof:  __init__(self, z)\n",
    "    \n",
    "    def compute(self, z_val):\n",
    "        \n",
    "        return 1 / (1 + np.exp(-z_val))\n",
    "    \n",
    "    ##endof:  compute(self, z_val)\n",
    "    \n",
    "##endof:  sigmoidCNV(Operation)"
   ]
  },
  {
   "cell_type": "markdown",
   "metadata": {},
   "source": [
    "## Classification Example"
   ]
  },
  {
   "cell_type": "code",
   "execution_count": null,
   "metadata": {},
   "outputs": [],
   "source": [
    "from sklearn.datasets import make_blobs"
   ]
  },
  {
   "cell_type": "markdown",
   "metadata": {},
   "source": [
    "### Lecture Version"
   ]
  },
  {
   "cell_type": "code",
   "execution_count": null,
   "metadata": {},
   "outputs": [],
   "source": [
    "data = make_blobs(n_samples=50, n_features=2, \n",
    "                  centers=2, random_state=75)\n",
    "# centers : how many blobs"
   ]
  },
  {
   "cell_type": "code",
   "execution_count": null,
   "metadata": {},
   "outputs": [],
   "source": [
    "data # first array is features, second array is labels"
   ]
  },
  {
   "cell_type": "code",
   "execution_count": null,
   "metadata": {},
   "outputs": [],
   "source": [
    "features = data[0]\n",
    "labels = data[1]"
   ]
  },
  {
   "cell_type": "code",
   "execution_count": null,
   "metadata": {},
   "outputs": [],
   "source": [
    "plt.scatter(features[:, 0], features[:, 1], c=labels)"
   ]
  },
  {
   "cell_type": "code",
   "execution_count": null,
   "metadata": {},
   "outputs": [],
   "source": [
    "plt.scatter(features[:, 0], features[:, 1], \n",
    "            c=labels, cmap='coolwarm')"
   ]
  },
  {
   "cell_type": "markdown",
   "metadata": {},
   "source": [
    "### Course Notes Verison"
   ]
  },
  {
   "cell_type": "code",
   "execution_count": null,
   "metadata": {},
   "outputs": [],
   "source": [
    "# Maybe later\n",
    "#\n",
    "# # ## Quick later, only need date once. I'm on Windows\n",
    "# #!powershell -c (Get-Date -UFormat \"%s_%Y%m%dT%H%M%S%Z00\") -replace '[.][0-9]*_', '_'"
   ]
  },
  {
   "cell_type": "markdown",
   "metadata": {},
   "source": [
    "Result was: `1704284456_20240103T122056-0700`"
   ]
  },
  {
   "cell_type": "code",
   "execution_count": null,
   "metadata": {},
   "outputs": [],
   "source": [
    "data_CNV = make_blobs(n_samples=50, n_features=2, centers=2, random_state=75)"
   ]
  },
  {
   "cell_type": "code",
   "execution_count": null,
   "metadata": {},
   "outputs": [],
   "source": [
    "data_CNV"
   ]
  },
  {
   "cell_type": "code",
   "execution_count": null,
   "metadata": {},
   "outputs": [],
   "source": [
    "features_CNV = data_CNV[0]\n",
    "plt.scatter(features_CNV[:, 0], features_CNV[:, 1]) \n",
    "        #  everything in the zeroth column (feature_x)\n",
    "        #+ then everything in thefirst column (feature_y)"
   ]
  },
  {
   "cell_type": "code",
   "execution_count": null,
   "metadata": {},
   "outputs": [],
   "source": [
    "labels_CNV = data_CNV[1]\n",
    "plt.scatter(features_CNV[:, 0], features_CNV[:, 1], c=labels_CNV, cmap='coolwarm')"
   ]
  },
  {
   "cell_type": "markdown",
   "metadata": {},
   "source": [
    "## Try to get a line separating the two blobs"
   ]
  },
  {
   "cell_type": "markdown",
   "metadata": {},
   "source": [
    "### Lecture Version"
   ]
  },
  {
   "cell_type": "code",
   "execution_count": null,
   "metadata": {},
   "outputs": [],
   "source": [
    "x_line_pre = np.linspace(0, 11, 10)\n",
    "y_line_pre = -x_line_pre\n",
    "plt.scatter(features[:, 0], features[:, 1], \n",
    "            c=labels, cmap='coolwarm')\n",
    "plt.plot(x_line_pre, y_line_pre)"
   ]
  },
  {
   "cell_type": "code",
   "execution_count": null,
   "metadata": {},
   "outputs": [],
   "source": [
    "# It looks as if it would be better to raise it\n",
    "y_line = -x_line + 5\n",
    "plt.scatter(features[:, 0], features[:, 1], \n",
    "            c=labels, cmap='coolwarm')\n",
    "plt.plot(x_line, y_line)"
   ]
  },
  {
   "cell_type": "markdown",
   "metadata": {},
   "source": [
    "Anything above that line belongs to the red class. Anything below the line belongs to the blue class. \n",
    "\n",
    "Formalized as $y = mx + b$\n",
    "\n",
    "Could be restated as $f_2 = m f_1 + b$ with $m = -1$ and $b = 5$ \n",
    "\n",
    "We want a placeholder ready, into which we can put the features."
   ]
  },
  {
   "cell_type": "markdown",
   "metadata": {},
   "source": [
    "Now, we're going to do a matrix representation to create a perceptron model and do our classification.\n",
    "\n",
    "https://stackoverflow.com/a/59594891/6505499\n",
    "https://web.archive.org/web/20231231183005/https://stackoverflow.com/questions/59098171/how-to-insert-python-variable-into-latex-matrix-in-jupyter-notebook-markdown-cel\n",
    "\n",
    "https://www.physicsread.com/latex-column-vector-and-column-matrix/\n",
    "https://web.archive.org/web/20231231183214/https://www.physicsread.com/latex-column-vector-and-column-matrix/\n",
    "\n",
    "https://tex.stackexchange.com/a/367971/188930\n",
    "https://web.archive.org/web/20231231183433/https://tex.stackexchange.com/questions/367960/creating-a-matrix-with-column-or-row-vectors-as-arguments"
   ]
  },
  {
   "cell_type": "markdown",
   "metadata": {},
   "source": [
    "### Course Notes Version"
   ]
  },
  {
   "cell_type": "code",
   "execution_count": null,
   "metadata": {},
   "outputs": [],
   "source": [
    "# Not now - Q&R\n",
    "# # Okay, maybe now. Only need date once => comment out\n",
    "# !powershell -c (Get-Date -UFormat \"%s_%Y%m%dT%H%M%S%Z00\") -replace '[.][0-9]*_', '_'"
   ]
  },
  {
   "cell_type": "markdown",
   "metadata": {},
   "source": [
    "Output: `1704285338_20240103T123538-0700`"
   ]
  },
  {
   "cell_type": "code",
   "execution_count": null,
   "metadata": {},
   "outputs": [],
   "source": [
    "# > DRAW A LINE THAT SEPARATES CLASSES\n",
    "x_line_CNV = np.linspace(0, 11, 10)\n",
    "y_line_CNV = -x_line_CNV + 5\n",
    "plt.scatter(features_CNV[:, 0], features_CNV[:, 1], c=labels_CNV, cmap='coolwarm')\n",
    "plt.plot(x_line_CNV, y_line_CNV)"
   ]
  },
  {
   "cell_type": "markdown",
   "metadata": {},
   "source": [
    "## Defining the Perceptron\n",
    "\n",
    "$$ y = mx + b $$\n",
    "\n",
    "$$ y = -x + 5 $$\n",
    "\n",
    "$$ f_2 = m \\, f_1 + b \\: , \\; m = 1$$\n",
    "\n",
    "$$ f_2 = -f_1 + 5 $$\n",
    "\n",
    "$$ f_1 + f_2 - 5 = 0 $$\n",
    "\n",
    "Jose uses $ f_{whatever} $ for a feauture"
   ]
  },
  {
   "cell_type": "markdown",
   "metadata": {},
   "source": [
    "### Convert to a Matrix Representation of Features"
   ]
  },
  {
   "cell_type": "markdown",
   "metadata": {},
   "source": [
    "#### Dave/Lecture Version"
   ]
  },
  {
   "cell_type": "markdown",
   "metadata": {},
   "source": [
    "### TL/DR\n",
    "\n",
    "`$$ \\begin{bmatrix}  1 & 1 \\end{bmatrix} \\cdot \\overleftarrow{\\overrightarrow{ f }} - 5 = 0 $$`\n",
    "\n",
    "$$ \\begin{bmatrix}  1 & 1 \\end{bmatrix} \\cdot \\overrightarrow{\\overleftarrow{ f }} - 5 = 0 $$\n",
    "\n",
    "### Verbosity Turned Up\n",
    "\n",
    "For our matrix, continuing the _Defining the Perceptron_ cell, we're basically looking at\n",
    "\n",
    "`FeatMatrix[ 1, 1 ] - 5 = 0`\n",
    "\n",
    "or, more nicely than Jose's \n",
    "\n",
    "# (1,1) * f - 5 = 0\n",
    "\n",
    "we can use\n",
    "\n",
    "`$$ \\begin{bmatrix} 1 & 1 \\end{bmatrix} \\cdot \\textbf{f} - 5 = 0 $$`\n",
    "\n",
    "which gives us\n",
    "\n",
    "$$ \\begin{bmatrix} 1 & 1 \\end{bmatrix} \\cdot \\textbf{f} - 5 = 0 $$\n",
    "\n",
    "or, even better,\n",
    "\n",
    "`$$ \\begin{bmatrix}  1 & 1 \\end{bmatrix} \\cdot \\overset{\\rightharpoonup} {\\overset{\\leftharpoondown f} - 5 = 0 $$`\n",
    "\n",
    "$$ \\begin{bmatrix}  1 & 1 \\end{bmatrix} \\cdot \\overset{\\rightharpoonup} {\\overset{\\leftharpoondown} f} - 5 = 0 $$\n",
    "\n",
    "where\n",
    "\n",
    "### Matrix Notes\n",
    "\n",
    "The matrix, `$ \\overset{\\rightharpoonup} {\\overset{\\leftharpoondown} f} $` $ \\overset{\\rightharpoonup} {\\overset{\\leftharpoondown} f} $ is defined as\n",
    "\n",
    "`$$ \\overline{\\overline{ f }} \\; \\; \\overset{\\Delta} = \\; \\; \\begin{bmatrix} f_1 \\\\ f_2 \\end{bmatrix} $$`\n",
    "\n",
    "\n",
    "$$ \\overline{\\overline{ f }} \\; \\; \\overset{\\Delta} = \\; \\; \\begin{bmatrix} f_1 \\\\ f_2 \\end{bmatrix} $$"
   ]
  },
  {
   "cell_type": "markdown",
   "metadata": {},
   "source": [
    "### My favorite matrix notation is\n",
    "\n",
    "`$$ \\overset{\\rightharpoonup} {\\overset{\\leftharpoondown} f} $$`\n",
    "\n",
    "$$ \\overset{\\rightharpoonup} {\\overset{\\leftharpoondown} f} $$\n",
    "\n",
    "though I think a nice second is the one I just thought to try:\n",
    "\n",
    "`$$ \\overset{=} f $$`\n",
    "\n",
    "$$ \\overset{=} f $$\n",
    "\n",
    "and third place going to the standard textbook form,\n",
    "\n",
    "`$$ \\textbf{f} $$`\n",
    "\n",
    "$$ \\textbf{f} $$"
   ]
  },
  {
   "cell_type": "markdown",
   "metadata": {},
   "source": [
    "#### Course Notes Version"
   ]
  },
  {
   "cell_type": "markdown",
   "metadata": {},
   "source": [
    "(after <i>Defining the Perceptron</i>)\n",
    "\n",
    "<i>Convert to a Matrix Representation of features</i>\n",
    "\n",
    "$$ w^T x + b = 0 $$\n",
    "\n",
    "As Jose had it\n",
    "\n",
    "`$$   \\Big(1, 1\\Big) f - 5 = 0 $$`\n",
    "\n",
    "$$   \\Big(1, 1\\Big) f - 5 = 0 $$\n",
    "\n",
    "My preference is\n",
    "\n",
    "`$$ \\begin{bmatrix}  1 & 1 \\end{bmatrix} \\cdot \\overset{\\rightharpoonup} {\\overset{\\leftharpoondown} f} - 5 = 0 $$`\n",
    "\n",
    "$$ \\begin{bmatrix}  1 & 1 \\end{bmatrix} \\cdot \\overset{\\rightharpoonup} {\\overset{\\leftharpoondown} f} - 5 = 0 $$\n",
    "\n",
    "> Then if the result is > 0 <strike>its</strike>\\[sic\\] it's label \\[=\\] 1, if it is less than 0, it is label=0"
   ]
  },
  {
   "cell_type": "markdown",
   "metadata": {},
   "source": [
    "### Example Point"
   ]
  },
  {
   "cell_type": "markdown",
   "metadata": {},
   "source": [
    "#### Lecture version\n",
    "\n",
    "Picking one that will quite obviously be in the red-dot side. We should get a positive number, since it's over the line. Jose went with $ (8, 10) $"
   ]
  },
  {
   "cell_type": "code",
   "execution_count": null,
   "metadata": {},
   "outputs": [],
   "source": [
    "np.array([1, 1]).dot(np.array([[8], [10]])) - 5"
   ]
  },
  {
   "cell_type": "markdown",
   "metadata": {},
   "source": [
    "It's very positive, so it's in the red class."
   ]
  },
  {
   "cell_type": "markdown",
   "metadata": {},
   "source": [
    "Now for one in the blue points, which will give us a negative number. Jose went with $ (2, -10) $."
   ]
  },
  {
   "cell_type": "code",
   "execution_count": null,
   "metadata": {},
   "outputs": [],
   "source": [
    "np.array([1, 1]).dot(np.array([[2],[-10]]))"
   ]
  },
  {
   "cell_type": "markdown",
   "metadata": {},
   "source": [
    "That's negative, so it's in the blue class (the class under the line)."
   ]
  },
  {
   "cell_type": "markdown",
   "metadata": {},
   "source": [
    "#### Course Notes Version, with Dave making things look nicer\n",
    "\n",
    "Let's say we have the point, <strike>f1=2 , f2=2</strike>$ (I think Jose meant to put $ f_1 = 8 , f_2 = 10 $), otherwise states as $ (8, 10) $. Then we have\n",
    "\n",
    "&lt;Jose has&gt;\n",
    "\n",
    "```\n",
    "$$\n",
    "\\begin{pmatrix}\n",
    "1 , 1\n",
    "\\end{pmatrix}\n",
    "\\begin{pmatrix}\n",
    "8 \\\\\n",
    "10\n",
    "\\end{pmatrix} + 5 =  $$\n",
    "```\n",
    "\n",
    "$$\n",
    "\\begin{pmatrix}\n",
    "1 , 1\n",
    "\\end{pmatrix}\n",
    "\\begin{pmatrix}\n",
    "8 \\\\\n",
    "10\n",
    "\\end{pmatrix} + 5 =  $$\n",
    "\n",
    "Let's give him a parentheses matrix (`pmatrix`) instead of our previously used (square) bracket matrix (`bmatrix`), and see if we can make things look nicer (as well as completing the RHS of the equation).\n",
    "\n",
    "`$$ \\begin{pmatrix} 1 & 1 \\end{pmatrix} \\begin{pmatrix} 8 \\\\ 10 \\end{pmatrix} + 5 = 0 $$`\n",
    "\n",
    "$$ \\begin{pmatrix} 1 & 1 \\end{pmatrix} \\begin{pmatrix} 8 \\\\ 10 \\end{pmatrix} + 5 = 0 $$\n"
   ]
  },
  {
   "cell_type": "code",
   "execution_count": null,
   "metadata": {},
   "outputs": [],
   "source": [
    "np.array([[1, 1]]).dot(np.array([[8], [10]])) - 5"
   ]
  },
  {
   "cell_type": "markdown",
   "metadata": {},
   "source": [
    "> or if we have $ (4, -10) $"
   ]
  },
  {
   "cell_type": "code",
   "execution_count": null,
   "metadata": {},
   "outputs": [],
   "source": [
    "np.array([[1, 1]]).dot(np.array([[4], [-10]])) - 5"
   ]
  },
  {
   "cell_type": "markdown",
   "metadata": {},
   "source": [
    "`# DWB here`\n",
    "\n",
    "Or, let's say we have $ (2, 2) $, as Jose seemed to write the first time."
   ]
  },
  {
   "cell_type": "code",
   "execution_count": null,
   "metadata": {},
   "outputs": [],
   "source": [
    "np.array([[1, 1]]).dot(np.array([[2], [2]])) - 5"
   ]
  },
  {
   "cell_type": "markdown",
   "metadata": {},
   "source": [
    "It's in the `0` class, below the line, but the algorithm isn't as sure."
   ]
  },
  {
   "cell_type": "markdown",
   "metadata": {},
   "source": [
    "### Using an Example Session Graph"
   ]
  },
  {
   "cell_type": "markdown",
   "metadata": {},
   "source": [
    "#### Lecture Version"
   ]
  },
  {
   "cell_type": "code",
   "execution_count": null,
   "metadata": {},
   "outputs": [],
   "source": [
    "g_perc = Graph() # I use \"perc\" for \"perceptron\""
   ]
  },
  {
   "cell_type": "code",
   "execution_count": null,
   "metadata": {},
   "outputs": [],
   "source": [
    "g_perc.set_as_default()"
   ]
  },
  {
   "cell_type": "code",
   "execution_count": null,
   "metadata": {},
   "outputs": [],
   "source": [
    "x_perc = Placeholder()"
   ]
  },
  {
   "cell_type": "code",
   "execution_count": null,
   "metadata": {},
   "outputs": [],
   "source": [
    "w_perc = Variable([1, 1]) # Weights"
   ]
  },
  {
   "cell_type": "code",
   "execution_count": null,
   "metadata": {},
   "outputs": [],
   "source": [
    "b_perc = Variable(-5)"
   ]
  },
  {
   "cell_type": "code",
   "execution_count": null,
   "metadata": {},
   "outputs": [],
   "source": [
    "#  Due to these problems, I was going to put in the course notes version,\n",
    "#+ but it's working.\n",
    "\n",
    "##  Seems my version has a problem with combining the operations\n",
    "##+ Nope, it was a non-list in the Sigmoid.\n",
    "##+ I got the same decimal value as Jose with this one\n",
    "z_perc = Add(MatMul(w_perc, x_perc), b_perc) # Combining two operations!\n",
    "\n",
    "\n",
    "# ##  This one worked, but gave me 1.0 rather than a -.999and-so-on\n",
    "# y_perc = MatMul(x_perc, x_perc)\n",
    "# z_perc = Add(y_perc, b_perc)"
   ]
  },
  {
   "cell_type": "code",
   "execution_count": null,
   "metadata": {},
   "outputs": [],
   "source": [
    "a_perc = Sigmoid(z_perc)"
   ]
  },
  {
   "cell_type": "markdown",
   "metadata": {},
   "source": [
    "#### First session, with the obvious red (above the line, positive)."
   ]
  },
  {
   "cell_type": "code",
   "execution_count": null,
   "metadata": {},
   "outputs": [],
   "source": [
    "sess_perc = Session()"
   ]
  },
  {
   "cell_type": "code",
   "execution_count": null,
   "metadata": {},
   "outputs": [],
   "source": [
    "sess_perc.run(operation=a_perc, feed_dict={x_perc:[8, 10]})"
   ]
  },
  {
   "cell_type": "markdown",
   "metadata": {},
   "source": [
    "#### Second session, with the obvious blue (below the line, negative)."
   ]
  },
  {
   "cell_type": "code",
   "execution_count": null,
   "metadata": {},
   "outputs": [],
   "source": [
    "sess_perc_2 = Session()"
   ]
  },
  {
   "cell_type": "code",
   "execution_count": null,
   "metadata": {},
   "outputs": [],
   "source": [
    "sess_perc_2.run(operation=a_perc, feed_dict={x_perc:[2, -10]})"
   ]
  },
  {
   "cell_type": "markdown",
   "metadata": {},
   "source": [
    "#### Course Notes Verison"
   ]
  },
  {
   "cell_type": "code",
   "execution_count": null,
   "metadata": {},
   "outputs": [],
   "source": [
    "# Maybe later\n",
    "# Doing it like the other ones"
   ]
  },
  {
   "cell_type": "code",
   "execution_count": null,
   "metadata": {},
   "outputs": [],
   "source": [
    "g_perc_CNV = GraphCNV()"
   ]
  },
  {
   "cell_type": "code",
   "execution_count": null,
   "metadata": {},
   "outputs": [],
   "source": [
    "g_perc_CNV.set_as_default()"
   ]
  },
  {
   "cell_type": "code",
   "execution_count": null,
   "metadata": {},
   "outputs": [],
   "source": [
    "x_perc_CNV = PlaceholderCNV()"
   ]
  },
  {
   "cell_type": "code",
   "execution_count": null,
   "metadata": {},
   "outputs": [],
   "source": [
    "w_perc_CNV = VariableCNV([1, 1])"
   ]
  },
  {
   "cell_type": "code",
   "execution_count": null,
   "metadata": {},
   "outputs": [],
   "source": [
    "b_perc_CNV = VariableCNV(-5)"
   ]
  },
  {
   "cell_type": "code",
   "execution_count": null,
   "metadata": {},
   "outputs": [],
   "source": [
    "z_perc_CNV = addCNV(matmulCNV(w_perc_CNV, x_perc_CNV), b_perc_CNV)"
   ]
  },
  {
   "cell_type": "code",
   "execution_count": null,
   "metadata": {},
   "outputs": [],
   "source": [
    "a_perc_CNV = sigmoidCNV(z_perc_CNV)"
   ]
  },
  {
   "cell_type": "code",
   "execution_count": null,
   "metadata": {},
   "outputs": [],
   "source": [
    "sess_perc_CNV = SessionCNV()"
   ]
  },
  {
   "cell_type": "code",
   "execution_count": null,
   "metadata": {},
   "outputs": [],
   "source": [
    "sess_perc_CNV.run(operation=a_perc_CNV, feed_dict={x_perc_CNV:[8, 10]})"
   ]
  },
  {
   "cell_type": "code",
   "execution_count": null,
   "metadata": {},
   "outputs": [],
   "source": [
    "sess_perc_CNV.run(operation=a_perc_CNV, feed_dict={x_perc_CNV:[0, -10]})"
   ]
  },
  {
   "cell_type": "markdown",
   "metadata": {},
   "source": [
    "_That's all for now, folks!_"
   ]
  }
 ],
 "metadata": {
  "kernelspec": {
   "display_name": "Python 3",
   "language": "python",
   "name": "python3"
  },
  "language_info": {
   "codemirror_mode": {
    "name": "ipython",
    "version": 3
   },
   "file_extension": ".py",
   "mimetype": "text/x-python",
   "name": "python",
   "nbconvert_exporter": "python",
   "pygments_lexer": "ipython3",
   "version": "3.5.4"
  }
 },
 "nbformat": 4,
 "nbformat_minor": 4
}
