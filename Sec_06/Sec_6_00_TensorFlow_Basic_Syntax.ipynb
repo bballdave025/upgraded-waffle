{
 "cells": [
  {
   "cell_type": "markdown",
   "metadata": {},
   "source": [
    "# TensorFlow Basics"
   ]
  },
  {
   "cell_type": "code",
   "execution_count": null,
   "metadata": {},
   "outputs": [],
   "source": [
    "import tensorflow as tf"
   ]
  },
  {
   "cell_type": "markdown",
   "metadata": {},
   "source": [
    "The downloaded Jupyter Notebook says\n",
    "\n",
    "> Make sure you are using 1.3 for exact sytnax[sic] matching!\n",
    "\n",
    "However, the newer env file has `1.15` listed. (Note I'm in Windows at the moment.)"
   ]
  },
  {
   "cell_type": "code",
   "execution_count": null,
   "metadata": {},
   "outputs": [],
   "source": [
    "! type \"C:\\\\David\\\\my_repos_dwb\\\\upgraded-waffle\\\\FULL_TENSORFLOW_NOTES__AND_DATA\\\\earlier_nonworking_env_files\\\\tfdl_env.yml\""
   ]
  },
  {
   "cell_type": "markdown",
   "metadata": {},
   "source": [
    "OUTPUT\n",
    "\n",
    "```\n",
    "name: tfdeeplearning\n",
    "channels:\n",
    "- defaults\n",
    "dependencies:\n",
    "- matplotlib=2.0.2\n",
    "- numpy=1.13.1\n",
    "- pandas=0.20.3\n",
    "- python=3.5.4\n",
    "- scikit-learn=0.19.0\n",
    "- scipy==1.1.0\n",
    "- pip:\n",
    "  - jupyter\n",
    "  - tensorflow==1.15.0\n",
    "  - tensorboard==1.15.0\n",
    "```\n",
    "\n",
    "Yes, yes it does."
   ]
  },
  {
   "cell_type": "markdown",
   "metadata": {},
   "source": [
    "And the env file that finally worked without errors to get me here had `1.10`.\n",
    "\n",
    "That's the one with the instructions,\n",
    "\n",
    "> `*`<b>WINDOWS SOLUTION</b>`*` Enviornment File Problems <br/>\n",
    "> 46 upvotes <br/>\n",
    "> Adam . Lecture 5 <br/>\n",
    "> . 3 years ago <br/>\n",
    ">\n",
    "> A lot of people are getting enviornment file errors, even with the \"updated\" \n",
    "> version\n",
    ">\n",
    "> Here is a `*`<b>WORKING</b>`*` enviornment file\n",
    ">\n",
    "> https://pastebin.com/2g6KGH9a\n",
    ">\n",
    "> 1) cd to your downloaded folder of notes from this course <br/>\n",
    "> 2) Create a new .txt file with Notepad call it `tfdl_env.txt` <br/>\n",
    "> 3) Copy paste the data from the link above into this txt file <br/>\n",
    "> 4) while in the directory run the command at the first line of the text <br/> \n",
    ">     file, it should be this :)\n",
    ">\n",
    "> `conda create --name tfdeeplearning --file tfdl_env.txt`\n",
    ">\n",
    "> Hope this works for you all!\n",
    ">\n",
    "> Make sure you're running this txt file and not the current env file by \n",
    "> mistake if you get an error. And just continue on with the instructions:\n",
    ">\n",
    "> `activate tfdeeplearning`\n",
    ">\n",
    "> `jupyter notebook`\n",
    ">\n",
    "> ... etc\n",
    ">\n",
    ">\n",
    "> Notes:\n",
    ">\n",
    "> * you may need to run `conda activate tfdeeplearning`\n",
    ">\n",
    ">\n",
    "> * for \"Section 11: Reinforcement Learning...\" I am not sure if gym is \n",
    ">   installed in this env file. There is already a solution in Lecture 84 \n",
    ">   that worked for me, simply: <br/>\n",
    ">      - `activate tfdeeplearning` <br/>\n",
    ">      - `pip install gym` <br/>\n",
    ">           - if you get a permission error run `pip install gym --user` <br/>"
   ]
  },
  {
   "cell_type": "code",
   "execution_count": null,
   "metadata": {},
   "outputs": [],
   "source": [
    "! type \"C:\\\\David\\\\my_repos_dwb\\\\upgraded-waffle\\\\FULL_TENSORFLOW_NOTES__AND_DATA\\\\tfdl_env.txt\""
   ]
  },
  {
   "cell_type": "markdown",
   "metadata": {},
   "source": [
    "OUTPUT\n",
    "\n",
    "```\n",
    "Lots of it\n",
    "```\n",
    "\n",
    "Let's make that easier to check."
   ]
  },
  {
   "cell_type": "code",
   "execution_count": null,
   "metadata": {},
   "outputs": [],
   "source": [
    "! type \"C:\\\\David\\\\my_repos_dwb\\\\upgraded-waffle\\\\FULL_TENSORFLOW_NOTES__AND_DATA\\\\tfdl_env.txt\" | findstr tensor"
   ]
  },
  {
   "cell_type": "markdown",
   "metadata": {},
   "source": [
    "OUTPUT\n",
    "\n",
    "```\n",
    "https://repo.anaconda.com/pkgs/main/win-64/tensorboard-1.10.0-py35he025d50_0.conda\n",
    "https://repo.anaconda.com/pkgs/main/win-64/tensorflow-base-1.10.0-mkl_py35h81393da_0.conda\n",
    "https://repo.anaconda.com/pkgs/main/win-64/tensorflow-1.10.0-mkl_py35h4a0f5c2_0.conda\n",
    "```\n",
    "\n",
    "Yes, yes it does have `1.10`."
   ]
  },
  {
   "cell_type": "code",
   "execution_count": null,
   "metadata": {},
   "outputs": [],
   "source": [
    "print(tf.__version__)"
   ]
  },
  {
   "cell_type": "markdown",
   "metadata": {},
   "source": [
    "OUTPUT\n",
    "\n",
    "```\n",
    "1.10.0\n",
    "```\n",
    "\n",
    "Moving on"
   ]
  },
  {
   "cell_type": "markdown",
   "metadata": {},
   "source": [
    "## Tensors"
   ]
  },
  {
   "cell_type": "code",
   "execution_count": null,
   "metadata": {},
   "outputs": [],
   "source": []
  },
  {
   "cell_type": "code",
   "execution_count": null,
   "metadata": {},
   "outputs": [],
   "source": []
  },
  {
   "cell_type": "code",
   "execution_count": null,
   "metadata": {},
   "outputs": [],
   "source": []
  },
  {
   "cell_type": "code",
   "execution_count": null,
   "metadata": {},
   "outputs": [],
   "source": []
  },
  {
   "cell_type": "code",
   "execution_count": null,
   "metadata": {},
   "outputs": [],
   "source": []
  },
  {
   "cell_type": "markdown",
   "metadata": {},
   "source": [
    "<b>Computations</b>"
   ]
  },
  {
   "cell_type": "code",
   "execution_count": null,
   "metadata": {},
   "outputs": [],
   "source": []
  },
  {
   "cell_type": "code",
   "execution_count": null,
   "metadata": {},
   "outputs": [],
   "source": []
  },
  {
   "cell_type": "code",
   "execution_count": null,
   "metadata": {},
   "outputs": [],
   "source": []
  },
  {
   "cell_type": "code",
   "execution_count": null,
   "metadata": {},
   "outputs": [],
   "source": []
  },
  {
   "cell_type": "code",
   "execution_count": null,
   "metadata": {},
   "outputs": [],
   "source": []
  },
  {
   "cell_type": "markdown",
   "metadata": {},
   "source": [
    "## Operations"
   ]
  },
  {
   "cell_type": "code",
   "execution_count": null,
   "metadata": {},
   "outputs": [],
   "source": []
  },
  {
   "cell_type": "code",
   "execution_count": null,
   "metadata": {},
   "outputs": [],
   "source": []
  },
  {
   "cell_type": "code",
   "execution_count": null,
   "metadata": {},
   "outputs": [],
   "source": []
  },
  {
   "cell_type": "code",
   "execution_count": null,
   "metadata": {},
   "outputs": [],
   "source": []
  },
  {
   "cell_type": "code",
   "execution_count": null,
   "metadata": {},
   "outputs": [],
   "source": []
  },
  {
   "cell_type": "code",
   "execution_count": null,
   "metadata": {},
   "outputs": [],
   "source": []
  },
  {
   "cell_type": "code",
   "execution_count": null,
   "metadata": {},
   "outputs": [],
   "source": []
  },
  {
   "cell_type": "markdown",
   "metadata": {},
   "source": [
    "## Interactive Session\n",
    "\n",
    "He says,\n",
    "\n",
    "> Useful for Notebook Sessions"
   ]
  },
  {
   "cell_type": "markdown",
   "metadata": {},
   "source": [
    "<b> ONLY RUN THIS NEXT CELL ONCE! </b>"
   ]
  },
  {
   "cell_type": "code",
   "execution_count": null,
   "metadata": {},
   "outputs": [],
   "source": [
    "# Only run this cell once\n",
    "sess = tf.InteractiveSession()"
   ]
  },
  {
   "cell_type": "code",
   "execution_count": null,
   "metadata": {},
   "outputs": [],
   "source": []
  },
  {
   "cell_type": "code",
   "execution_count": null,
   "metadata": {},
   "outputs": [],
   "source": []
  },
  {
   "cell_type": "code",
   "execution_count": null,
   "metadata": {},
   "outputs": [],
   "source": []
  },
  {
   "cell_type": "code",
   "execution_count": null,
   "metadata": {},
   "outputs": [],
   "source": []
  },
  {
   "cell_type": "code",
   "execution_count": null,
   "metadata": {},
   "outputs": [],
   "source": []
  },
  {
   "cell_type": "code",
   "execution_count": null,
   "metadata": {},
   "outputs": [],
   "source": []
  },
  {
   "cell_type": "code",
   "execution_count": null,
   "metadata": {},
   "outputs": [],
   "source": []
  },
  {
   "cell_type": "code",
   "execution_count": null,
   "metadata": {},
   "outputs": [],
   "source": []
  },
  {
   "cell_type": "markdown",
   "metadata": {},
   "source": [
    "## Matrix Multiplication"
   ]
  },
  {
   "cell_type": "code",
   "execution_count": null,
   "metadata": {},
   "outputs": [],
   "source": []
  },
  {
   "cell_type": "code",
   "execution_count": null,
   "metadata": {},
   "outputs": [],
   "source": []
  },
  {
   "cell_type": "code",
   "execution_count": null,
   "metadata": {},
   "outputs": [],
   "source": []
  },
  {
   "cell_type": "code",
   "execution_count": null,
   "metadata": {},
   "outputs": [],
   "source": []
  },
  {
   "cell_type": "code",
   "execution_count": null,
   "metadata": {},
   "outputs": [],
   "source": []
  },
  {
   "cell_type": "code",
   "execution_count": null,
   "metadata": {},
   "outputs": [],
   "source": []
  },
  {
   "cell_type": "code",
   "execution_count": null,
   "metadata": {},
   "outputs": [],
   "source": []
  },
  {
   "cell_type": "markdown",
   "metadata": {},
   "source": [
    "_That's all for now!_"
   ]
  },
  {
   "cell_type": "code",
   "execution_count": null,
   "metadata": {},
   "outputs": [],
   "source": []
  }
 ],
 "metadata": {
  "kernelspec": {
   "display_name": "Python 3",
   "language": "python",
   "name": "python3"
  },
  "language_info": {
   "codemirror_mode": {
    "name": "ipython",
    "version": 3
   },
   "file_extension": ".py",
   "mimetype": "text/x-python",
   "name": "python",
   "nbconvert_exporter": "python",
   "pygments_lexer": "ipython3",
   "version": "3.5.4"
  }
 },
 "nbformat": 4,
 "nbformat_minor": 4
}
