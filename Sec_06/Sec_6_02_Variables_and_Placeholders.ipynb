{
 "cells": [
  {
   "cell_type": "markdown",
   "metadata": {},
   "source": [
    "# Variables and Placeholders"
   ]
  },
  {
   "cell_type": "code",
   "execution_count": null,
   "metadata": {},
   "outputs": [],
   "source": [
    "import tensorflow as tf"
   ]
  },
  {
   "cell_type": "markdown",
   "metadata": {},
   "source": [
    "<b>REMEMBER TO ONLY RUN THIS NEXT CELL ONCE!</b>"
   ]
  },
  {
   "cell_type": "code",
   "execution_count": null,
   "metadata": {},
   "outputs": [],
   "source": [
    "sess = tf.InteractiveSession()"
   ]
  },
  {
   "cell_type": "markdown",
   "metadata": {},
   "source": [
    "## Variables"
   ]
  },
  {
   "cell_type": "code",
   "execution_count": null,
   "metadata": {},
   "outputs": [],
   "source": [
    "my_tensor = tf.random_uniform((4, 4), 0, 1)"
   ]
  },
  {
   "cell_type": "code",
   "execution_count": null,
   "metadata": {},
   "outputs": [],
   "source": [
    "my_tensor"
   ]
  },
  {
   "cell_type": "code",
   "execution_count": null,
   "metadata": {},
   "outputs": [],
   "source": [
    "my_var = tf.Variable(initial_value=my_tensor)"
   ]
  },
  {
   "cell_type": "code",
   "execution_count": null,
   "metadata": {},
   "outputs": [],
   "source": [
    "print(my_var)"
   ]
  },
  {
   "cell_type": "markdown",
   "metadata": {},
   "source": [
    "The next cell is to show the importance of initializing all variables. The command which would cause the problem is\n",
    "\n",
    "`sess.run(my_var)`"
   ]
  },
  {
   "cell_type": "code",
   "execution_count": null,
   "metadata": {},
   "outputs": [],
   "source": [
    "do_show_error = False\n",
    "\n",
    "print(\"The command is:\")\n",
    "print(\" >>> sess.run(my_var)\")\n",
    "print(\"You'll see the real error from running that command or some\")\n",
    "print(\"text copied representing the error. With the latter, i.e.\")\n",
    "print(\"with do_show_error = False, you can do things like\")\n",
    "print(\"Kernel -> Restart & Run All\")\n",
    "print()\n",
    "print()\n",
    "\n",
    "if do_show_error:\n",
    "    sess.run(my_var)\n",
    "else:\n",
    "    large_error_text = \"\"\"\n",
    "---------------------------------------------------------------------------\n",
    "FailedPreconditionError                   Traceback (most recent call last)\n",
    "~\\.conda\\envs\\tfdeeplearning\\lib\\site-packages\\tensorflow\\python\\client\\session.py in \\\\\n",
    "_do_call(self, fn, *args)\n",
    "   1277     try:\n",
    "-> 1278       return fn(*args)\n",
    "   1279     except errors.OpError as e:\n",
    "\n",
    "~\\.conda\\envs\\tfdeeplearning\\lib\\site-packages\\tensorflow\\python\\client\\session.py in \\\\\n",
    "_run_fn(feed_dict, fetch_list, target_list, options, run_metadata)\n",
    "   1262       return self._call_tf_sessionrun(\n",
    "-> 1263           options, feed_dict, fetch_list, target_list, run_metadata)\n",
    "   1264 \n",
    "\n",
    "~\\.conda\\envs\\tfdeeplearning\\lib\\site-packages\\tensorflow\\python\\client\\session.py in \\\\\n",
    "_call_tf_sessionrun(self, options, feed_dict, fetch_list, target_list, run_metadata)\n",
    "   1349         self._session, options, feed_dict, fetch_list, target_list,\n",
    "-> 1350         run_metadata)\n",
    "   1351 \n",
    "\n",
    "FailedPreconditionError: Attempting to use uninitialized value Variable_1\n",
    "\t [[Node: _retval_Variable_1_0_0 = _Retval[T=DT_FLOAT, index=0, \\\\\n",
    "\t _device=\"/job:localhost/replica:0/task:0/device:CPU:0\"](Variable_1)]]\n",
    "\n",
    "During handling of the above exception, another exception occurred:\n",
    "\n",
    "FailedPreconditionError                   Traceback (most recent call last)\n",
    "<ipython-input-16-1e5809ec9d7c> in <module>()\n",
    "      2 \n",
    "      3 if do_show_error:\n",
    "----> 4     sess.run(my_var)\n",
    "      5 else:\n",
    "      6     print(\"The error was:\")\n",
    "\n",
    "~\\.conda\\envs\\tfdeeplearning\\lib\\site-packages\\tensorflow\\python\\client\\session.py in \\\\\n",
    "run(self, fetches, feed_dict, options, run_metadata)\n",
    "    875     try:\n",
    "    876       result = self._run(None, fetches, feed_dict, options_ptr,\n",
    "--> 877                          run_metadata_ptr)\n",
    "    878       if run_metadata:\n",
    "    879         proto_data = tf_session.TF_GetBuffer(run_metadata_ptr)\n",
    "\n",
    "~\\.conda\\envs\\tfdeeplearning\\lib\\site-packages\\tensorflow\\python\\client\\session.py in \\\\\n",
    "_run(self, handle, fetches, feed_dict, options, run_metadata)\n",
    "   1098     if final_fetches or final_targets or (handle and feed_dict_tensor):\n",
    "   1099       results = self._do_run(handle, final_targets, final_fetches,\n",
    "-> 1100                              feed_dict_tensor, options, run_metadata)\n",
    "   1101     else:\n",
    "   1102       results = []\n",
    "\n",
    "~\\.conda\\envs\\tfdeeplearning\\lib\\site-packages\\tensorflow\\python\\client\\session.py in \\\\\n",
    "_do_run(self, handle, target_list, fetch_list, feed_dict, options, run_metadata)\n",
    "   1270     if handle is None:\n",
    "   1271       return self._do_call(_run_fn, feeds, fetches, targets, options,\n",
    "-> 1272                            run_metadata)\n",
    "   1273     else:\n",
    "   1274       return self._do_call(_prun_fn, handle, feeds, fetches)\n",
    "\n",
    "~\\.conda\\envs\\tfdeeplearning\\lib\\site-packages\\tensorflow\\python\\client\\session.py in \\\\\n",
    "_do_call(self, fn, *args)\n",
    "   1289         except KeyError:\n",
    "   1290           pass\n",
    "-> 1291       raise type(e)(node_def, op, message)\n",
    "   1292 \n",
    "   1293   def _extend_graph(self):\n",
    "\n",
    "FailedPreconditionError: Attempting to use uninitialized value Variable_1\n",
    "\t [[Node: _retval_Variable_1_0_0 = _Retval[T=DT_FLOAT, index=0, \\\\\n",
    "\t _device=\"/job:localhost/replica:0/task:0/device:CPU:0\"](Variable_1)]]\n",
    "    \n",
    "    \"\"\"\n",
    "    print(\"The error was as follows, where I've put in '\\\\' to\")\n",
    "    print(\"show line continuation.\")\n",
    "    print(\"~~~~~~~~~~\")\n",
    "    print(large_error_text)\n",
    "    print(\"~~~~~~~~~~\")\n",
    "##endof:  if/else"
   ]
  },
  {
   "cell_type": "markdown",
   "metadata": {},
   "source": [
    "#### Note! You must initialize all global variables!\n",
    "\n",
    "That will prevent the error above."
   ]
  },
  {
   "cell_type": "code",
   "execution_count": null,
   "metadata": {},
   "outputs": [],
   "source": []
  },
  {
   "cell_type": "code",
   "execution_count": null,
   "metadata": {},
   "outputs": [],
   "source": []
  },
  {
   "cell_type": "code",
   "execution_count": null,
   "metadata": {},
   "outputs": [],
   "source": []
  },
  {
   "cell_type": "code",
   "execution_count": null,
   "metadata": {},
   "outputs": [],
   "source": []
  },
  {
   "cell_type": "markdown",
   "metadata": {},
   "source": [
    "## Placeholders"
   ]
  },
  {
   "cell_type": "code",
   "execution_count": null,
   "metadata": {},
   "outputs": [],
   "source": []
  },
  {
   "cell_type": "code",
   "execution_count": null,
   "metadata": {},
   "outputs": [],
   "source": []
  },
  {
   "cell_type": "code",
   "execution_count": null,
   "metadata": {},
   "outputs": [],
   "source": []
  },
  {
   "cell_type": "markdown",
   "metadata": {},
   "source": [
    "Coming up next is where we'll put this all together!"
   ]
  },
  {
   "cell_type": "markdown",
   "metadata": {},
   "source": [
    "_That's all for now!_"
   ]
  }
 ],
 "metadata": {
  "kernelspec": {
   "display_name": "Python 3",
   "language": "python",
   "name": "python3"
  },
  "language_info": {
   "codemirror_mode": {
    "name": "ipython",
    "version": 3
   },
   "file_extension": ".py",
   "mimetype": "text/x-python",
   "name": "python",
   "nbconvert_exporter": "python",
   "pygments_lexer": "ipython3",
   "version": "3.5.4"
  }
 },
 "nbformat": 4,
 "nbformat_minor": 4
}
