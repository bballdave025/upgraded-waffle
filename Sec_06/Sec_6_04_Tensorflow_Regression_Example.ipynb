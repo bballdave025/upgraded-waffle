{
 "cells": [
  {
   "cell_type": "markdown",
   "metadata": {},
   "source": [
    "# TensorFlow Regression Example\n",
    "\n",
    "More Realistic. More data points. Batches.\n",
    "\n",
    "The tf.estimator is for things that are easier. TensorFlow is more for things that need a specific neural network, customized, whatever..."
   ]
  },
  {
   "cell_type": "markdown",
   "metadata": {},
   "source": [
    "## Imports"
   ]
  },
  {
   "cell_type": "code",
   "execution_count": 1,
   "metadata": {},
   "outputs": [],
   "source": [
    "import numpy as np\n",
    "import pandas as pd\n",
    "\n",
    "import matplotlib.pyplot as plt\n",
    "%matplotlib inline\n",
    "\n",
    "import tensorflow as tf\n",
    "\n",
    "from sklearn.model_selection import train_test_split\n",
    "\n",
    "# remember TensorFlow and SciKit-Learn up here"
   ]
  },
  {
   "cell_type": "markdown",
   "metadata": {},
   "source": [
    "## Creating Data"
   ]
  },
  {
   "cell_type": "markdown",
   "metadata": {},
   "source": [
    "#### One Million Points!"
   ]
  },
  {
   "cell_type": "code",
   "execution_count": 2,
   "metadata": {},
   "outputs": [],
   "source": [
    "x_data = np.linspace(0.0, 10.0, 1000000) # We're not quite ready for a real dataset"
   ]
  },
  {
   "cell_type": "code",
   "execution_count": 3,
   "metadata": {},
   "outputs": [
    {
     "data": {
      "text/plain": [
       "array([0.000000e+00, 1.000001e-05, 2.000002e-05, ..., 9.999980e+00,\n",
       "       9.999990e+00, 1.000000e+01])"
      ]
     },
     "execution_count": 3,
     "metadata": {},
     "output_type": "execute_result"
    }
   ],
   "source": [
    "x_data"
   ]
  },
  {
   "cell_type": "markdown",
   "metadata": {},
   "source": [
    "#### Noise"
   ]
  },
  {
   "cell_type": "code",
   "execution_count": 4,
   "metadata": {},
   "outputs": [],
   "source": [
    "# No random seed (?)\n",
    "noise = np.random.randn(len(x_data))"
   ]
  },
  {
   "cell_type": "code",
   "execution_count": 5,
   "metadata": {},
   "outputs": [
    {
     "data": {
      "text/plain": [
       "array([ 1.70159055,  0.25721029,  0.27707293, ..., -1.44869069,\n",
       "       -0.75445202, -0.23383496])"
      ]
     },
     "execution_count": 5,
     "metadata": {},
     "output_type": "execute_result"
    }
   ],
   "source": [
    "noise"
   ]
  },
  {
   "cell_type": "markdown",
   "metadata": {},
   "source": [
    "#### Now, for the data\n",
    "\n",
    "$ y = mx + b + noise $ just to make it more difficult for the model\n",
    "\n",
    "Jose, seemingly arbitrarily, chooses $ b = 5 $ and $ m = 0.5 $ to start"
   ]
  },
  {
   "cell_type": "code",
   "execution_count": 6,
   "metadata": {},
   "outputs": [],
   "source": [
    "y_true = ( 0.5 * x_data ) + 5 + noise"
   ]
  },
  {
   "cell_type": "markdown",
   "metadata": {},
   "source": [
    "Pandas"
   ]
  },
  {
   "cell_type": "code",
   "execution_count": 7,
   "metadata": {},
   "outputs": [],
   "source": [
    "x_df = pd.DataFrame(data=x_data, columns=['X Data'])"
   ]
  },
  {
   "cell_type": "code",
   "execution_count": 8,
   "metadata": {},
   "outputs": [
    {
     "data": {
      "text/html": [
       "<div>\n",
       "<style>\n",
       "    .dataframe thead tr:only-child th {\n",
       "        text-align: right;\n",
       "    }\n",
       "\n",
       "    .dataframe thead th {\n",
       "        text-align: left;\n",
       "    }\n",
       "\n",
       "    .dataframe tbody tr th {\n",
       "        vertical-align: top;\n",
       "    }\n",
       "</style>\n",
       "<table border=\"1\" class=\"dataframe\">\n",
       "  <thead>\n",
       "    <tr style=\"text-align: right;\">\n",
       "      <th></th>\n",
       "      <th>X Data</th>\n",
       "    </tr>\n",
       "  </thead>\n",
       "  <tbody>\n",
       "    <tr>\n",
       "      <th>0</th>\n",
       "      <td>0.00000</td>\n",
       "    </tr>\n",
       "    <tr>\n",
       "      <th>1</th>\n",
       "      <td>0.00001</td>\n",
       "    </tr>\n",
       "    <tr>\n",
       "      <th>2</th>\n",
       "      <td>0.00002</td>\n",
       "    </tr>\n",
       "    <tr>\n",
       "      <th>3</th>\n",
       "      <td>0.00003</td>\n",
       "    </tr>\n",
       "    <tr>\n",
       "      <th>4</th>\n",
       "      <td>0.00004</td>\n",
       "    </tr>\n",
       "  </tbody>\n",
       "</table>\n",
       "</div>"
      ],
      "text/plain": [
       "    X Data\n",
       "0  0.00000\n",
       "1  0.00001\n",
       "2  0.00002\n",
       "3  0.00003\n",
       "4  0.00004"
      ]
     },
     "execution_count": 8,
     "metadata": {},
     "output_type": "execute_result"
    }
   ],
   "source": [
    "x_df.head()"
   ]
  },
  {
   "cell_type": "code",
   "execution_count": 9,
   "metadata": {},
   "outputs": [],
   "source": [
    "y_df = pd.DataFrame(data=y_true, columns=['Y'])"
   ]
  },
  {
   "cell_type": "code",
   "execution_count": 10,
   "metadata": {},
   "outputs": [
    {
     "data": {
      "text/html": [
       "<div>\n",
       "<style>\n",
       "    .dataframe thead tr:only-child th {\n",
       "        text-align: right;\n",
       "    }\n",
       "\n",
       "    .dataframe thead th {\n",
       "        text-align: left;\n",
       "    }\n",
       "\n",
       "    .dataframe tbody tr th {\n",
       "        vertical-align: top;\n",
       "    }\n",
       "</style>\n",
       "<table border=\"1\" class=\"dataframe\">\n",
       "  <thead>\n",
       "    <tr style=\"text-align: right;\">\n",
       "      <th></th>\n",
       "      <th>Y</th>\n",
       "    </tr>\n",
       "  </thead>\n",
       "  <tbody>\n",
       "    <tr>\n",
       "      <th>0</th>\n",
       "      <td>6.701591</td>\n",
       "    </tr>\n",
       "    <tr>\n",
       "      <th>1</th>\n",
       "      <td>5.257215</td>\n",
       "    </tr>\n",
       "    <tr>\n",
       "      <th>2</th>\n",
       "      <td>5.277083</td>\n",
       "    </tr>\n",
       "    <tr>\n",
       "      <th>3</th>\n",
       "      <td>5.643431</td>\n",
       "    </tr>\n",
       "    <tr>\n",
       "      <th>4</th>\n",
       "      <td>6.226580</td>\n",
       "    </tr>\n",
       "  </tbody>\n",
       "</table>\n",
       "</div>"
      ],
      "text/plain": [
       "          Y\n",
       "0  6.701591\n",
       "1  5.257215\n",
       "2  5.277083\n",
       "3  5.643431\n",
       "4  6.226580"
      ]
     },
     "execution_count": 10,
     "metadata": {},
     "output_type": "execute_result"
    }
   ],
   "source": [
    "y_df.head()"
   ]
  },
  {
   "cell_type": "code",
   "execution_count": 11,
   "metadata": {},
   "outputs": [],
   "source": [
    "my_data = pd.concat(\n",
    "         [ x_df, y_df], axis=1) \n",
    "              # axis=1 keeps it from stacking on like pancakes"
   ]
  },
  {
   "cell_type": "markdown",
   "metadata": {},
   "source": [
    "Copied from the course notes version:\n",
    "\n",
    "```\n",
    "my_data = pd.concat(\n",
    "        [pd.DataFrame(data=x_data,columns=['X Data']),\n",
    "         pd.DataFrame(data=y_true,columns=['Y'])\n",
    "    ],\n",
    "    axis=1\n",
    ")\n",
    "```"
   ]
  },
  {
   "cell_type": "code",
   "execution_count": 12,
   "metadata": {},
   "outputs": [
    {
     "data": {
      "text/html": [
       "<div>\n",
       "<style>\n",
       "    .dataframe thead tr:only-child th {\n",
       "        text-align: right;\n",
       "    }\n",
       "\n",
       "    .dataframe thead th {\n",
       "        text-align: left;\n",
       "    }\n",
       "\n",
       "    .dataframe tbody tr th {\n",
       "        vertical-align: top;\n",
       "    }\n",
       "</style>\n",
       "<table border=\"1\" class=\"dataframe\">\n",
       "  <thead>\n",
       "    <tr style=\"text-align: right;\">\n",
       "      <th></th>\n",
       "      <th>X Data</th>\n",
       "      <th>Y</th>\n",
       "    </tr>\n",
       "  </thead>\n",
       "  <tbody>\n",
       "    <tr>\n",
       "      <th>0</th>\n",
       "      <td>0.00000</td>\n",
       "      <td>6.701591</td>\n",
       "    </tr>\n",
       "    <tr>\n",
       "      <th>1</th>\n",
       "      <td>0.00001</td>\n",
       "      <td>5.257215</td>\n",
       "    </tr>\n",
       "    <tr>\n",
       "      <th>2</th>\n",
       "      <td>0.00002</td>\n",
       "      <td>5.277083</td>\n",
       "    </tr>\n",
       "    <tr>\n",
       "      <th>3</th>\n",
       "      <td>0.00003</td>\n",
       "      <td>5.643431</td>\n",
       "    </tr>\n",
       "    <tr>\n",
       "      <th>4</th>\n",
       "      <td>0.00004</td>\n",
       "      <td>6.226580</td>\n",
       "    </tr>\n",
       "  </tbody>\n",
       "</table>\n",
       "</div>"
      ],
      "text/plain": [
       "    X Data         Y\n",
       "0  0.00000  6.701591\n",
       "1  0.00001  5.257215\n",
       "2  0.00002  5.277083\n",
       "3  0.00003  5.643431\n",
       "4  0.00004  6.226580"
      ]
     },
     "execution_count": 12,
     "metadata": {},
     "output_type": "execute_result"
    }
   ],
   "source": [
    "my_data.head()"
   ]
  },
  {
   "cell_type": "code",
   "execution_count": 13,
   "metadata": {},
   "outputs": [],
   "source": [
    "# my_data.plot() might crash the kernel\n",
    "my_sample = my_data.sample(n=250)"
   ]
  },
  {
   "cell_type": "code",
   "execution_count": 14,
   "metadata": {},
   "outputs": [
    {
     "data": {
      "text/html": [
       "<div>\n",
       "<style>\n",
       "    .dataframe thead tr:only-child th {\n",
       "        text-align: right;\n",
       "    }\n",
       "\n",
       "    .dataframe thead th {\n",
       "        text-align: left;\n",
       "    }\n",
       "\n",
       "    .dataframe tbody tr th {\n",
       "        vertical-align: top;\n",
       "    }\n",
       "</style>\n",
       "<table border=\"1\" class=\"dataframe\">\n",
       "  <thead>\n",
       "    <tr style=\"text-align: right;\">\n",
       "      <th></th>\n",
       "      <th>X Data</th>\n",
       "      <th>Y</th>\n",
       "    </tr>\n",
       "  </thead>\n",
       "  <tbody>\n",
       "    <tr>\n",
       "      <th>589163</th>\n",
       "      <td>5.891636</td>\n",
       "      <td>7.614337</td>\n",
       "    </tr>\n",
       "    <tr>\n",
       "      <th>353099</th>\n",
       "      <td>3.530994</td>\n",
       "      <td>6.483128</td>\n",
       "    </tr>\n",
       "    <tr>\n",
       "      <th>319572</th>\n",
       "      <td>3.195723</td>\n",
       "      <td>8.379148</td>\n",
       "    </tr>\n",
       "    <tr>\n",
       "      <th>592763</th>\n",
       "      <td>5.927636</td>\n",
       "      <td>8.705950</td>\n",
       "    </tr>\n",
       "    <tr>\n",
       "      <th>451280</th>\n",
       "      <td>4.512805</td>\n",
       "      <td>6.901867</td>\n",
       "    </tr>\n",
       "  </tbody>\n",
       "</table>\n",
       "</div>"
      ],
      "text/plain": [
       "          X Data         Y\n",
       "589163  5.891636  7.614337\n",
       "353099  3.530994  6.483128\n",
       "319572  3.195723  8.379148\n",
       "592763  5.927636  8.705950\n",
       "451280  4.512805  6.901867"
      ]
     },
     "execution_count": 14,
     "metadata": {},
     "output_type": "execute_result"
    }
   ],
   "source": [
    "my_sample.head()"
   ]
  },
  {
   "cell_type": "code",
   "execution_count": 15,
   "metadata": {},
   "outputs": [
    {
     "data": {
      "text/plain": [
       "<matplotlib.axes._subplots.AxesSubplot at 0x19fcdc201d0>"
      ]
     },
     "execution_count": 15,
     "metadata": {},
     "output_type": "execute_result"
    },
    {
     "data": {
      "image/png": "[encoded data removed]",
      "text/plain": [
       "<matplotlib.figure.Figure at 0x19fcdc20da0>"
      ]
     },
     "metadata": {
      "needs_background": "light"
     },
     "output_type": "display_data"
    }
   ],
   "source": [
    "my_sample.plot(kind='scatter', x = 'X Data', y='Y')"
   ]
  },
  {
   "cell_type": "markdown",
   "metadata": {},
   "source": [
    "# TensorFlow"
   ]
  },
  {
   "cell_type": "markdown",
   "metadata": {},
   "source": [
    "## Batch Size\n",
    "\n",
    "> We will take the data in batches (1 000 000 points is a lot to pass in at once)."
   ]
  },
  {
   "cell_type": "code",
   "execution_count": 16,
   "metadata": {},
   "outputs": [],
   "source": [
    "# random points to grab, If you had a trillion, probably use smaller batches\n",
    "batch_size = 8"
   ]
  },
  {
   "cell_type": "markdown",
   "metadata": {},
   "source": [
    "#### Variables"
   ]
  },
  {
   "cell_type": "code",
   "execution_count": 17,
   "metadata": {},
   "outputs": [],
   "source": [
    "m_pre, b_pre = np.random.randn(2)"
   ]
  },
  {
   "cell_type": "code",
   "execution_count": 18,
   "metadata": {},
   "outputs": [
    {
     "data": {
      "text/plain": [
       "numpy.float64"
      ]
     },
     "execution_count": 18,
     "metadata": {},
     "output_type": "execute_result"
    }
   ],
   "source": [
    "type(m_pre)"
   ]
  },
  {
   "cell_type": "code",
   "execution_count": 19,
   "metadata": {},
   "outputs": [
    {
     "data": {
      "text/plain": [
       "numpy.float64"
      ]
     },
     "execution_count": 19,
     "metadata": {},
     "output_type": "execute_result"
    }
   ],
   "source": [
    "type(b_pre)"
   ]
  },
  {
   "cell_type": "code",
   "execution_count": 20,
   "metadata": {},
   "outputs": [],
   "source": [
    "# I didn't follow this, because using 'dtype' instead of 'type' worked\n",
    "#tf.cast(m_pre, tf.float32)\n",
    "#tf.cast(b_pre, tf.float32)"
   ]
  },
  {
   "cell_type": "code",
   "execution_count": 21,
   "metadata": {},
   "outputs": [
    {
     "name": "stdout",
     "output_type": "stream",
     "text": [
      "Initally: m = 0.9219094411077142 ; b = 1.0924033019342743\n"
     ]
    }
   ],
   "source": [
    "#  DWB, I had to add the type\n",
    "#+ Jose just used, e.g. 'm = tf.Variable(0.81)'\n",
    "m = tf.Variable(m_pre, dtype=tf.float32) \n",
    "b = tf.Variable(b_pre, dtype=tf.float32)\n",
    "\n",
    "print(\"Initally: m = \" + str(m_pre) + \" ; \" + \"b = \" + str(b_pre))"
   ]
  },
  {
   "cell_type": "markdown",
   "metadata": {},
   "source": [
    "#### Placeholders"
   ]
  },
  {
   "cell_type": "code",
   "execution_count": 22,
   "metadata": {},
   "outputs": [],
   "source": [
    "x_ph = tf.placeholder(tf.float32, [batch_size])"
   ]
  },
  {
   "cell_type": "code",
   "execution_count": 23,
   "metadata": {},
   "outputs": [],
   "source": [
    "y_ph = tf.placeholder(tf.float32, [batch_size])"
   ]
  },
  {
   "cell_type": "markdown",
   "metadata": {},
   "source": [
    "So, I'm getting that placeholders get your data, while variables are what you're trying to predict. I'm not sure that's exactly correct, but it's what I'm getting right now."
   ]
  },
  {
   "cell_type": "markdown",
   "metadata": {},
   "source": [
    "#### Graph\n",
    " \n",
    "What are we trying to do here? Fit a line to some points. So it's a $ y = mx + b $ kind of graph"
   ]
  },
  {
   "cell_type": "code",
   "execution_count": 24,
   "metadata": {},
   "outputs": [],
   "source": [
    "y_model = m * x_ph + b # Had to mess with type to get this to work"
   ]
  },
  {
   "cell_type": "markdown",
   "metadata": {},
   "source": [
    "#### Loss Function"
   ]
  },
  {
   "cell_type": "code",
   "execution_count": 25,
   "metadata": {},
   "outputs": [],
   "source": [
    "#  Remember that y_value is the true value\n",
    "#+ Also, we square it to punish the error more,\n",
    "#+ and thus bring it closer more quickly.\n",
    "#+ could use '() ** 2' instead of tf.square()\n",
    "\n",
    "error = tf.reduce_sum(tf.square(y_ph - y_model))"
   ]
  },
  {
   "cell_type": "markdown",
   "metadata": {},
   "source": [
    "#### Optimizer"
   ]
  },
  {
   "cell_type": "code",
   "execution_count": 26,
   "metadata": {},
   "outputs": [],
   "source": [
    "optimizer = tf.train.GradientDescentOptimizer(learning_rate=0.001)\n",
    "train = optimizer.minimize(error)"
   ]
  },
  {
   "cell_type": "markdown",
   "metadata": {},
   "source": [
    "#### Initialize Variables"
   ]
  },
  {
   "cell_type": "code",
   "execution_count": 27,
   "metadata": {},
   "outputs": [],
   "source": [
    "init = tf.global_variables_initializer()"
   ]
  },
  {
   "cell_type": "markdown",
   "metadata": {},
   "source": [
    "### Session"
   ]
  },
  {
   "cell_type": "code",
   "execution_count": 28,
   "metadata": {},
   "outputs": [],
   "source": [
    "with tf.Session() as sess:\n",
    "    \n",
    "    sess.run(init)\n",
    "    \n",
    "    batches = 1000\n",
    "    \n",
    "    for i in range(batches):\n",
    "        \n",
    "        rand_index = np.random.randint(len(x_data),\n",
    "                                       size=batch_size)\n",
    "        \n",
    "        #  DWB: it seems to me we'll only we doing 8000 out\n",
    "        #+ of the 1e6 points. That will make it go faster, I\n",
    "        #+ guess.\n",
    "        #\n",
    "        #  Jose says we can play around with batches and\n",
    "        #+ batch_size to see if we have enough data to \n",
    "        #+ train it well. He seems to suggest that, if we\n",
    "        #+ were to use more of the training data, we would\n",
    "        #+ overfit to the training data. Not sure if that\n",
    "        #+ applies here ... wait, yes it kinda does but not\n",
    "        #+ in a way that's too concerning - we're taking\n",
    "        #+ random parts ...\n",
    "        \n",
    "        feed = {x_ph:x_data[rand_index], \n",
    "                y_ph:y_true[rand_index]}\n",
    "                \n",
    "        sess.run(train, feed_dict=feed)\n",
    "        \n",
    "        #  So, we have it fitting the data with 8 random points\n",
    "        #+ for each\n",
    "        \n",
    "    ##endof:  for i\n",
    "    \n",
    "    #  Fetch the slope and intercept values (run will go get the \n",
    "    #+ m and b placeholders)\n",
    "    model_m, model_b = sess.run([m, b])\n",
    "    \n",
    "##endof:  with ... sess"
   ]
  },
  {
   "cell_type": "code",
   "execution_count": 29,
   "metadata": {},
   "outputs": [
    {
     "data": {
      "text/plain": [
       "0.52672875"
      ]
     },
     "execution_count": 29,
     "metadata": {},
     "output_type": "execute_result"
    }
   ],
   "source": [
    "model_m # should come out close to our 0.5"
   ]
  },
  {
   "cell_type": "code",
   "execution_count": 30,
   "metadata": {},
   "outputs": [
    {
     "data": {
      "text/plain": [
       "4.949375"
      ]
     },
     "execution_count": 30,
     "metadata": {},
     "output_type": "execute_result"
    }
   ],
   "source": [
    "model_b #should come out close to our 5"
   ]
  },
  {
   "cell_type": "markdown",
   "metadata": {},
   "source": [
    "So, we went from whatever our original m and b values were - in my case $ m = -1.8 $ and $ b = 0.5 $. The values used for this specific training can be found with the following cell."
   ]
  },
  {
   "cell_type": "code",
   "execution_count": 31,
   "metadata": {},
   "outputs": [
    {
     "name": "stdout",
     "output_type": "stream",
     "text": [
      "m_init = 0.9219094411077142 ; b_init = 1.0924033019342743\n"
     ]
    }
   ],
   "source": [
    "print(\"m_init = \" + str(m_pre) + \" ; \" + \"b_init = \" + str(b_pre))"
   ]
  },
  {
   "cell_type": "markdown",
   "metadata": {},
   "source": [
    "And we ended up with the `model_m` and `model_b` shown above, which are quite close to the values before noise, m = 0.5, b = 5; Things would look even nicer if we took the error over the value."
   ]
  },
  {
   "cell_type": "code",
   "execution_count": 32,
   "metadata": {},
   "outputs": [
    {
     "name": "stdout",
     "output_type": "stream",
     "text": [
      "Delta_m = 0.02672874927520752;\n",
      "Delta_b = 0.050624847412109375\n"
     ]
    }
   ],
   "source": [
    "print(\"Delta_m = \" + str(abs(0.5 - model_m)) + \";\\n\" + \\\n",
    "      \"Delta_b = \" + str(abs(5.0 - model_b)))"
   ]
  },
  {
   "cell_type": "markdown",
   "metadata": {},
   "source": [
    "### Results"
   ]
  },
  {
   "cell_type": "code",
   "execution_count": 33,
   "metadata": {},
   "outputs": [],
   "source": [
    "y_hat = x_data * model_m + model_b # rem. y_hat represents the predicted"
   ]
  },
  {
   "cell_type": "code",
   "execution_count": 34,
   "metadata": {},
   "outputs": [
    {
     "data": {
      "text/plain": [
       "[<matplotlib.lines.Line2D at 0x19fcfa2c780>]"
      ]
     },
     "execution_count": 34,
     "metadata": {},
     "output_type": "execute_result"
    },
    {
     "data": {
      "image/png": "[encoded data removed]",
      "text/plain": [
       "<matplotlib.figure.Figure at 0x19fcdc74da0>"
      ]
     },
     "metadata": {
      "needs_background": "light"
     },
     "output_type": "display_data"
    }
   ],
   "source": [
    "my_data.sample(250).plot(kind=\"scatter\",\n",
    "                         x=\"X Data\", y=\"Y\")\n",
    "plt.plot(x_data, y_hat, 'r') #  Oh, so I see Pandas is using \n",
    "                             #+ the matplotlib canvas. Cool!"
   ]
  },
  {
   "cell_type": "markdown",
   "metadata": {},
   "source": [
    "Jose changes the above code for 10k batches, I'm going to have it all re-written, so I can compare better. I will stick it to the anti-Q&R voice by not renaming the variables. Wahahaha!\n",
    "\n",
    "I though I might have to rename them, then I think I figured that I could get rid of an error that came up by initializing the variables. Nope, had to re-put-in all the code. But I'm not renaming the variables. Wahahaha!"
   ]
  },
  {
   "cell_type": "code",
   "execution_count": 35,
   "metadata": {},
   "outputs": [
    {
     "name": "stdout",
     "output_type": "stream",
     "text": [
      "Initally: m = 0.9219094411077142 ; b = 1.0924033019342743\n"
     ]
    }
   ],
   "source": [
    "#  DWB, I had to add the type\n",
    "#+ Jose just used, e.g. 'm = tf.Variable(0.81)'\n",
    "m = tf.Variable(m_pre, dtype=tf.float32) \n",
    "b = tf.Variable(b_pre, dtype=tf.float32)\n",
    "print(\"Initally: m = \" + str(m_pre) + \" ; \" + \"b = \" + str(b_pre))\n",
    "x_ph = tf.placeholder(tf.float32, [batch_size])\n",
    "y_ph = tf.placeholder(tf.float32, [batch_size])\n",
    "y_model = m * x_ph + b\n",
    "error = tf.reduce_sum(tf.square(y_ph - y_model))\n",
    "optimizer = tf.train.GradientDescentOptimizer(learning_rate=0.001)\n",
    "train = optimizer.minimize(error)\n",
    "init = tf.global_variables_initializer()"
   ]
  },
  {
   "cell_type": "code",
   "execution_count": 36,
   "metadata": {},
   "outputs": [],
   "source": [
    "with tf.Session() as sess:\n",
    "    \n",
    "    sess.run(init)\n",
    "    \n",
    "    batches = 10000\n",
    "    \n",
    "    for i in range(batches):\n",
    "        \n",
    "        rand_index = np.random.randint(len(x_data),\n",
    "                                       size=batch_size)\n",
    "        \n",
    "        feed = {x_ph:x_data[rand_index], \n",
    "                y_ph:y_true[rand_index]}\n",
    "                \n",
    "        sess.run(train, feed_dict=feed)\n",
    "        \n",
    "    ##endof:  for i\n",
    "    \n",
    "    #  Fetch the slope and intercept values (run will go get the \n",
    "    #+ m and b placeholders)\n",
    "    model_m, model_b = sess.run([m, b])\n",
    "    \n",
    "##endof:  with ... sess"
   ]
  },
  {
   "cell_type": "code",
   "execution_count": 37,
   "metadata": {},
   "outputs": [
    {
     "data": {
      "text/plain": [
       "0.51599014"
      ]
     },
     "execution_count": 37,
     "metadata": {},
     "output_type": "execute_result"
    }
   ],
   "source": [
    "model_m"
   ]
  },
  {
   "cell_type": "code",
   "execution_count": 38,
   "metadata": {},
   "outputs": [
    {
     "data": {
      "text/plain": [
       "5.012504"
      ]
     },
     "execution_count": 38,
     "metadata": {},
     "output_type": "execute_result"
    }
   ],
   "source": [
    "model_b"
   ]
  },
  {
   "cell_type": "markdown",
   "metadata": {},
   "source": [
    "After re-puttting-in the code, I got my answers."
   ]
  },
  {
   "cell_type": "code",
   "execution_count": 39,
   "metadata": {},
   "outputs": [
    {
     "name": "stdout",
     "output_type": "stream",
     "text": [
      "m_init = 0.9219094411077142 ; b_init = 1.0924033019342743\n",
      "m_final = 0.51599014 ; b_fin = 5.012504\n",
      "Delta_m = 0.015990138053894043;\n",
      "Delta_b = 0.012504100799560547\n",
      "\n",
      "Hmmm ...\n",
      "\n",
      "Compare to:\n",
      "Delta_m = 0.006303846836090088\n",
      "and\n",
      "Delta_b = 0.055045127868652344\n",
      "for 8000 batches.\n",
      "\n",
      "... interesting ...\n"
     ]
    }
   ],
   "source": [
    "print(\"m_init = \" + str(m_pre) + \" ; \" + \"b_init = \" + str(b_pre))\n",
    "print(\"m_final = \" + str(model_m) + \" ; \" + \"b_fin = \" + str(model_b))\n",
    "\n",
    "print(\"Delta_m = \" + str(abs(0.5 - model_m)) + \";\\n\" + \\\n",
    "      \"Delta_b = \" + str(abs(5.0 - model_b)))\n",
    "print()\n",
    "print(\"Hmmm ...\")\n",
    "print()\n",
    "print(\"Compare to:\" + '\\n' + \\\n",
    "      \"Delta_m = 0.006303846836090088\" + '\\n' + \"and\" + \\\n",
    "      '\\n' + \"Delta_b = 0.055045127868652344\" + '\\n' +  \\\n",
    "      \"for 8000 batches.\" + \\\n",
    "      '\\n\\n' + \"... interesting ...\")"
   ]
  },
  {
   "cell_type": "code",
   "execution_count": 40,
   "metadata": {},
   "outputs": [
    {
     "data": {
      "text/plain": [
       "[<matplotlib.lines.Line2D at 0x19fcfd7e898>]"
      ]
     },
     "execution_count": 40,
     "metadata": {},
     "output_type": "execute_result"
    },
    {
     "data": {
      "image/png": "[encoded data removed]",
      "text/plain": [
       "<matplotlib.figure.Figure at 0x19fcfd7e390>"
      ]
     },
     "metadata": {
      "needs_background": "light"
     },
     "output_type": "display_data"
    }
   ],
   "source": [
    "y_hat = x_data * model_m + model_b\n",
    "my_data.sample(250).plot(kind=\"scatter\",\n",
    "                         x=\"X Data\", y=\"Y\")\n",
    "plt.plot(x_data, y_hat, 'r')"
   ]
  },
  {
   "cell_type": "markdown",
   "metadata": {},
   "source": [
    "Jose stated that the noise might make it so they might not be so different.\n",
    "\n",
    "He noted (as I'd been thinking) that we haven't been doing the train/test split. We will with `tf.estimator`"
   ]
  },
  {
   "cell_type": "markdown",
   "metadata": {},
   "source": [
    "## tf.estimator API\n",
    "\n",
    "> Much simpler API for basic tasks like regression! We'll talk about more abstractions like TF-Slim later on.\n",
    "\n",
    "### Types\n",
    "\n",
    "```\n",
    "tf.estimator.LinearClassifier\n",
    "tf.estimator.LinearRegressor\n",
    "tf.estimator.DNNClassifier\n",
    "tf.estimator.DNNRegressor\n",
    "```\n",
    "\n",
    "Jose says `DNN` is for Densely-connected Neural Network. I'm not sure that it's not Deep, but I am leaning towards thinking he's right.\n",
    "\n",
    "Combined-type\n",
    "\n",
    "```\n",
    "tf.estimator.DNNLinearCombinedClassifier\n",
    "tf.estimator.DNNLinearCombinedRegressor\n",
    "```\n",
    "\n",
    "### Steps\n",
    "\n",
    "- Define a list of feature columns\n",
    "- Create the Estimator Model\n",
    "- Create a Data Input Function\n",
    "- Call `train`, `evaluate`, and `predict` on the object\n",
    "\n",
    "#### We're going to use maybe-not-the-best use case, with just one feature, but it will get us the idea"
   ]
  },
  {
   "cell_type": "code",
   "execution_count": 41,
   "metadata": {},
   "outputs": [],
   "source": [
    "# deeper dive into feature column later\n",
    "feat_cols = [ tf.feature_column.numeric_column('x', shape=[1]) ]"
   ]
  },
  {
   "cell_type": "code",
   "execution_count": 42,
   "metadata": {},
   "outputs": [
    {
     "name": "stdout",
     "output_type": "stream",
     "text": [
      "INFO:tensorflow:Using default config.\n",
      "WARNING:tensorflow:Using temporary folder as model directory: C:\\Users\\Anast\\AppData\\Local\\Temp\\tmp4lev76s_\n",
      "INFO:tensorflow:Using config: {'_save_checkpoints_steps': None, '_keep_checkpoint_every_n_hours': 10000, '_cluster_spec': <tensorflow.python.training.server_lib.ClusterSpec object at 0x0000019FCFE10518>, '_num_worker_replicas': 1, '_global_id_in_cluster': 0, '_master': '', '_evaluation_master': '', '_num_ps_replicas': 0, '_task_id': 0, '_task_type': 'worker', '_save_summary_steps': 100, '_keep_checkpoint_max': 5, '_device_fn': None, '_is_chief': True, '_train_distribute': None, '_save_checkpoints_secs': 600, '_service': None, '_model_dir': 'C:\\\\Users\\\\Anast\\\\AppData\\\\Local\\\\Temp\\\\tmp4lev76s_', '_tf_random_seed': None, '_log_step_count_steps': 100, '_session_config': None}\n"
     ]
    }
   ],
   "source": [
    "estimator = tf.estimator.LinearRegressor(feature_columns=feat_cols)"
   ]
  },
  {
   "cell_type": "markdown",
   "metadata": {},
   "source": [
    "Note the output\n",
    "\n",
    "```\n",
    "INFO:tensorflow:Using default config.\n",
    "WARNING:tensorflow:Using temporary folder as model directory: C:\\Users\\Anast\\AppData\\Local\\Temp\\tmpn9_bnvpm\n",
    "INFO:tensorflow:Using config: {'_session_config': None, '_device_fn': None, '_keep_checkpoint_max': 5, '_cluster_spec': <tensorflow.python.training.server_lib.ClusterSpec object at 0x000002E2998E5128>, '_task_type': 'worker', '_global_id_in_cluster': 0, '_num_worker_replicas': 1, '_log_step_count_steps': 100, '_is_chief': True, '_train_distribute': None, '_save_checkpoints_secs': 600, '_task_id': 0, '_service': None, '_save_summary_steps': 100, '_keep_checkpoint_every_n_hours': 10000, '_num_ps_replicas': 0, '_master': '', '_tf_random_seed': None, '_evaluation_master': '', '_save_checkpoints_steps': None, '_model_dir': 'C:\\\\Users\\\\Anast\\\\AppData\\\\Local\\\\Temp\\\\tmpn9_bnvpm'}\n",
    "```\n",
    "\n",
    "with probably a different string at the end of the path each time."
   ]
  },
  {
   "cell_type": "markdown",
   "metadata": {},
   "source": [
    "### Train Test Split\n",
    "\n",
    "> We haven't actually performed a train test split yet! So let's do that on our data now and perform a more realistic version of a Regression Task"
   ]
  },
  {
   "cell_type": "code",
   "execution_count": 43,
   "metadata": {},
   "outputs": [],
   "source": [
    "# type 'train_test_split', then do [Shift] + [Tab] to get the line\n",
    "x_train, x_eval, y_train, y_eval = \\\n",
    "                train_test_split(x_data, y_true, \n",
    "                                 test_size=0.3, \n",
    "                                 random_state=101) # match Jose"
   ]
  },
  {
   "cell_type": "code",
   "execution_count": 44,
   "metadata": {},
   "outputs": [
    {
     "name": "stdout",
     "output_type": "stream",
     "text": [
      "x_train.shape = (700000,)\n",
      "y_train.shape = (700000,)\n",
      "\n",
      "x_eval.shape = (300000,)\n",
      "y_eval.shape = (300000,)\n"
     ]
    }
   ],
   "source": [
    "print(\"x_train.shape = \" + str(x_train.shape))\n",
    "print(\"y_train.shape = \" + str(y_train.shape))\n",
    "print()\n",
    "print(\"x_eval.shape = \" + str(x_eval.shape))\n",
    "print(\"y_eval.shape = \" + str(y_eval.shape))"
   ]
  },
  {
   "cell_type": "markdown",
   "metadata": {},
   "source": [
    "### Set up Estimator Inputs"
   ]
  },
  {
   "cell_type": "markdown",
   "metadata": {},
   "source": [
    "> ... input_function that kind of serves like your feed dictionary and your batch size indicator ...\n",
    "\n",
    "Jose"
   ]
  },
  {
   "cell_type": "code",
   "execution_count": 45,
   "metadata": {},
   "outputs": [],
   "source": [
    "# Can also do .pandas_input_fn if you're coming from a Pandas dataframe\n",
    "input_func = \\\n",
    "    tf.estimator.inputs.numpy_input_fn({'x':x_train},\n",
    "                                       y_train,\n",
    "                                       batch_size=4,\n",
    "                                       num_epochs=None,\n",
    "                                       shuffle=True\n",
    "    )"
   ]
  },
  {
   "cell_type": "code",
   "execution_count": 46,
   "metadata": {},
   "outputs": [],
   "source": [
    "train_input_func = \\\n",
    "    tf.estimator.inputs.numpy_input_fn({'x':x_train},\n",
    "                                       y_train,\n",
    "                                       batch_size=4,\n",
    "                                       num_epochs=1000,\n",
    "                                       shuffle=False\n",
    "    )\n",
    "#  Why shuffle is False?\n",
    "#+ Jose says, \"And I also wanna set shuffle equal to false.\n",
    "#+            \"Okay, there we go.\n",
    "#+            \"And the reason I have a shuffle equals false \n",
    "#+            \"here for this\n",
    "#+            \"train is because I'm gonna be using this \n",
    "#+            \"train input\n",
    "#+            \"function for evaluation against a test input \n",
    "#+            \"function.\"\n",
    "#+ DWB:  The one just below, eval_input_function, which also\n",
    "#+ DWB: has shuffle=False\n",
    "#+ DWB:  Not sure I understand this, but let's go with it."
   ]
  },
  {
   "cell_type": "code",
   "execution_count": 47,
   "metadata": {},
   "outputs": [],
   "source": [
    "eval_input_func = \\\n",
    "    tf.estimator.inputs.numpy_input_fn({'x':x_eval},\n",
    "                                       y_eval,\n",
    "                                       batch_size=4,\n",
    "                                       num_epochs=1000,\n",
    "                                       shuffle=False\n",
    "    )"
   ]
  },
  {
   "cell_type": "markdown",
   "metadata": {},
   "source": [
    "### Train the Estimator"
   ]
  },
  {
   "cell_type": "code",
   "execution_count": 48,
   "metadata": {},
   "outputs": [
    {
     "name": "stdout",
     "output_type": "stream",
     "text": [
      "INFO:tensorflow:Calling model_fn.\n",
      "INFO:tensorflow:Done calling model_fn.\n",
      "INFO:tensorflow:Create CheckpointSaverHook.\n",
      "INFO:tensorflow:Graph was finalized.\n",
      "INFO:tensorflow:Running local_init_op.\n",
      "INFO:tensorflow:Done running local_init_op.\n",
      "INFO:tensorflow:Saving checkpoints for 0 into C:\\Users\\Anast\\AppData\\Local\\Temp\\tmp4lev76s_\\model.ckpt.\n",
      "INFO:tensorflow:loss = 277.04425, step = 1\n",
      "INFO:tensorflow:global_step/sec: 1040.02\n",
      "INFO:tensorflow:loss = 18.916502, step = 101 (0.098 sec)\n",
      "INFO:tensorflow:global_step/sec: 1348.1\n",
      "INFO:tensorflow:loss = 24.089243, step = 201 (0.075 sec)\n",
      "INFO:tensorflow:global_step/sec: 1264.96\n",
      "INFO:tensorflow:loss = 4.8022146, step = 301 (0.077 sec)\n",
      "INFO:tensorflow:global_step/sec: 1205.42\n",
      "INFO:tensorflow:loss = 7.419866, step = 401 (0.084 sec)\n",
      "INFO:tensorflow:global_step/sec: 1540.21\n",
      "INFO:tensorflow:loss = 4.0433393, step = 501 (0.064 sec)\n",
      "INFO:tensorflow:global_step/sec: 1423.04\n",
      "INFO:tensorflow:loss = 3.2885437, step = 601 (0.070 sec)\n",
      "INFO:tensorflow:global_step/sec: 1356.6\n",
      "INFO:tensorflow:loss = 2.6762466, step = 701 (0.075 sec)\n",
      "INFO:tensorflow:global_step/sec: 1384.59\n",
      "INFO:tensorflow:loss = 4.750156, step = 801 (0.071 sec)\n",
      "INFO:tensorflow:global_step/sec: 1321.63\n",
      "INFO:tensorflow:loss = 0.96655273, step = 901 (0.077 sec)\n",
      "INFO:tensorflow:Saving checkpoints for 1000 into C:\\Users\\Anast\\AppData\\Local\\Temp\\tmp4lev76s_\\model.ckpt.\n",
      "INFO:tensorflow:Loss for final step: 1.3566413.\n"
     ]
    },
    {
     "data": {
      "text/plain": [
       "<tensorflow.python.estimator.canned.linear.LinearRegressor at 0x19fcfdd4c88>"
      ]
     },
     "execution_count": 48,
     "metadata": {},
     "output_type": "execute_result"
    }
   ],
   "source": [
    "estimator.train(input_fn=input_func, steps=1000)\n",
    "    #  We do  steps=1000 , since we didn't specify training\n",
    "    #+ epochs for our  input_func ."
   ]
  },
  {
   "cell_type": "markdown",
   "metadata": {},
   "source": [
    "### Evaluation"
   ]
  },
  {
   "cell_type": "code",
   "execution_count": 49,
   "metadata": {},
   "outputs": [
    {
     "name": "stdout",
     "output_type": "stream",
     "text": [
      "INFO:tensorflow:Calling model_fn.\n",
      "INFO:tensorflow:Done calling model_fn.\n",
      "INFO:tensorflow:Starting evaluation at 2024-01-07-00:39:12\n",
      "INFO:tensorflow:Graph was finalized.\n",
      "INFO:tensorflow:Restoring parameters from C:\\Users\\Anast\\AppData\\Local\\Temp\\tmp4lev76s_\\model.ckpt-1000\n",
      "INFO:tensorflow:Running local_init_op.\n",
      "INFO:tensorflow:Done running local_init_op.\n",
      "INFO:tensorflow:Evaluation [100/1000]\n",
      "INFO:tensorflow:Evaluation [200/1000]\n",
      "INFO:tensorflow:Evaluation [300/1000]\n",
      "INFO:tensorflow:Evaluation [400/1000]\n",
      "INFO:tensorflow:Evaluation [500/1000]\n",
      "INFO:tensorflow:Evaluation [600/1000]\n",
      "INFO:tensorflow:Evaluation [700/1000]\n",
      "INFO:tensorflow:Evaluation [800/1000]\n",
      "INFO:tensorflow:Evaluation [900/1000]\n",
      "INFO:tensorflow:Evaluation [1000/1000]\n",
      "INFO:tensorflow:Finished evaluation at 2024-01-07-00:39:14\n",
      "INFO:tensorflow:Saving dict for global step 1000: average_loss = 1.1106646, global_step = 1000, label/mean = 7.5024686, loss = 4.4426584, prediction/mean = 7.4529824\n",
      "INFO:tensorflow:Saving 'checkpoint_path' summary for global step 1000: C:\\Users\\Anast\\AppData\\Local\\Temp\\tmp4lev76s_\\model.ckpt-1000\n"
     ]
    }
   ],
   "source": [
    "train_metrics = estimator.evaluate(input_fn=train_input_func,\n",
    "                                   steps=1000\n",
    ")"
   ]
  },
  {
   "cell_type": "code",
   "execution_count": 50,
   "metadata": {},
   "outputs": [
    {
     "name": "stdout",
     "output_type": "stream",
     "text": [
      "INFO:tensorflow:Calling model_fn.\n",
      "INFO:tensorflow:Done calling model_fn.\n",
      "INFO:tensorflow:Starting evaluation at 2024-01-07-00:39:15\n",
      "INFO:tensorflow:Graph was finalized.\n",
      "INFO:tensorflow:Restoring parameters from C:\\Users\\Anast\\AppData\\Local\\Temp\\tmp4lev76s_\\model.ckpt-1000\n",
      "INFO:tensorflow:Running local_init_op.\n",
      "INFO:tensorflow:Done running local_init_op.\n",
      "INFO:tensorflow:Evaluation [100/1000]\n",
      "INFO:tensorflow:Evaluation [200/1000]\n",
      "INFO:tensorflow:Evaluation [300/1000]\n",
      "INFO:tensorflow:Evaluation [400/1000]\n",
      "INFO:tensorflow:Evaluation [500/1000]\n",
      "INFO:tensorflow:Evaluation [600/1000]\n",
      "INFO:tensorflow:Evaluation [700/1000]\n",
      "INFO:tensorflow:Evaluation [800/1000]\n",
      "INFO:tensorflow:Evaluation [900/1000]\n",
      "INFO:tensorflow:Evaluation [1000/1000]\n",
      "INFO:tensorflow:Finished evaluation at 2024-01-07-00:39:16\n",
      "INFO:tensorflow:Saving dict for global step 1000: average_loss = 1.1305045, global_step = 1000, label/mean = 7.492202, loss = 4.522018, prediction/mean = 7.411673\n",
      "INFO:tensorflow:Saving 'checkpoint_path' summary for global step 1000: C:\\Users\\Anast\\AppData\\Local\\Temp\\tmp4lev76s_\\model.ckpt-1000\n"
     ]
    }
   ],
   "source": [
    "eval_metrics = estimator.evaluate(input_fn=eval_input_func,\n",
    "                                  steps=1000\n",
    ")"
   ]
  },
  {
   "cell_type": "code",
   "execution_count": 52,
   "metadata": {},
   "outputs": [
    {
     "name": "stdout",
     "output_type": "stream",
     "text": [
      "train metrics: {'prediction/mean': 7.4529824, 'global_step': 1000, 'label/mean': 7.5024686, 'average_loss': 1.1106646, 'loss': 4.4426584}\n",
      "eval metrics : {'prediction/mean': 7.411673, 'global_step': 1000, 'label/mean': 7.492202, 'average_loss': 1.1305045, 'loss': 4.522018}\n",
      "The loss is pretty close for both, which \n",
      "is a good sign that we're not overfitting\n"
     ]
    }
   ],
   "source": [
    "print(\"train metrics: {}\".format(train_metrics)) # Python 3.5 allows this form\n",
    "print(\"eval metrics : {}\".format(eval_metrics))\n",
    "print(\"The loss is pretty close for both, which \" + \\\n",
    "      \"\\nis a good sign that we're not overfitting\")"
   ]
  },
  {
   "cell_type": "markdown",
   "metadata": {},
   "source": [
    "### Predictions"
   ]
  },
  {
   "cell_type": "code",
   "execution_count": 55,
   "metadata": {},
   "outputs": [],
   "source": [
    "brand_new_data = np.linspace(0, 10, 10)\n",
    "input_fn_predict = \\\n",
    "    tf.estimator.inputs.numpy_input_fn({'x':brand_new_data},\n",
    "                                       shuffle=False\n",
    "    )"
   ]
  },
  {
   "cell_type": "code",
   "execution_count": 56,
   "metadata": {},
   "outputs": [
    {
     "data": {
      "text/plain": [
       "<generator object Estimator.predict at 0x0000019FCFEA3AF0>"
      ]
     },
     "execution_count": 56,
     "metadata": {},
     "output_type": "execute_result"
    }
   ],
   "source": [
    "estimator.predict(input_fn=input_fn_predict)"
   ]
  },
  {
   "cell_type": "code",
   "execution_count": 57,
   "metadata": {},
   "outputs": [
    {
     "name": "stdout",
     "output_type": "stream",
     "text": [
      "INFO:tensorflow:Calling model_fn.\n",
      "INFO:tensorflow:Done calling model_fn.\n",
      "INFO:tensorflow:Graph was finalized.\n",
      "INFO:tensorflow:Restoring parameters from C:\\Users\\Anast\\AppData\\Local\\Temp\\tmp4lev76s_\\model.ckpt-1000\n",
      "INFO:tensorflow:Running local_init_op.\n",
      "INFO:tensorflow:Done running local_init_op.\n"
     ]
    },
    {
     "data": {
      "text/plain": [
       "[{'predictions': array([4.2708926], dtype=float32)},\n",
       " {'predictions': array([4.9738164], dtype=float32)},\n",
       " {'predictions': array([5.6767406], dtype=float32)},\n",
       " {'predictions': array([6.3796644], dtype=float32)},\n",
       " {'predictions': array([7.082588], dtype=float32)},\n",
       " {'predictions': array([7.785512], dtype=float32)},\n",
       " {'predictions': array([8.488436], dtype=float32)},\n",
       " {'predictions': array([9.1913595], dtype=float32)},\n",
       " {'predictions': array([9.894283], dtype=float32)},\n",
       " {'predictions': array([10.597208], dtype=float32)}]"
      ]
     },
     "execution_count": 57,
     "metadata": {},
     "output_type": "execute_result"
    }
   ],
   "source": [
    "# Easy to see the output of the generator by casting it as a list\n",
    "list(estimator.predict(input_fn=input_fn_predict))"
   ]
  },
  {
   "cell_type": "code",
   "execution_count": 59,
   "metadata": {},
   "outputs": [
    {
     "name": "stdout",
     "output_type": "stream",
     "text": [
      "INFO:tensorflow:Calling model_fn.\n",
      "INFO:tensorflow:Done calling model_fn.\n",
      "INFO:tensorflow:Graph was finalized.\n",
      "INFO:tensorflow:Restoring parameters from C:\\Users\\Anast\\AppData\\Local\\Temp\\tmp4lev76s_\\model.ckpt-1000\n",
      "INFO:tensorflow:Running local_init_op.\n",
      "INFO:tensorflow:Done running local_init_op.\n",
      "\n",
      "There are 10 entries,\n",
      "as we expect (as long as there are 10 entries).\n"
     ]
    }
   ],
   "source": [
    "# Repeat, for size\n",
    "my_list = list(estimator.predict(input_fn=input_fn_predict))\n",
    "print(\"\\nThere are \" + str(len(my_list)) + \" entries,\" + \\\n",
    "      \"\\nas we expect (as long as there are 10 entries).\")"
   ]
  },
  {
   "cell_type": "code",
   "execution_count": 60,
   "metadata": {},
   "outputs": [
    {
     "name": "stdout",
     "output_type": "stream",
     "text": [
      "INFO:tensorflow:Calling model_fn.\n",
      "INFO:tensorflow:Done calling model_fn.\n",
      "INFO:tensorflow:Graph was finalized.\n",
      "INFO:tensorflow:Restoring parameters from C:\\Users\\Anast\\AppData\\Local\\Temp\\tmp4lev76s_\\model.ckpt-1000\n",
      "INFO:tensorflow:Running local_init_op.\n",
      "INFO:tensorflow:Done running local_init_op.\n"
     ]
    }
   ],
   "source": [
    "predictions = [] #could also use  np.array[]\n",
    "for x in estimator.predict(input_fn=input_fn_predict):\n",
    "    predictions.append(x['predictions'])"
   ]
  },
  {
   "cell_type": "code",
   "execution_count": 61,
   "metadata": {},
   "outputs": [
    {
     "data": {
      "text/plain": [
       "[array([4.2708926], dtype=float32),\n",
       " array([4.9738164], dtype=float32),\n",
       " array([5.6767406], dtype=float32),\n",
       " array([6.3796644], dtype=float32),\n",
       " array([7.082588], dtype=float32),\n",
       " array([7.785512], dtype=float32),\n",
       " array([8.488436], dtype=float32),\n",
       " array([9.1913595], dtype=float32),\n",
       " array([9.894283], dtype=float32),\n",
       " array([10.597208], dtype=float32)]"
      ]
     },
     "execution_count": 61,
     "metadata": {},
     "output_type": "execute_result"
    }
   ],
   "source": [
    "predictions # how did we do?"
   ]
  },
  {
   "cell_type": "code",
   "execution_count": 64,
   "metadata": {},
   "outputs": [
    {
     "data": {
      "text/plain": [
       "[<matplotlib.lines.Line2D at 0x19fd02f5c50>]"
      ]
     },
     "execution_count": 64,
     "metadata": {},
     "output_type": "execute_result"
    },
    {
     "data": {
      "image/png": "[encoded data removed]",
      "text/plain": [
       "<matplotlib.figure.Figure at 0x19fd02f5940>"
      ]
     },
     "metadata": {
      "needs_background": "light"
     },
     "output_type": "display_data"
    }
   ],
   "source": [
    "my_data.sample(n=250).plot(kind='scatter',\n",
    "                           x='X Data', y='Y')\n",
    "plt.plot(brand_new_data, predictions, 'r')"
   ]
  },
  {
   "cell_type": "code",
   "execution_count": 65,
   "metadata": {},
   "outputs": [
    {
     "data": {
      "text/plain": [
       "[<matplotlib.lines.Line2D at 0x19fd10c7ac8>]"
      ]
     },
     "execution_count": 65,
     "metadata": {},
     "output_type": "execute_result"
    },
    {
     "data": {
      "image/png": "[encoded data removed]",
      "text/plain": [
       "<matplotlib.figure.Figure at 0x19fcfeea860>"
      ]
     },
     "metadata": {
      "needs_background": "light"
     },
     "output_type": "display_data"
    }
   ],
   "source": [
    "my_data.sample(n=250).plot(kind='scatter',\n",
    "                           x='X Data', y='Y')\n",
    "plt.plot(brand_new_data, predictions, 'r*')"
   ]
  },
  {
   "cell_type": "markdown",
   "metadata": {},
   "source": [
    "Jose usually says\n",
    "\n",
    "# Great Job!\n",
    "\n",
    "around here, which I think is cool.\n",
    "\n",
    "_That's all for now!_"
   ]
  }
 ],
 "metadata": {
  "kernelspec": {
   "display_name": "Python 3",
   "language": "python",
   "name": "python3"
  },
  "language_info": {
   "codemirror_mode": {
    "name": "ipython",
    "version": 3
   },
   "file_extension": ".py",
   "mimetype": "text/x-python",
   "name": "python",
   "nbconvert_exporter": "python",
   "pygments_lexer": "ipython3",
   "version": "3.5.4"
  }
 },
 "nbformat": 4,
 "nbformat_minor": 4
}
