{
 "cells": [
  {
   "cell_type": "markdown",
   "metadata": {},
   "source": [
    "# TensorFlow Regression Example\n",
    "\n",
    "More Realistic. More data points. Batches.\n",
    "\n",
    "The tf.estimator is for things that are easier. TensorFlow is more for things that need a specific neural network, customized, whatever..."
   ]
  },
  {
   "cell_type": "markdown",
   "metadata": {},
   "source": [
    "## Imports"
   ]
  },
  {
   "cell_type": "code",
   "execution_count": 2,
   "metadata": {},
   "outputs": [],
   "source": [
    "import numpy as np\n",
    "import pandas as pd\n",
    "\n",
    "import matplotlib.pyplot as plt\n",
    "%matplotlib inline\n",
    "\n",
    "import tensorflow as tf\n",
    "\n",
    "from sklearn.model_selection import train_test_split\n",
    "\n",
    "# remember TensorFlow and SciKit-Learn up here"
   ]
  },
  {
   "cell_type": "markdown",
   "metadata": {},
   "source": [
    "## Creating Data"
   ]
  },
  {
   "cell_type": "markdown",
   "metadata": {},
   "source": [
    "#### One Million Points!"
   ]
  },
  {
   "cell_type": "code",
   "execution_count": 3,
   "metadata": {},
   "outputs": [],
   "source": [
    "x_data = np.linspace(0.0, 10.0, 1000000) # We're not quite ready for a real dataset"
   ]
  },
  {
   "cell_type": "code",
   "execution_count": 4,
   "metadata": {},
   "outputs": [
    {
     "data": {
      "text/plain": [
       "array([0.000000e+00, 1.000001e-05, 2.000002e-05, ..., 9.999980e+00,\n",
       "       9.999990e+00, 1.000000e+01])"
      ]
     },
     "execution_count": 4,
     "metadata": {},
     "output_type": "execute_result"
    }
   ],
   "source": [
    "x_data"
   ]
  },
  {
   "cell_type": "markdown",
   "metadata": {},
   "source": [
    "#### Noise"
   ]
  },
  {
   "cell_type": "code",
   "execution_count": 5,
   "metadata": {},
   "outputs": [],
   "source": [
    "# No random seed (?)\n",
    "noise = np.random.randn(len(x_data))"
   ]
  },
  {
   "cell_type": "code",
   "execution_count": 6,
   "metadata": {},
   "outputs": [
    {
     "data": {
      "text/plain": [
       "array([ 0.27257003,  0.86361353, -0.51112445, ..., -1.73381899,\n",
       "        0.96372968, -0.31638217])"
      ]
     },
     "execution_count": 6,
     "metadata": {},
     "output_type": "execute_result"
    }
   ],
   "source": [
    "noise"
   ]
  },
  {
   "cell_type": "markdown",
   "metadata": {},
   "source": [
    "#### Now, for the data\n",
    "\n",
    "$ y = mx + b + noise $ just to make it more difficult for the model\n",
    "\n",
    "Jose, seemingly arbitrarily, chooses $ b = 5 $ and $ m = 0.5 $ to start"
   ]
  },
  {
   "cell_type": "code",
   "execution_count": 7,
   "metadata": {},
   "outputs": [],
   "source": [
    "y_true = ( 0.5 * x_data ) + 5 + noise"
   ]
  },
  {
   "cell_type": "markdown",
   "metadata": {},
   "source": [
    "Pandas"
   ]
  },
  {
   "cell_type": "code",
   "execution_count": 8,
   "metadata": {},
   "outputs": [],
   "source": [
    "x_df = pd.DataFrame(data=x_data, columns=['X Data'])"
   ]
  },
  {
   "cell_type": "code",
   "execution_count": 9,
   "metadata": {},
   "outputs": [
    {
     "data": {
      "text/html": [
       "<div>\n",
       "<style>\n",
       "    .dataframe thead tr:only-child th {\n",
       "        text-align: right;\n",
       "    }\n",
       "\n",
       "    .dataframe thead th {\n",
       "        text-align: left;\n",
       "    }\n",
       "\n",
       "    .dataframe tbody tr th {\n",
       "        vertical-align: top;\n",
       "    }\n",
       "</style>\n",
       "<table border=\"1\" class=\"dataframe\">\n",
       "  <thead>\n",
       "    <tr style=\"text-align: right;\">\n",
       "      <th></th>\n",
       "      <th>X Data</th>\n",
       "    </tr>\n",
       "  </thead>\n",
       "  <tbody>\n",
       "    <tr>\n",
       "      <th>0</th>\n",
       "      <td>0.00000</td>\n",
       "    </tr>\n",
       "    <tr>\n",
       "      <th>1</th>\n",
       "      <td>0.00001</td>\n",
       "    </tr>\n",
       "    <tr>\n",
       "      <th>2</th>\n",
       "      <td>0.00002</td>\n",
       "    </tr>\n",
       "    <tr>\n",
       "      <th>3</th>\n",
       "      <td>0.00003</td>\n",
       "    </tr>\n",
       "    <tr>\n",
       "      <th>4</th>\n",
       "      <td>0.00004</td>\n",
       "    </tr>\n",
       "  </tbody>\n",
       "</table>\n",
       "</div>"
      ],
      "text/plain": [
       "    X Data\n",
       "0  0.00000\n",
       "1  0.00001\n",
       "2  0.00002\n",
       "3  0.00003\n",
       "4  0.00004"
      ]
     },
     "execution_count": 9,
     "metadata": {},
     "output_type": "execute_result"
    }
   ],
   "source": [
    "x_df.head()"
   ]
  },
  {
   "cell_type": "code",
   "execution_count": 10,
   "metadata": {},
   "outputs": [],
   "source": [
    "y_df = pd.DataFrame(data=y_true, columns=['Y'])"
   ]
  },
  {
   "cell_type": "code",
   "execution_count": 11,
   "metadata": {},
   "outputs": [
    {
     "data": {
      "text/html": [
       "<div>\n",
       "<style>\n",
       "    .dataframe thead tr:only-child th {\n",
       "        text-align: right;\n",
       "    }\n",
       "\n",
       "    .dataframe thead th {\n",
       "        text-align: left;\n",
       "    }\n",
       "\n",
       "    .dataframe tbody tr th {\n",
       "        vertical-align: top;\n",
       "    }\n",
       "</style>\n",
       "<table border=\"1\" class=\"dataframe\">\n",
       "  <thead>\n",
       "    <tr style=\"text-align: right;\">\n",
       "      <th></th>\n",
       "      <th>Y</th>\n",
       "    </tr>\n",
       "  </thead>\n",
       "  <tbody>\n",
       "    <tr>\n",
       "      <th>0</th>\n",
       "      <td>5.272570</td>\n",
       "    </tr>\n",
       "    <tr>\n",
       "      <th>1</th>\n",
       "      <td>5.863619</td>\n",
       "    </tr>\n",
       "    <tr>\n",
       "      <th>2</th>\n",
       "      <td>4.488886</td>\n",
       "    </tr>\n",
       "    <tr>\n",
       "      <th>3</th>\n",
       "      <td>5.234124</td>\n",
       "    </tr>\n",
       "    <tr>\n",
       "      <th>4</th>\n",
       "      <td>5.756207</td>\n",
       "    </tr>\n",
       "  </tbody>\n",
       "</table>\n",
       "</div>"
      ],
      "text/plain": [
       "          Y\n",
       "0  5.272570\n",
       "1  5.863619\n",
       "2  4.488886\n",
       "3  5.234124\n",
       "4  5.756207"
      ]
     },
     "execution_count": 11,
     "metadata": {},
     "output_type": "execute_result"
    }
   ],
   "source": [
    "y_df.head()"
   ]
  },
  {
   "cell_type": "code",
   "execution_count": 12,
   "metadata": {},
   "outputs": [],
   "source": [
    "my_data = pd.concat(\n",
    "         [ x_df, y_df], axis=1) \n",
    "              # axis=1 keeps it from stacking on like pancakes"
   ]
  },
  {
   "cell_type": "markdown",
   "metadata": {},
   "source": [
    "Copied from the course notes version:\n",
    "\n",
    "```\n",
    "my_data = pd.concat(\n",
    "        [pd.DataFrame(data=x_data,columns=['X Data']),\n",
    "         pd.DataFrame(data=y_true,columns=['Y'])\n",
    "    ],\n",
    "    axis=1\n",
    ")\n",
    "```"
   ]
  },
  {
   "cell_type": "code",
   "execution_count": 13,
   "metadata": {},
   "outputs": [
    {
     "data": {
      "text/html": [
       "<div>\n",
       "<style>\n",
       "    .dataframe thead tr:only-child th {\n",
       "        text-align: right;\n",
       "    }\n",
       "\n",
       "    .dataframe thead th {\n",
       "        text-align: left;\n",
       "    }\n",
       "\n",
       "    .dataframe tbody tr th {\n",
       "        vertical-align: top;\n",
       "    }\n",
       "</style>\n",
       "<table border=\"1\" class=\"dataframe\">\n",
       "  <thead>\n",
       "    <tr style=\"text-align: right;\">\n",
       "      <th></th>\n",
       "      <th>X Data</th>\n",
       "      <th>Y</th>\n",
       "    </tr>\n",
       "  </thead>\n",
       "  <tbody>\n",
       "    <tr>\n",
       "      <th>0</th>\n",
       "      <td>0.00000</td>\n",
       "      <td>5.272570</td>\n",
       "    </tr>\n",
       "    <tr>\n",
       "      <th>1</th>\n",
       "      <td>0.00001</td>\n",
       "      <td>5.863619</td>\n",
       "    </tr>\n",
       "    <tr>\n",
       "      <th>2</th>\n",
       "      <td>0.00002</td>\n",
       "      <td>4.488886</td>\n",
       "    </tr>\n",
       "    <tr>\n",
       "      <th>3</th>\n",
       "      <td>0.00003</td>\n",
       "      <td>5.234124</td>\n",
       "    </tr>\n",
       "    <tr>\n",
       "      <th>4</th>\n",
       "      <td>0.00004</td>\n",
       "      <td>5.756207</td>\n",
       "    </tr>\n",
       "  </tbody>\n",
       "</table>\n",
       "</div>"
      ],
      "text/plain": [
       "    X Data         Y\n",
       "0  0.00000  5.272570\n",
       "1  0.00001  5.863619\n",
       "2  0.00002  4.488886\n",
       "3  0.00003  5.234124\n",
       "4  0.00004  5.756207"
      ]
     },
     "execution_count": 13,
     "metadata": {},
     "output_type": "execute_result"
    }
   ],
   "source": [
    "my_data.head()"
   ]
  },
  {
   "cell_type": "code",
   "execution_count": 14,
   "metadata": {},
   "outputs": [],
   "source": [
    "# my_data.plot() might crash the kernel\n",
    "my_sample = my_data.sample(n=250)"
   ]
  },
  {
   "cell_type": "code",
   "execution_count": 15,
   "metadata": {},
   "outputs": [
    {
     "data": {
      "text/html": [
       "<div>\n",
       "<style>\n",
       "    .dataframe thead tr:only-child th {\n",
       "        text-align: right;\n",
       "    }\n",
       "\n",
       "    .dataframe thead th {\n",
       "        text-align: left;\n",
       "    }\n",
       "\n",
       "    .dataframe tbody tr th {\n",
       "        vertical-align: top;\n",
       "    }\n",
       "</style>\n",
       "<table border=\"1\" class=\"dataframe\">\n",
       "  <thead>\n",
       "    <tr style=\"text-align: right;\">\n",
       "      <th></th>\n",
       "      <th>X Data</th>\n",
       "      <th>Y</th>\n",
       "    </tr>\n",
       "  </thead>\n",
       "  <tbody>\n",
       "    <tr>\n",
       "      <th>771031</th>\n",
       "      <td>7.710318</td>\n",
       "      <td>8.521758</td>\n",
       "    </tr>\n",
       "    <tr>\n",
       "      <th>770762</th>\n",
       "      <td>7.707628</td>\n",
       "      <td>10.021500</td>\n",
       "    </tr>\n",
       "    <tr>\n",
       "      <th>286127</th>\n",
       "      <td>2.861273</td>\n",
       "      <td>6.789426</td>\n",
       "    </tr>\n",
       "    <tr>\n",
       "      <th>923101</th>\n",
       "      <td>9.231019</td>\n",
       "      <td>10.372789</td>\n",
       "    </tr>\n",
       "    <tr>\n",
       "      <th>859486</th>\n",
       "      <td>8.594869</td>\n",
       "      <td>7.542047</td>\n",
       "    </tr>\n",
       "  </tbody>\n",
       "</table>\n",
       "</div>"
      ],
      "text/plain": [
       "          X Data          Y\n",
       "771031  7.710318   8.521758\n",
       "770762  7.707628  10.021500\n",
       "286127  2.861273   6.789426\n",
       "923101  9.231019  10.372789\n",
       "859486  8.594869   7.542047"
      ]
     },
     "execution_count": 15,
     "metadata": {},
     "output_type": "execute_result"
    }
   ],
   "source": [
    "my_sample.head()"
   ]
  },
  {
   "cell_type": "code",
   "execution_count": 16,
   "metadata": {},
   "outputs": [
    {
     "data": {
      "text/plain": [
       "<matplotlib.axes._subplots.AxesSubplot at 0x2e2a01716a0>"
      ]
     },
     "execution_count": 16,
     "metadata": {},
     "output_type": "execute_result"
    },
    {
     "data": {
      "image/png": "[encoded data removed]",
      "text/plain": [
       "<matplotlib.figure.Figure at 0x2e2a09a44a8>"
      ]
     },
     "metadata": {
      "needs_background": "light"
     },
     "output_type": "display_data"
    }
   ],
   "source": [
    "my_sample.plot(kind='scatter', x = 'X Data', y='Y')"
   ]
  },
  {
   "cell_type": "markdown",
   "metadata": {},
   "source": [
    "# TensorFlow"
   ]
  },
  {
   "cell_type": "markdown",
   "metadata": {},
   "source": [
    "## Batch Size\n",
    "\n",
    "> We will take the data in batches (1 000 000 points is a lot to pass in at once)."
   ]
  },
  {
   "cell_type": "code",
   "execution_count": 17,
   "metadata": {},
   "outputs": [],
   "source": [
    "# random points to grab, If you had a trillion, probably use smaller batches\n",
    "batch_size = 8"
   ]
  },
  {
   "cell_type": "markdown",
   "metadata": {},
   "source": [
    "#### Variables"
   ]
  },
  {
   "cell_type": "code",
   "execution_count": 18,
   "metadata": {},
   "outputs": [],
   "source": [
    "m_pre, b_pre = np.random.randn(2)"
   ]
  },
  {
   "cell_type": "code",
   "execution_count": 19,
   "metadata": {},
   "outputs": [
    {
     "data": {
      "text/plain": [
       "numpy.float64"
      ]
     },
     "execution_count": 19,
     "metadata": {},
     "output_type": "execute_result"
    }
   ],
   "source": [
    "type(m_pre)"
   ]
  },
  {
   "cell_type": "code",
   "execution_count": 20,
   "metadata": {},
   "outputs": [
    {
     "data": {
      "text/plain": [
       "numpy.float64"
      ]
     },
     "execution_count": 20,
     "metadata": {},
     "output_type": "execute_result"
    }
   ],
   "source": [
    "type(b_pre)"
   ]
  },
  {
   "cell_type": "code",
   "execution_count": 21,
   "metadata": {},
   "outputs": [],
   "source": [
    "# I didn't follow this, because using 'dtype' instead of 'type' worked\n",
    "#tf.cast(m_pre, tf.float32)\n",
    "#tf.cast(b_pre, tf.float32)"
   ]
  },
  {
   "cell_type": "code",
   "execution_count": 22,
   "metadata": {},
   "outputs": [
    {
     "name": "stdout",
     "output_type": "stream",
     "text": [
      "Initally: m = 1.664059399406129 ; b = 0.18592370047386225\n"
     ]
    }
   ],
   "source": [
    "#  DWB, I had to add the type\n",
    "#+ Jose just used, e.g. 'm = tf.Variable(0.81)'\n",
    "m = tf.Variable(m_pre, dtype=tf.float32) \n",
    "b = tf.Variable(b_pre, dtype=tf.float32)\n",
    "\n",
    "print(\"Initally: m = \" + str(m_pre) + \" ; \" + \"b = \" + str(b_pre))"
   ]
  },
  {
   "cell_type": "markdown",
   "metadata": {},
   "source": [
    "#### Placeholders"
   ]
  },
  {
   "cell_type": "code",
   "execution_count": 23,
   "metadata": {},
   "outputs": [],
   "source": [
    "x_ph = tf.placeholder(tf.float32, [batch_size])"
   ]
  },
  {
   "cell_type": "code",
   "execution_count": 24,
   "metadata": {},
   "outputs": [],
   "source": [
    "y_ph = tf.placeholder(tf.float32, [batch_size])"
   ]
  },
  {
   "cell_type": "markdown",
   "metadata": {},
   "source": [
    "So, I'm getting that placeholders get your data, while variables are what you're trying to predict. I'm not sure that's exactly correct, but it's what I'm getting right now."
   ]
  },
  {
   "cell_type": "markdown",
   "metadata": {},
   "source": [
    "#### Graph\n",
    " \n",
    "What are we trying to do here? Fit a line to some points. So it's a $ y = mx + b $ kind of graph"
   ]
  },
  {
   "cell_type": "code",
   "execution_count": 25,
   "metadata": {},
   "outputs": [],
   "source": [
    "y_model = m * x_ph + b # Had to mess with type to get this to work"
   ]
  },
  {
   "cell_type": "markdown",
   "metadata": {},
   "source": [
    "#### Loss Function"
   ]
  },
  {
   "cell_type": "code",
   "execution_count": 26,
   "metadata": {},
   "outputs": [],
   "source": [
    "#  Remember that y_value is the true value\n",
    "#+ Also, we square it to punish the error more,\n",
    "#+ and thus bring it closer more quickly.\n",
    "#+ could use '() ** 2' instead of tf.square()\n",
    "\n",
    "error = tf.reduce_sum(tf.square(y_ph - y_model))"
   ]
  },
  {
   "cell_type": "markdown",
   "metadata": {},
   "source": [
    "#### Optimizer"
   ]
  },
  {
   "cell_type": "code",
   "execution_count": 27,
   "metadata": {},
   "outputs": [],
   "source": [
    "optimizer = tf.train.GradientDescentOptimizer(learning_rate=0.001)\n",
    "train = optimizer.minimize(error)"
   ]
  },
  {
   "cell_type": "markdown",
   "metadata": {},
   "source": [
    "#### Initialize Variables"
   ]
  },
  {
   "cell_type": "code",
   "execution_count": 28,
   "metadata": {},
   "outputs": [],
   "source": [
    "init = tf.global_variables_initializer()"
   ]
  },
  {
   "cell_type": "markdown",
   "metadata": {},
   "source": [
    "### Session"
   ]
  },
  {
   "cell_type": "code",
   "execution_count": 29,
   "metadata": {},
   "outputs": [],
   "source": [
    "with tf.Session() as sess:\n",
    "    \n",
    "    sess.run(init)\n",
    "    \n",
    "    batches = 1000\n",
    "    \n",
    "    for i in range(batches):\n",
    "        \n",
    "        rand_index = np.random.randint(len(x_data),\n",
    "                                       size=batch_size)\n",
    "        \n",
    "        #  DWB: it seems to me we'll only we doing 8000 out\n",
    "        #+ of the 1e6 points. That will make it go faster, I\n",
    "        #+ guess.\n",
    "        #\n",
    "        #  Jose says we can play around with batches and\n",
    "        #+ batch_size to see if we have enough data to \n",
    "        #+ train it well. He seems to suggest that, if we\n",
    "        #+ were to use more of the training data, we would\n",
    "        #+ overfit to the training data. Not sure if that\n",
    "        #+ applies here ... wait, yes it kinda does but not\n",
    "        #+ in a way that's too concerning - we're taking\n",
    "        #+ random parts ...\n",
    "        \n",
    "        feed = {x_ph:x_data[rand_index], \n",
    "                y_ph:y_true[rand_index]}\n",
    "                \n",
    "        sess.run(train, feed_dict=feed)\n",
    "        \n",
    "        #  So, we have it fitting the data with 8 random points\n",
    "        #+ for each\n",
    "        \n",
    "    ##endof:  for i\n",
    "    \n",
    "    #  Fetch the slope and intercept values (run will go get the \n",
    "    #+ m and b placeholders)\n",
    "    model_m, model_b = sess.run([m, b])\n",
    "    \n",
    "##endof:  with ... sess"
   ]
  },
  {
   "cell_type": "code",
   "execution_count": 30,
   "metadata": {},
   "outputs": [
    {
     "data": {
      "text/plain": [
       "0.53322834"
      ]
     },
     "execution_count": 30,
     "metadata": {},
     "output_type": "execute_result"
    }
   ],
   "source": [
    "model_m # should come out close to our 0.5"
   ]
  },
  {
   "cell_type": "code",
   "execution_count": 31,
   "metadata": {},
   "outputs": [
    {
     "data": {
      "text/plain": [
       "4.922488"
      ]
     },
     "execution_count": 31,
     "metadata": {},
     "output_type": "execute_result"
    }
   ],
   "source": [
    "model_b #should come out close to our 5"
   ]
  },
  {
   "cell_type": "markdown",
   "metadata": {},
   "source": [
    "So, we went from whatever our original m and b values were - in my case $ m = -1.8 $ and $ b = 0.5 $. The values used for this specific training can be found with the following cell."
   ]
  },
  {
   "cell_type": "code",
   "execution_count": 32,
   "metadata": {},
   "outputs": [
    {
     "name": "stdout",
     "output_type": "stream",
     "text": [
      "m_init = 1.664059399406129 ; b_init = 0.18592370047386225\n"
     ]
    }
   ],
   "source": [
    "print(\"m_init = \" + str(m_pre) + \" ; \" + \"b_init = \" + str(b_pre))"
   ]
  },
  {
   "cell_type": "markdown",
   "metadata": {},
   "source": [
    "And we ended up with the `model_m` and `model_b` shown above, which are quite close to the values before noise, m = 0.5, b = 5; Things would look even nicer if we took the error over the value."
   ]
  },
  {
   "cell_type": "code",
   "execution_count": 33,
   "metadata": {},
   "outputs": [
    {
     "name": "stdout",
     "output_type": "stream",
     "text": [
      "Delta_m = 0.03322833776473999;\n",
      "Delta_b = 0.07751178741455078\n"
     ]
    }
   ],
   "source": [
    "print(\"Delta_m = \" + str(abs(0.5 - model_m)) + \";\\n\" + \\\n",
    "      \"Delta_b = \" + str(abs(5.0 - model_b)))"
   ]
  },
  {
   "cell_type": "markdown",
   "metadata": {},
   "source": [
    "### Results"
   ]
  },
  {
   "cell_type": "code",
   "execution_count": 34,
   "metadata": {},
   "outputs": [],
   "source": [
    "y_hat = x_data * model_m + model_b # rem. y_hat represents the predicted"
   ]
  },
  {
   "cell_type": "code",
   "execution_count": 35,
   "metadata": {},
   "outputs": [
    {
     "data": {
      "text/plain": [
       "[<matplotlib.lines.Line2D at 0x2e2a27e17b8>]"
      ]
     },
     "execution_count": 35,
     "metadata": {},
     "output_type": "execute_result"
    },
    {
     "data": {
      "image/png": "[encoded data removed]",
      "text/plain": [
       "<matplotlib.figure.Figure at 0x2e2a27e1ef0>"
      ]
     },
     "metadata": {
      "needs_background": "light"
     },
     "output_type": "display_data"
    }
   ],
   "source": [
    "my_data.sample(250).plot(kind=\"scatter\",\n",
    "                         x=\"X Data\", y=\"Y\")\n",
    "plt.plot(x_data, y_hat, 'r') #  Oh, so I see Pandas is using \n",
    "                             #+ the matplotlib canvas. Cool!"
   ]
  },
  {
   "cell_type": "markdown",
   "metadata": {},
   "source": [
    "Jose changes the above code for 10k batches, I'm going to have it all re-written, so I can compare better. I will stick it to the anti-Q&R voice by not renaming the variables. Wahahaha!\n",
    "\n",
    "I though I might have to rename them, then I think I figured that I could get rid of an error that came up by initializing the variables. Nope, had to re-put-in all the code. But I'm not renaming the variables. Wahahaha!"
   ]
  },
  {
   "cell_type": "code",
   "execution_count": 36,
   "metadata": {},
   "outputs": [
    {
     "name": "stdout",
     "output_type": "stream",
     "text": [
      "Initally: m = 1.664059399406129 ; b = 0.18592370047386225\n"
     ]
    }
   ],
   "source": [
    "#  DWB, I had to add the type\n",
    "#+ Jose just used, e.g. 'm = tf.Variable(0.81)'\n",
    "m = tf.Variable(m_pre, dtype=tf.float32) \n",
    "b = tf.Variable(b_pre, dtype=tf.float32)\n",
    "print(\"Initally: m = \" + str(m_pre) + \" ; \" + \"b = \" + str(b_pre))\n",
    "x_ph = tf.placeholder(tf.float32, [batch_size])\n",
    "y_ph = tf.placeholder(tf.float32, [batch_size])\n",
    "y_model = m * x_ph + b\n",
    "error = tf.reduce_sum(tf.square(y_ph - y_model))\n",
    "optimizer = tf.train.GradientDescentOptimizer(learning_rate=0.001)\n",
    "train = optimizer.minimize(error)\n",
    "init = tf.global_variables_initializer()"
   ]
  },
  {
   "cell_type": "code",
   "execution_count": 37,
   "metadata": {},
   "outputs": [],
   "source": [
    "with tf.Session() as sess:\n",
    "    \n",
    "    sess.run(init)\n",
    "    \n",
    "    batches = 10000\n",
    "    \n",
    "    for i in range(batches):\n",
    "        \n",
    "        rand_index = np.random.randint(len(x_data),\n",
    "                                       size=batch_size)\n",
    "        \n",
    "        feed = {x_ph:x_data[rand_index], \n",
    "                y_ph:y_true[rand_index]}\n",
    "                \n",
    "        sess.run(train, feed_dict=feed)\n",
    "        \n",
    "    ##endof:  for i\n",
    "    \n",
    "    #  Fetch the slope and intercept values (run will go get the \n",
    "    #+ m and b placeholders)\n",
    "    model_m, model_b = sess.run([m, b])\n",
    "    \n",
    "##endof:  with ... sess"
   ]
  },
  {
   "cell_type": "code",
   "execution_count": 38,
   "metadata": {},
   "outputs": [
    {
     "data": {
      "text/plain": [
       "0.5922262"
      ]
     },
     "execution_count": 38,
     "metadata": {},
     "output_type": "execute_result"
    }
   ],
   "source": [
    "model_m"
   ]
  },
  {
   "cell_type": "code",
   "execution_count": 39,
   "metadata": {},
   "outputs": [
    {
     "data": {
      "text/plain": [
       "4.9802527"
      ]
     },
     "execution_count": 39,
     "metadata": {},
     "output_type": "execute_result"
    }
   ],
   "source": [
    "model_b"
   ]
  },
  {
   "cell_type": "markdown",
   "metadata": {},
   "source": [
    "After re-puttting-in the code, I got my answers."
   ]
  },
  {
   "cell_type": "code",
   "execution_count": 40,
   "metadata": {},
   "outputs": [
    {
     "name": "stdout",
     "output_type": "stream",
     "text": [
      "m_init = 1.664059399406129 ; b_init = 0.18592370047386225\n",
      "m_final = 0.5922262 ; b_fin = 4.9802527\n",
      "Delta_m = 0.09222620725631714;\n",
      "Delta_b = 0.019747257232666016\n",
      "\n",
      "Hmmm ...\n",
      "\n",
      "Compare to:\n",
      "Delta_m = 0.006303846836090088\n",
      "and\n",
      "Delta_b = 0.055045127868652344\n",
      "for 8000 batches.\n",
      "\n",
      "... interesting ...\n"
     ]
    }
   ],
   "source": [
    "print(\"m_init = \" + str(m_pre) + \" ; \" + \"b_init = \" + str(b_pre))\n",
    "print(\"m_final = \" + str(model_m) + \" ; \" + \"b_fin = \" + str(model_b))\n",
    "\n",
    "print(\"Delta_m = \" + str(abs(0.5 - model_m)) + \";\\n\" + \\\n",
    "      \"Delta_b = \" + str(abs(5.0 - model_b)))\n",
    "print()\n",
    "print(\"Hmmm ...\")\n",
    "print()\n",
    "print(\"Compare to:\" + '\\n' + \\\n",
    "      \"Delta_m = 0.006303846836090088\" + '\\n' + \"and\" + \\\n",
    "      '\\n' + \"Delta_b = 0.055045127868652344\" + '\\n' +  \\\n",
    "      \"for 8000 batches.\" + \\\n",
    "      '\\n\\n' + \"... interesting ...\")"
   ]
  },
  {
   "cell_type": "code",
   "execution_count": 41,
   "metadata": {},
   "outputs": [
    {
     "data": {
      "text/plain": [
       "[<matplotlib.lines.Line2D at 0x2e2a2af1710>]"
      ]
     },
     "execution_count": 41,
     "metadata": {},
     "output_type": "execute_result"
    },
    {
     "data": {
      "image/png": "[encoded data removed]",
      "text/plain": [
       "<matplotlib.figure.Figure at 0x2e2a2af18d0>"
      ]
     },
     "metadata": {
      "needs_background": "light"
     },
     "output_type": "display_data"
    }
   ],
   "source": [
    "y_hat = x_data * model_m + model_b\n",
    "my_data.sample(250).plot(kind=\"scatter\",\n",
    "                         x=\"X Data\", y=\"Y\")\n",
    "plt.plot(x_data, y_hat, 'r')"
   ]
  },
  {
   "cell_type": "markdown",
   "metadata": {},
   "source": [
    "Jose stated that the noise might make it so they might not be so different.\n",
    "\n",
    "He noted (as I'd been thinking) that we haven't been doing the train/test split. We will with `tf.estimator`"
   ]
  },
  {
   "cell_type": "markdown",
   "metadata": {},
   "source": [
    "## tf.estimator API\n",
    "\n",
    "> Much simpler API for basic tasks like regression! We'll talk about more abstractions like TF-Slim later on.\n",
    "\n",
    "### Types\n",
    "\n",
    "```\n",
    "tf.estimator.LinearClassifier\n",
    "tf.estimator.LinearRegressor\n",
    "tf.estimator.DNNClassifier\n",
    "tf.estimator.DNNRegressor\n",
    "```\n",
    "\n",
    "Jose says `DNN` is for Densely-connected Neural Network. I'm not sure that it's not Deep, but I am leaning towards thinking he's right.\n",
    "\n",
    "Combined-type\n",
    "\n",
    "```\n",
    "tf.estimator.DNNLinearCombinedClassifier\n",
    "tf.estimator.DNNLinearCombinedRegressor\n",
    "```\n",
    "\n",
    "### Steps\n",
    "\n",
    "- Define a list of feature columns\n",
    "- Create the Estimator Model\n",
    "- Create a Data Input Function\n",
    "- Call `train`, `evaluate`, and `predict` on the object\n",
    "\n",
    "#### We're going to use maybe-not-the-best use case, with just one feature, but it will get us the idea"
   ]
  },
  {
   "cell_type": "code",
   "execution_count": 42,
   "metadata": {},
   "outputs": [],
   "source": [
    "# deeper dive into feature column later\n",
    "feat_cols = [ tf.feature_column.numeric_column('x', shape=[1]) ]"
   ]
  },
  {
   "cell_type": "code",
   "execution_count": 43,
   "metadata": {},
   "outputs": [
    {
     "name": "stdout",
     "output_type": "stream",
     "text": [
      "INFO:tensorflow:Using default config.\n",
      "WARNING:tensorflow:Using temporary folder as model directory: C:\\Users\\Anast\\AppData\\Local\\Temp\\tmpn9_bnvpm\n",
      "INFO:tensorflow:Using config: {'_session_config': None, '_device_fn': None, '_keep_checkpoint_max': 5, '_cluster_spec': <tensorflow.python.training.server_lib.ClusterSpec object at 0x000002E2998E5128>, '_task_type': 'worker', '_global_id_in_cluster': 0, '_num_worker_replicas': 1, '_log_step_count_steps': 100, '_is_chief': True, '_train_distribute': None, '_save_checkpoints_secs': 600, '_task_id': 0, '_service': None, '_save_summary_steps': 100, '_keep_checkpoint_every_n_hours': 10000, '_num_ps_replicas': 0, '_master': '', '_tf_random_seed': None, '_evaluation_master': '', '_save_checkpoints_steps': None, '_model_dir': 'C:\\\\Users\\\\Anast\\\\AppData\\\\Local\\\\Temp\\\\tmpn9_bnvpm'}\n"
     ]
    }
   ],
   "source": [
    "estimator = tf.estimator.LinearRegressor(feature_columns=feat_cols)"
   ]
  },
  {
   "cell_type": "markdown",
   "metadata": {},
   "source": [
    "Note the output\n",
    "\n",
    "```\n",
    "INFO:tensorflow:Using default config.\n",
    "WARNING:tensorflow:Using temporary folder as model directory: C:\\Users\\Anast\\AppData\\Local\\Temp\\tmpn9_bnvpm\n",
    "INFO:tensorflow:Using config: {'_session_config': None, '_device_fn': None, '_keep_checkpoint_max': 5, '_cluster_spec': <tensorflow.python.training.server_lib.ClusterSpec object at 0x000002E2998E5128>, '_task_type': 'worker', '_global_id_in_cluster': 0, '_num_worker_replicas': 1, '_log_step_count_steps': 100, '_is_chief': True, '_train_distribute': None, '_save_checkpoints_secs': 600, '_task_id': 0, '_service': None, '_save_summary_steps': 100, '_keep_checkpoint_every_n_hours': 10000, '_num_ps_replicas': 0, '_master': '', '_tf_random_seed': None, '_evaluation_master': '', '_save_checkpoints_steps': None, '_model_dir': 'C:\\\\Users\\\\Anast\\\\AppData\\\\Local\\\\Temp\\\\tmpn9_bnvpm'}\n",
    "```\n",
    "\n",
    "with probably a different string at the end of the path each time."
   ]
  },
  {
   "cell_type": "markdown",
   "metadata": {},
   "source": [
    "### Train Test Split\n",
    "\n",
    "> We haven't actually performed a train test split yet! So let's do that on our data now and perform a more realistic version of a Regression Task"
   ]
  },
  {
   "cell_type": "code",
   "execution_count": 46,
   "metadata": {},
   "outputs": [],
   "source": [
    "# type 'train_test_split', then do [Shift] + [Tab] to get the line\n",
    "x_train, x_eval, y_train, y_eval = \\\n",
    "                train_test_split(x_data, y_true, \n",
    "                                 test_size=0.3, \n",
    "                                 random_state=101) # match Jose"
   ]
  },
  {
   "cell_type": "code",
   "execution_count": 47,
   "metadata": {},
   "outputs": [
    {
     "name": "stdout",
     "output_type": "stream",
     "text": [
      "x_train.shape = (700000,)\n",
      "y_train.shape = (700000,)\n",
      "\n",
      "x_eval.shape = (300000,)\n",
      "y_eval.shape = (300000,)\n"
     ]
    }
   ],
   "source": [
    "print(\"x_train.shape = \" + str(x_train.shape))\n",
    "print(\"y_train.shape = \" + str(y_train.shape))\n",
    "print()\n",
    "print(\"x_eval.shape = \" + str(x_eval.shape))\n",
    "print(\"y_eval.shape = \" + str(y_eval.shape))"
   ]
  },
  {
   "cell_type": "markdown",
   "metadata": {},
   "source": [
    "### Set up Estimator Inputs"
   ]
  },
  {
   "cell_type": "markdown",
   "metadata": {},
   "source": [
    "> ... input_function that kind of serves like your feed dictionary and your batch size indicator ...\n",
    "\n",
    "Jose"
   ]
  },
  {
   "cell_type": "code",
   "execution_count": 49,
   "metadata": {},
   "outputs": [],
   "source": [
    "# Can also do .pandas_input_fn if you're coming from a Pandas dataframe\n",
    "input_func = \\\n",
    "    tf.estimator.inputs.numpy_input_fn({'x':x_train},\n",
    "                                       y_train,\n",
    "                                       batch_size=4,\n",
    "                                       num_epochs=None,\n",
    "                                       shuffle=True\n",
    "    )"
   ]
  },
  {
   "cell_type": "code",
   "execution_count": 51,
   "metadata": {},
   "outputs": [],
   "source": [
    "train_input_func = \\\n",
    "    tf.estimator.inputs.numpy_input_fn({'x':x_train},\n",
    "                                       y_train,\n",
    "                                       batch_size=4,\n",
    "                                       num_epochs=1000,\n",
    "                                       shuffle=False\n",
    "    )\n",
    "#  Why shuffle is False?\n",
    "#+ Jose says, \"And I also wanna set shuffle equal to false.\n",
    "#+            \"Okay, there we go.\n",
    "#+            \"And the reason I have a shuffle equals false \n",
    "#+            \"here for this\n",
    "#+            \"train is because I'm gonna be using this \n",
    "#+            \"train input\n",
    "#+            \"function for evaluation against a test input \n",
    "#+            \"function.\"\n",
    "#+ DWB:  The one just below, eval_input_function, which also\n",
    "#+ DWB: has shuffle=False\n",
    "#+ DWB:  Not sure I understand this, but let's go with it."
   ]
  },
  {
   "cell_type": "code",
   "execution_count": 52,
   "metadata": {},
   "outputs": [],
   "source": [
    "eval_input_func = \\\n",
    "    tf.estimator.inputs.numpy_input_fn({'x':x_eval},\n",
    "                                       y_eval,\n",
    "                                       batch_size=4,\n",
    "                                       num_epochs=1000,\n",
    "                                       shuffle=False\n",
    "    )"
   ]
  },
  {
   "cell_type": "markdown",
   "metadata": {},
   "source": [
    "### Train the Estimator"
   ]
  },
  {
   "cell_type": "code",
   "execution_count": 53,
   "metadata": {},
   "outputs": [
    {
     "name": "stdout",
     "output_type": "stream",
     "text": [
      "INFO:tensorflow:Calling model_fn.\n",
      "INFO:tensorflow:Done calling model_fn.\n",
      "INFO:tensorflow:Create CheckpointSaverHook.\n",
      "INFO:tensorflow:Graph was finalized.\n",
      "INFO:tensorflow:Running local_init_op.\n",
      "INFO:tensorflow:Done running local_init_op.\n",
      "INFO:tensorflow:Saving checkpoints for 0 into C:\\Users\\Anast\\AppData\\Local\\Temp\\tmpn9_bnvpm\\model.ckpt.\n",
      "INFO:tensorflow:loss = 232.4479, step = 1\n",
      "INFO:tensorflow:global_step/sec: 1078.55\n",
      "INFO:tensorflow:loss = 12.827417, step = 101 (0.106 sec)\n",
      "INFO:tensorflow:global_step/sec: 1330.65\n",
      "INFO:tensorflow:loss = 9.675614, step = 201 (0.061 sec)\n",
      "INFO:tensorflow:global_step/sec: 1652.58\n",
      "INFO:tensorflow:loss = 6.852661, step = 301 (0.061 sec)\n",
      "INFO:tensorflow:global_step/sec: 1862.88\n",
      "INFO:tensorflow:loss = 19.74399, step = 401 (0.054 sec)\n",
      "INFO:tensorflow:global_step/sec: 1933.21\n",
      "INFO:tensorflow:loss = 5.4527526, step = 501 (0.051 sec)\n",
      "INFO:tensorflow:global_step/sec: 1933.2\n",
      "INFO:tensorflow:loss = 1.3363202, step = 601 (0.052 sec)\n",
      "INFO:tensorflow:global_step/sec: 1933.2\n",
      "INFO:tensorflow:loss = 6.685134, step = 701 (0.053 sec)\n",
      "INFO:tensorflow:global_step/sec: 1862.86\n",
      "INFO:tensorflow:loss = 4.969659, step = 801 (0.054 sec)\n",
      "INFO:tensorflow:global_step/sec: 1600.95\n",
      "INFO:tensorflow:loss = 1.2298107, step = 901 (0.061 sec)\n",
      "INFO:tensorflow:Saving checkpoints for 1000 into C:\\Users\\Anast\\AppData\\Local\\Temp\\tmpn9_bnvpm\\model.ckpt.\n",
      "INFO:tensorflow:Loss for final step: 2.265695.\n"
     ]
    },
    {
     "data": {
      "text/plain": [
       "<tensorflow.python.estimator.canned.linear.LinearRegressor at 0x2e2a2bcba90>"
      ]
     },
     "execution_count": 53,
     "metadata": {},
     "output_type": "execute_result"
    }
   ],
   "source": [
    "estimator.train(input_fn=input_func, steps=1000)\n",
    "    #  We do  steps=1000 , since we didn't specify training\n",
    "    #+ epochs for our  input_func ."
   ]
  },
  {
   "cell_type": "markdown",
   "metadata": {},
   "source": [
    "### Evaluation"
   ]
  },
  {
   "cell_type": "code",
   "execution_count": null,
   "metadata": {},
   "outputs": [],
   "source": [
    "train_metrics = estimator.evaluate(input_fn=train_input_func,\n",
    "                                   steps=1000\n",
    ")"
   ]
  },
  {
   "cell_type": "code",
   "execution_count": null,
   "metadata": {},
   "outputs": [],
   "source": [
    "eval_metrics = estimator.evaluate(input_fn=eval_input_func,\n",
    "                                  steps=1000\n",
    ")"
   ]
  },
  {
   "cell_type": "code",
   "execution_count": null,
   "metadata": {},
   "outputs": [],
   "source": [
    "print(\"train metrics: {}\".format(train_metrics)) # Python 3.5 allows this form\n",
    "print(\"eval metrics : {}\".format(eval_metrics))"
   ]
  },
  {
   "cell_type": "markdown",
   "metadata": {},
   "source": [
    "### Predictions"
   ]
  },
  {
   "cell_type": "code",
   "execution_count": null,
   "metadata": {},
   "outputs": [],
   "source": [
    "input_fn_predict = \\\n",
    "    tf.estimator.inputs.numpy_input_fn({'x':np.linspace(0, 10, 10)},\n",
    "                                       shuffle=False\n",
    "    )"
   ]
  },
  {
   "cell_type": "code",
   "execution_count": null,
   "metadata": {},
   "outputs": [],
   "source": [
    "list(estimator.predict(input_fn=input_fn_predict))"
   ]
  },
  {
   "cell_type": "code",
   "execution_count": null,
   "metadata": {},
   "outputs": [],
   "source": [
    "# Repeat, for size\n",
    "my_list = list(estimator.predict(input_fn=input_fn_predict))\n",
    "print(\"There are \" + str(len(my_list)) + \" entries,\" + \\\n",
    "      \"\\nas we expect (as long as there are 10 entries).\")"
   ]
  },
  {
   "cell_type": "code",
   "execution_count": null,
   "metadata": {},
   "outputs": [],
   "source": [
    "predictions = [] #np.array[]\n",
    "for x in estimator.predict(input_fn=input_fn_predict):\n",
    "    predictions.append(x['predictions'])"
   ]
  },
  {
   "cell_type": "code",
   "execution_count": 54,
   "metadata": {},
   "outputs": [
    {
     "ename": "NameError",
     "evalue": "name 'predictions' is not defined",
     "output_type": "error",
     "traceback": [
      "\u001b[1;31m---------------------------------------------------------------------------\u001b[0m",
      "\u001b[1;31mNameError\u001b[0m                                 Traceback (most recent call last)",
      "\u001b[1;32m<ipython-input-54-fd2951b82103>\u001b[0m in \u001b[0;36m<module>\u001b[1;34m()\u001b[0m\n\u001b[1;32m----> 1\u001b[1;33m \u001b[0mpredictions\u001b[0m\u001b[1;33m\u001b[0m\u001b[0m\n\u001b[0m",
      "\u001b[1;31mNameError\u001b[0m: name 'predictions' is not defined"
     ]
    }
   ],
   "source": [
    "predictions # oops, evaluated ( = pushed [Shift]+[Enter]) - DWB 2024-01-05T204500-0700"
   ]
  },
  {
   "cell_type": "code",
   "execution_count": null,
   "metadata": {},
   "outputs": [],
   "source": [
    "my_data.sample(n=250).plot(kind='scatter',\n",
    "                           x='X Data', y='Y')\n",
    "plt.plot(np.linspace(0, 10, 10), predictions, 'r')"
   ]
  },
  {
   "cell_type": "markdown",
   "metadata": {},
   "source": [
    "Jose usually says\n",
    "\n",
    "# Great Job!\n",
    "\n",
    "around here, which I think is cool.\n",
    "\n",
    "_That's all for now!_"
   ]
  }
 ],
 "metadata": {
  "kernelspec": {
   "display_name": "Python 3",
   "language": "python",
   "name": "python3"
  },
  "language_info": {
   "codemirror_mode": {
    "name": "ipython",
    "version": 3
   },
   "file_extension": ".py",
   "mimetype": "text/x-python",
   "name": "python",
   "nbconvert_exporter": "python",
   "pygments_lexer": "ipython3",
   "version": "3.5.4"
  }
 },
 "nbformat": 4,
 "nbformat_minor": 4
}
