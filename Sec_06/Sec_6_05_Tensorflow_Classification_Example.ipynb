{
 "cells": [
  {
   "cell_type": "markdown",
   "metadata": {},
   "source": [
    "# TensorFlow Classification"
   ]
  },
  {
   "cell_type": "markdown",
   "metadata": {},
   "source": [
    "## Imports"
   ]
  },
  {
   "cell_type": "code",
   "execution_count": null,
   "metadata": {},
   "outputs": [],
   "source": []
  },
  {
   "cell_type": "markdown",
   "metadata": {},
   "source": [
    "## Data\n",
    "\n",
    "(The following is all quoted from the Course Notes Version)"
   ]
  },
  {
   "cell_type": "markdown",
   "metadata": {},
   "source": [
    "https://archive.ics.uci.edu/ml/datasets/pima+indians+diabetes\n",
    "\n",
    "1. Title: Pima Indians Diabetes Database\n",
    "\n",
    "2. Sources:\n",
    "   (a) Original owners: National Institute of Diabetes and Digestive and\n",
    "                        Kidney Diseases\n",
    "   (b) Donor of database: Vincent Sigillito (vgs@aplcen.apl.jhu.edu)\n",
    "                          Research Center, RMI Group Leader\n",
    "                          Applied Physics Laboratory\n",
    "                          The Johns Hopkins University\n",
    "                          Johns Hopkins Road\n",
    "                          Laurel, MD 20707\n",
    "                          (301) 953-6231\n",
    "   (c) Date received: 9 May 1990\n",
    "\n",
    "3. Past Usage:\n",
    "    1. Smith,~J.~W., Everhart,~J.~E., Dickson,~W.~C., Knowler,~W.~C., \\&\n",
    "       Johannes,~R.~S. (1988). Using the ADAP learning algorithm to forecast\n",
    "       the onset of diabetes mellitus.  In {\\it Proceedings of the Symposium\n",
    "       on Computer Applications and Medical Care} (pp. 261--265).  IEEE\n",
    "       Computer Society Press.\n",
    "\n",
    "       The diagnostic, binary-valued variable investigated is whether the\n",
    "       patient shows signs of diabetes according to World Health Organization\n",
    "       criteria (i.e., if the 2 hour post-load plasma glucose was at least \n",
    "       200 mg/dl at any survey  examination or if found during routine medical\n",
    "       care).   The population lives near Phoenix, Arizona, USA.\n",
    "\n",
    "       Results: Their ADAP algorithm makes a real-valued prediction between\n",
    "       0 and 1.  This was transformed into a binary decision using a cutoff of \n",
    "       0.448.  Using 576 training instances, the sensitivity and specificity\n",
    "       of their algorithm was 76% on the remaining 192 instances.\n",
    "\n",
    "4. Relevant Information:\n",
    "      Several constraints were placed on the selection of these instances from\n",
    "      a larger database.  In particular, all patients here are females at\n",
    "      least 21 years old of Pima Indian heritage.  ADAP is an adaptive learning\n",
    "      routine that generates and executes digital analogs of perceptron-like\n",
    "      devices.  It is a unique algorithm; see the paper for details.\n",
    "\n",
    "5. Number of Instances: 768\n",
    "\n",
    "6. Number of Attributes: 8 plus class \n",
    "\n",
    "    7. For Each Attribute: (all numeric-valued)\n",
    "       1. Number of times pregnant\n",
    "       2. Plasma glucose concentration a 2 hours in an oral glucose tolerance test\n",
    "       3. Diastolic blood pressure (mm Hg)\n",
    "       4. Triceps skin fold thickness (mm)\n",
    "       5. 2-Hour serum insulin (mu U/ml)\n",
    "       6. Body mass index (weight in kg/(height in m)^2)\n",
    "       7. Diabetes pedigree function\n",
    "       8. Age (years)\n",
    "       9. Class variable (0 or 1)\n",
    "\n",
    "8. Missing Attribute Values: Yes\n",
    "\n",
    "9. Class Distribution: (class value 1 is interpreted as \"tested positive for\n",
    "   diabetes\")\n",
    "\n",
    "   Class Value  Number of instances\n",
    "   0            500\n",
    "   1            268\n",
    "\n",
    "10. Brief statistical analysis:\n",
    "\n",
    "        Attribute number:    Mean:   Standard Deviation:\n",
    "        1.                     3.8     3.4\n",
    "        2.                   120.9    32.0\n",
    "        3.                    69.1    19.4\n",
    "        4.                    20.5    16.0\n",
    "        5.                    79.8   115.2\n",
    "        6.                    32.0     7.9\n",
    "        7.                     0.5     0.3\n",
    "        8.                    33.2    11.8"
   ]
  },
  {
   "cell_type": "code",
   "execution_count": null,
   "metadata": {},
   "outputs": [],
   "source": []
  },
  {
   "cell_type": "code",
   "execution_count": null,
   "metadata": {},
   "outputs": [],
   "source": []
  },
  {
   "cell_type": "code",
   "execution_count": null,
   "metadata": {},
   "outputs": [],
   "source": []
  },
  {
   "cell_type": "code",
   "execution_count": null,
   "metadata": {},
   "outputs": [],
   "source": []
  },
  {
   "cell_type": "markdown",
   "metadata": {},
   "source": [
    "### Clean the Data"
   ]
  },
  {
   "cell_type": "code",
   "execution_count": null,
   "metadata": {},
   "outputs": [],
   "source": []
  },
  {
   "cell_type": "code",
   "execution_count": null,
   "metadata": {},
   "outputs": [],
   "source": []
  },
  {
   "cell_type": "code",
   "execution_count": null,
   "metadata": {},
   "outputs": [],
   "source": []
  },
  {
   "cell_type": "code",
   "execution_count": null,
   "metadata": {},
   "outputs": [],
   "source": []
  },
  {
   "cell_type": "markdown",
   "metadata": {},
   "source": [
    "### Feature Columns"
   ]
  },
  {
   "cell_type": "code",
   "execution_count": null,
   "metadata": {},
   "outputs": [],
   "source": []
  },
  {
   "cell_type": "code",
   "execution_count": null,
   "metadata": {},
   "outputs": [],
   "source": []
  },
  {
   "cell_type": "markdown",
   "metadata": {},
   "source": [
    "This cell quoted from Course Notes Version.\n",
    "\n",
    "### Continuous Features\n",
    "\n",
    "* Number of times pregnant\n",
    "* Plasma glucose concentration a 2 hours in an oral glucose tolerance test\n",
    "* Diastolic blood pressure (mm Hg)\n",
    "* Triceps skin fold thickness (mm)\n",
    "* 2-Hour serum insulin (mu U/ml)\n",
    "* Body mass index (weight in kg/(height in m)^2)\n",
    "* Diabetes pedigree function"
   ]
  },
  {
   "cell_type": "code",
   "execution_count": null,
   "metadata": {},
   "outputs": [],
   "source": []
  },
  {
   "cell_type": "code",
   "execution_count": null,
   "metadata": {},
   "outputs": [],
   "source": []
  },
  {
   "cell_type": "markdown",
   "metadata": {},
   "source": [
    "This cell quoted from Course Notes Version.\n",
    "\n",
    "### Categorical features\n",
    "\n",
    "If you know the set of all possible feature values of a column and there are only a few of them, you can use categorical_column_with_vocabulary_list. If you don't know the set of possible values in advance you can use categorical_column_with_hash_bucket"
   ]
  },
  {
   "cell_type": "code",
   "execution_count": null,
   "metadata": {},
   "outputs": [],
   "source": []
  },
  {
   "cell_type": "code",
   "execution_count": null,
   "metadata": {},
   "outputs": [],
   "source": []
  },
  {
   "cell_type": "markdown",
   "metadata": {},
   "source": [
    "### Converting Continuous to Categorical"
   ]
  },
  {
   "cell_type": "code",
   "execution_count": null,
   "metadata": {},
   "outputs": [],
   "source": []
  },
  {
   "cell_type": "code",
   "execution_count": null,
   "metadata": {},
   "outputs": [],
   "source": []
  },
  {
   "cell_type": "code",
   "execution_count": null,
   "metadata": {},
   "outputs": [],
   "source": []
  },
  {
   "cell_type": "markdown",
   "metadata": {},
   "source": [
    "### Putting them together"
   ]
  },
  {
   "cell_type": "code",
   "execution_count": null,
   "metadata": {},
   "outputs": [],
   "source": []
  },
  {
   "cell_type": "code",
   "execution_count": null,
   "metadata": {},
   "outputs": [],
   "source": []
  },
  {
   "cell_type": "markdown",
   "metadata": {},
   "source": [
    "### Train Test Split"
   ]
  },
  {
   "cell_type": "code",
   "execution_count": null,
   "metadata": {},
   "outputs": [],
   "source": []
  },
  {
   "cell_type": "code",
   "execution_count": null,
   "metadata": {},
   "outputs": [],
   "source": []
  },
  {
   "cell_type": "code",
   "execution_count": null,
   "metadata": {},
   "outputs": [],
   "source": []
  },
  {
   "cell_type": "markdown",
   "metadata": {},
   "source": [
    "### Input Function"
   ]
  },
  {
   "cell_type": "code",
   "execution_count": null,
   "metadata": {},
   "outputs": [],
   "source": []
  },
  {
   "cell_type": "code",
   "execution_count": null,
   "metadata": {},
   "outputs": [],
   "source": []
  },
  {
   "cell_type": "markdown",
   "metadata": {},
   "source": [
    "### Creating the Model"
   ]
  },
  {
   "cell_type": "code",
   "execution_count": null,
   "metadata": {},
   "outputs": [],
   "source": []
  },
  {
   "cell_type": "code",
   "execution_count": null,
   "metadata": {},
   "outputs": [],
   "source": []
  },
  {
   "cell_type": "markdown",
   "metadata": {},
   "source": [
    "<b>Useful link for your own data</b>\n",
    "\n",
    "https://stackoverflow.com/questions/44664285/what-are-the-contraints-for-tensorflow-scope-names"
   ]
  },
  {
   "cell_type": "code",
   "execution_count": null,
   "metadata": {},
   "outputs": [],
   "source": []
  },
  {
   "cell_type": "markdown",
   "metadata": {},
   "source": [
    "## Evaluation"
   ]
  },
  {
   "cell_type": "code",
   "execution_count": null,
   "metadata": {},
   "outputs": [],
   "source": []
  },
  {
   "cell_type": "code",
   "execution_count": null,
   "metadata": {},
   "outputs": [],
   "source": []
  },
  {
   "cell_type": "code",
   "execution_count": null,
   "metadata": {},
   "outputs": [],
   "source": []
  },
  {
   "cell_type": "markdown",
   "metadata": {},
   "source": [
    "## Predictions"
   ]
  },
  {
   "cell_type": "code",
   "execution_count": null,
   "metadata": {},
   "outputs": [],
   "source": []
  },
  {
   "cell_type": "code",
   "execution_count": null,
   "metadata": {},
   "outputs": [],
   "source": []
  },
  {
   "cell_type": "code",
   "execution_count": null,
   "metadata": {},
   "outputs": [],
   "source": []
  },
  {
   "cell_type": "markdown",
   "metadata": {},
   "source": [
    "# DNN Classifier"
   ]
  },
  {
   "cell_type": "code",
   "execution_count": null,
   "metadata": {},
   "outputs": [],
   "source": []
  },
  {
   "cell_type": "markdown",
   "metadata": {},
   "source": [
    "_(Whatever info is necessary about the error)_\n",
    "\n",
    "Command is\n",
    "\n",
    "`dnn_model.train(input_fn=input_func, steps=1000)`"
   ]
  },
  {
   "cell_type": "code",
   "execution_count": null,
   "metadata": {},
   "outputs": [],
   "source": [
    "do_show_dnn_error = True\n",
    "\n",
    "# UH OH! AN ERROR. Check out the video to see why and how to fix.\n",
    "# https://github.com/tensorflow/tensorflow/blob/master/tensorflow/python/feature_column/feature_column.py\n",
    "\n",
    "if do_show_dnn_error:\n",
    "    dnn_model.train(input_fn=input_func, steps=1000)\n",
    "else:\n",
    "    print(\"It seems you want to go through smoothly and perhaps\")\n",
    "    print(\"use stuff like  'Kernel -> Restart & Run All'.\")\n",
    "    print(\"Running the command,\")\n",
    "    print(\" >>> dnn_model.train(input_fn=input_func, steps=1000)\")\n",
    "    print(\"Gives a  'ValueError' with a long Traceback and the\")\n",
    "    print(\"important message at the end, which I've put into a\")\n",
    "    print(\"nicer format, so I can learn from it.\")\n",
    "    print(\"~~~~~~~~~~\")\n",
    "    print(\"\"\"\n",
    "ValueError: Items of feature_columns must be a _DenseColumn. \n",
    "You can wrap a categorical column with an embedding_column or \n",
    "indicator_column. \n",
    "Given: _VocabularyListCategoricalColumn(\n",
    "                   key='Group', \n",
    "                   vocabulary_list=('A', 'B', 'C', 'D'), \n",
    "                   dtype=tf.string, \n",
    "                   default_value=-1, \n",
    "                   num_oov_buckets=0)\n",
    "    \n",
    "    \"\"\")\n",
    "    print(\"~~~~~~~~~~\")\n",
    "##endof:  if/else"
   ]
  },
  {
   "cell_type": "code",
   "execution_count": null,
   "metadata": {},
   "outputs": [],
   "source": []
  },
  {
   "cell_type": "code",
   "execution_count": null,
   "metadata": {},
   "outputs": [],
   "source": []
  },
  {
   "cell_type": "code",
   "execution_count": null,
   "metadata": {},
   "outputs": [],
   "source": []
  },
  {
   "cell_type": "code",
   "execution_count": null,
   "metadata": {},
   "outputs": [],
   "source": []
  },
  {
   "cell_type": "code",
   "execution_count": null,
   "metadata": {},
   "outputs": [],
   "source": []
  },
  {
   "cell_type": "code",
   "execution_count": null,
   "metadata": {},
   "outputs": [],
   "source": []
  },
  {
   "cell_type": "code",
   "execution_count": null,
   "metadata": {},
   "outputs": [],
   "source": []
  },
  {
   "cell_type": "markdown",
   "metadata": {},
   "source": [
    "_That's all for now!_"
   ]
  }
 ],
 "metadata": {
  "kernelspec": {
   "display_name": "Python 3",
   "language": "python",
   "name": "python3"
  },
  "language_info": {
   "codemirror_mode": {
    "name": "ipython",
    "version": 3
   },
   "file_extension": ".py",
   "mimetype": "text/x-python",
   "name": "python",
   "nbconvert_exporter": "python",
   "pygments_lexer": "ipython3",
   "version": "3.5.4"
  }
 },
 "nbformat": 4,
 "nbformat_minor": 4
}
