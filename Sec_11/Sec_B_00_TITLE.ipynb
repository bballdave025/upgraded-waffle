{
 "cells": [
  {
   "cell_type": "markdown",
   "metadata": {},
   "source": [
    "# TensorFlow Basics"
   ]
  },
  {
   "cell_type": "code",
   "execution_count": null,
   "metadata": {},
   "outputs": [],
   "source": [
    "import tensorflow as tf"
   ]
  },
  {
   "cell_type": "markdown",
   "metadata": {},
   "source": [
    "The downloaded Jupyter Notebook says\n",
    "\n",
    "> Make sure you are using 1.3 for exact sytnax[sic] matching!\n",
    "\n",
    "However, the newer env file has `1.15` listed. (Note I'm in Windows at the moment.)"
   ]
  },
  {
   "cell_type": "code",
   "execution_count": null,
   "metadata": {},
   "outputs": [],
   "source": [
    "! type \"C:\\\\David\\\\my_repos_dwb\\\\upgraded-waffle\\\\FULL_TENSORFLOW_NOTES__AND_DATA\\\\earlier_nonworking_env_files\\\\tfdl_env.yml\""
   ]
  },
  {
   "cell_type": "markdown",
   "metadata": {},
   "source": [
    "OUTPUT\n",
    "\n",
    "```\n",
    "name: tfdeeplearning\n",
    "channels:\n",
    "- defaults\n",
    "dependencies:\n",
    "- matplotlib=2.0.2\n",
    "- numpy=1.13.1\n",
    "- pandas=0.20.3\n",
    "- python=3.5.4\n",
    "- scikit-learn=0.19.0\n",
    "- scipy==1.1.0\n",
    "- pip:\n",
    "  - jupyter\n",
    "  - tensorflow==1.15.0\n",
    "  - tensorboard==1.15.0\n",
    "```\n",
    "\n",
    "Yes, yes it does."
   ]
  },
  {
   "cell_type": "markdown",
   "metadata": {},
   "source": [
    "And the env file that finally worked without errors to get me here had `1.10`.\n",
    "\n",
    "That's the one with the instructions,\n",
    "\n",
    "> `*`<b>WINDOWS SOLUTION</b>`*` Enviornment File Problems <br/>\n",
    "> 46 upvotes <br/>\n",
    "> Adam . Lecture 5 <br/>\n",
    "> . 3 years ago <br/>\n",
    ">\n",
    "> A lot of people are getting enviornment file errors, even with the \"updated\" \n",
    "> version\n",
    ">\n",
    "> Here is a `*`<b>WORKING</b>`*` enviornment file\n",
    ">\n",
    "> https://pastebin.com/2g6KGH9a\n",
    ">\n",
    "> 1) cd to your downloaded folder of notes from this course <br/>\n",
    "> 2) Create a new .txt file with Notepad call it `tfdl_env.txt` <br/>\n",
    "> 3) Copy paste the data from the link above into this txt file <br/>\n",
    "> 4) while in the directory run the command at the first line of the text <br/> \n",
    ">     file, it should be this :)\n",
    ">\n",
    "> `conda create --name tfdeeplearning --file tfdl_env.txt`\n",
    ">\n",
    "> Hope this works for you all!\n",
    ">\n",
    "> Make sure you're running this txt file and not the current env file by \n",
    "> mistake if you get an error. And just continue on with the instructions:\n",
    ">\n",
    "> `activate tfdeeplearning`\n",
    ">\n",
    "> `jupyter notebook`\n",
    ">\n",
    "> ... etc\n",
    ">\n",
    ">\n",
    "> Notes:\n",
    ">\n",
    "> * you may need to run `conda activate tfdeeplearning`\n",
    ">\n",
    ">\n",
    "> * for \"Section 11: Reinforcement Learning...\" I am not sure if gym is \n",
    ">   installed in this env file. There is already a solution in Lecture 84 \n",
    ">   that worked for me, simply: <br/>\n",
    ">      - `activate tfdeeplearning` <br/>\n",
    ">      - `pip install gym` <br/>\n",
    ">           - if you get a permission error run `pip install gym --user` <br/>"
   ]
  },
  {
   "cell_type": "code",
   "execution_count": null,
   "metadata": {},
   "outputs": [],
   "source": [
    "! type \"C:\\\\David\\\\my_repos_dwb\\\\upgraded-waffle\\\\FULL_TENSORFLOW_NOTES__AND_DATA\\\\tfdl_env.txt\""
   ]
  },
  {
   "cell_type": "markdown",
   "metadata": {},
   "source": [
    "OUTPUT\n",
    "\n",
    "```\n",
    "Lots of it\n",
    "```\n",
    "\n",
    "Let's make that easier to check."
   ]
  },
  {
   "cell_type": "code",
   "execution_count": null,
   "metadata": {},
   "outputs": [],
   "source": [
    "! type \"C:\\\\David\\\\my_repos_dwb\\\\upgraded-waffle\\\\FULL_TENSORFLOW_NOTES__AND_DATA\\\\tfdl_env.txt\" | findstr tensor"
   ]
  },
  {
   "cell_type": "markdown",
   "metadata": {},
   "source": [
    "OUTPUT\n",
    "\n",
    "```\n",
    "https://repo.anaconda.com/pkgs/main/win-64/tensorboard-1.10.0-py35he025d50_0.conda\n",
    "https://repo.anaconda.com/pkgs/main/win-64/tensorflow-base-1.10.0-mkl_py35h81393da_0.conda\n",
    "https://repo.anaconda.com/pkgs/main/win-64/tensorflow-1.10.0-mkl_py35h4a0f5c2_0.conda\n",
    "```\n",
    "\n",
    "Yes, yes it does have `1.10`."
   ]
  },
  {
   "cell_type": "code",
   "execution_count": null,
   "metadata": {},
   "outputs": [],
   "source": [
    "print(tf.__version__)"
   ]
  },
  {
   "cell_type": "markdown",
   "metadata": {},
   "source": [
    "OUTPUT\n",
    "\n",
    "```\n",
    "1.10.0\n",
    "```\n",
    "\n",
    "Moving on"
   ]
  },
  {
   "cell_type": "markdown",
   "metadata": {},
   "source": [
    "## Tensors"
   ]
  },
  {
   "cell_type": "markdown",
   "metadata": {},
   "source": [
    "### Lecture Version"
   ]
  },
  {
   "cell_type": "code",
   "execution_count": null,
   "metadata": {},
   "outputs": [],
   "source": [
    "first = tf.constant(\"First \")"
   ]
  },
  {
   "cell_type": "code",
   "execution_count": null,
   "metadata": {},
   "outputs": [],
   "source": [
    "steps = tf.constant(\"Steps\")"
   ]
  },
  {
   "cell_type": "code",
   "execution_count": null,
   "metadata": {},
   "outputs": [],
   "source": [
    "type(first) # a tensor object"
   ]
  },
  {
   "cell_type": "code",
   "execution_count": null,
   "metadata": {},
   "outputs": [],
   "source": [
    "print(first) # not printing \"first\""
   ]
  },
  {
   "cell_type": "code",
   "execution_count": null,
   "metadata": {},
   "outputs": [],
   "source": [
    "with tf.Session() as sess:\n",
    "    sess.run(first + steps)\n",
    "##endof:  with tf.Session() as sess\n"
   ]
  },
  {
   "cell_type": "code",
   "execution_count": null,
   "metadata": {},
   "outputs": [],
   "source": [
    "# Let's save it\n",
    "with tf.Session() as sess:\n",
    "    result = sess.run(first + steps)\n",
    "##endof:  with tf.Session() as sess"
   ]
  },
  {
   "cell_type": "code",
   "execution_count": null,
   "metadata": {},
   "outputs": [],
   "source": [
    "print(result)"
   ]
  },
  {
   "cell_type": "markdown",
   "metadata": {},
   "source": [
    "### Course Notes Version"
   ]
  },
  {
   "cell_type": "code",
   "execution_count": null,
   "metadata": {},
   "outputs": [],
   "source": [
    "hello = tf.constant('Hello')"
   ]
  },
  {
   "cell_type": "code",
   "execution_count": null,
   "metadata": {},
   "outputs": [],
   "source": [
    "type(hello)"
   ]
  },
  {
   "cell_type": "code",
   "execution_count": null,
   "metadata": {},
   "outputs": [],
   "source": [
    "world = tf.constant('World')"
   ]
  },
  {
   "cell_type": "code",
   "execution_count": null,
   "metadata": {},
   "outputs": [],
   "source": [
    "result_CNV = hello + world"
   ]
  },
  {
   "cell_type": "code",
   "execution_count": null,
   "metadata": {},
   "outputs": [],
   "source": [
    "result_CNV # we have already done an add, so we get 'add_2' instead of 'add'"
   ]
  },
  {
   "cell_type": "code",
   "execution_count": null,
   "metadata": {},
   "outputs": [],
   "source": [
    "type(result_CNV)"
   ]
  },
  {
   "cell_type": "code",
   "execution_count": null,
   "metadata": {},
   "outputs": [],
   "source": [
    "with tf.Session() as sess_CNV:\n",
    "    result_CNV = sess_CNV.run(hello + world)"
   ]
  },
  {
   "cell_type": "code",
   "execution_count": null,
   "metadata": {},
   "outputs": [],
   "source": [
    "result_CNV"
   ]
  },
  {
   "cell_type": "markdown",
   "metadata": {},
   "source": [
    "<b>Computations - Lecture Version</b>"
   ]
  },
  {
   "cell_type": "code",
   "execution_count": null,
   "metadata": {},
   "outputs": [],
   "source": [
    "a = tf.constant(10)"
   ]
  },
  {
   "cell_type": "code",
   "execution_count": null,
   "metadata": {},
   "outputs": [],
   "source": [
    "b = tf.constant(20)"
   ]
  },
  {
   "cell_type": "code",
   "execution_count": null,
   "metadata": {},
   "outputs": [],
   "source": [
    "type(a)"
   ]
  },
  {
   "cell_type": "code",
   "execution_count": null,
   "metadata": {},
   "outputs": [],
   "source": [
    "a + b"
   ]
  },
  {
   "cell_type": "code",
   "execution_count": null,
   "metadata": {},
   "outputs": [],
   "source": [
    "a + b \n",
    "  #  Note that we get 'add_5:0' this time, \n",
    "  #+ instead of 'add_4:0' last time. TF is\n",
    "  #+ keeping track, somehow. "
   ]
  },
  {
   "cell_type": "code",
   "execution_count": null,
   "metadata": {},
   "outputs": [],
   "source": [
    "a + b #  still keeping track of how many times you're asking for it.\n",
    "      #+ No answer, b/c not in a session."
   ]
  },
  {
   "cell_type": "code",
   "execution_count": null,
   "metadata": {},
   "outputs": [],
   "source": [
    "with tf.Session() as sess:\n",
    "    result = sess.run(a + b)\n",
    "##endof:  with tf.Session() as sess"
   ]
  },
  {
   "cell_type": "code",
   "execution_count": null,
   "metadata": {},
   "outputs": [],
   "source": [
    "result"
   ]
  },
  {
   "cell_type": "markdown",
   "metadata": {},
   "source": [
    "<b>Computations - Course Notes Version</b>"
   ]
  },
  {
   "cell_type": "code",
   "execution_count": null,
   "metadata": {},
   "outputs": [],
   "source": [
    "tensor_1 = tf.constant(1)\n",
    "tensor_2 = tf.constant(2)"
   ]
  },
  {
   "cell_type": "code",
   "execution_count": null,
   "metadata": {},
   "outputs": [],
   "source": [
    "type(tensor_1)"
   ]
  },
  {
   "cell_type": "code",
   "execution_count": null,
   "metadata": {},
   "outputs": [],
   "source": [
    "tensor_1 + tensor_2"
   ]
  },
  {
   "cell_type": "code",
   "execution_count": null,
   "metadata": {},
   "outputs": [],
   "source": [
    "sess_CNV"
   ]
  },
  {
   "cell_type": "code",
   "execution_count": null,
   "metadata": {},
   "outputs": [],
   "source": [
    "sess_CNV.close()"
   ]
  },
  {
   "cell_type": "code",
   "execution_count": null,
   "metadata": {},
   "outputs": [],
   "source": [
    "## DWB here\n",
    "sess_CNV"
   ]
  },
  {
   "cell_type": "markdown",
   "metadata": {},
   "source": [
    "## Operations"
   ]
  },
  {
   "cell_type": "markdown",
   "metadata": {},
   "source": [
    "### Lecture Version"
   ]
  },
  {
   "cell_type": "code",
   "execution_count": null,
   "metadata": {},
   "outputs": [],
   "source": [
    "const = tf.constant(10)"
   ]
  },
  {
   "cell_type": "code",
   "execution_count": null,
   "metadata": {},
   "outputs": [],
   "source": [
    "fill_mat = tf.fill((4, 4), 10)"
   ]
  },
  {
   "cell_type": "code",
   "execution_count": null,
   "metadata": {},
   "outputs": [],
   "source": [
    "myzeros = tf.zeros((4, 4))"
   ]
  },
  {
   "cell_type": "code",
   "execution_count": null,
   "metadata": {},
   "outputs": [],
   "source": [
    "myones = tf.ones((4, 4))"
   ]
  },
  {
   "cell_type": "code",
   "execution_count": null,
   "metadata": {},
   "outputs": [],
   "source": [
    "myrandn = tf.random_normal((4, 4), mean=0, stddev=1.0)"
   ]
  },
  {
   "cell_type": "code",
   "execution_count": null,
   "metadata": {},
   "outputs": [],
   "source": [
    "myrandu = tf.random_uniform((4, 4), minval=0, maxval=1)"
   ]
  },
  {
   "cell_type": "code",
   "execution_count": null,
   "metadata": {},
   "outputs": [],
   "source": [
    "myzeros"
   ]
  },
  {
   "cell_type": "code",
   "execution_count": null,
   "metadata": {},
   "outputs": [],
   "source": [
    "my_ops = [const, fill_mat, myzeros, myones, myrandn, myrandu]"
   ]
  },
  {
   "cell_type": "markdown",
   "metadata": {},
   "source": [
    "### Course Notes Version"
   ]
  },
  {
   "cell_type": "markdown",
   "metadata": {},
   "source": [
    "All the same, except it has `stddev=0.5` instead of `stddev=1`"
   ]
  },
  {
   "cell_type": "markdown",
   "metadata": {},
   "source": [
    "## Interactive Session\n",
    "\n",
    "He says,\n",
    "\n",
    "> Useful for Notebook Sessions\n",
    "\n",
    "Note that this, <b>Lecture Notes Version</b> is identical to the <b>Course Notes Version</b>"
   ]
  },
  {
   "cell_type": "markdown",
   "metadata": {},
   "source": [
    "<b> ONLY RUN THIS NEXT CELL ONCE! </b>"
   ]
  },
  {
   "cell_type": "code",
   "execution_count": null,
   "metadata": {},
   "outputs": [],
   "source": [
    "# Only run this cell once\n",
    "sess = tf.InteractiveSession()"
   ]
  },
  {
   "cell_type": "code",
   "execution_count": null,
   "metadata": {},
   "outputs": [],
   "source": [
    "#  With the interactive session, it's like everything\n",
    "#+ is inside a `with tf.Session() as sess`\n",
    "\n",
    "for op in my_ops:\n",
    "    print(sess.run(op)) # there can also be sess.eval(op)\n",
    "    print('\\n')\n",
    "##endof:  for op in my_ops"
   ]
  },
  {
   "cell_type": "markdown",
   "metadata": {},
   "source": [
    "My random matrices are different, since I don't know his seed, and I haven't been doing this right after the last lesson - I've done stuff in between, include restarting the kernel."
   ]
  },
  {
   "cell_type": "markdown",
   "metadata": {},
   "source": [
    "## Matrix Multiplication"
   ]
  },
  {
   "cell_type": "markdown",
   "metadata": {},
   "source": [
    "Hoping the Lecture and Course-Notes Versions are the same."
   ]
  },
  {
   "cell_type": "code",
   "execution_count": null,
   "metadata": {},
   "outputs": [],
   "source": [
    "a = tf.constant([ [1,2],\n",
    "                  [3,4] ])"
   ]
  },
  {
   "cell_type": "code",
   "execution_count": null,
   "metadata": {},
   "outputs": [],
   "source": [
    "a.get_shape()"
   ]
  },
  {
   "cell_type": "code",
   "execution_count": null,
   "metadata": {},
   "outputs": [],
   "source": [
    "b = tf.constant([ [10], [100] ])"
   ]
  },
  {
   "cell_type": "code",
   "execution_count": null,
   "metadata": {},
   "outputs": [],
   "source": [
    "b.get_shape()"
   ]
  },
  {
   "cell_type": "code",
   "execution_count": null,
   "metadata": {},
   "outputs": [],
   "source": [
    "result = tf.matmul(a, b)"
   ]
  },
  {
   "cell_type": "code",
   "execution_count": null,
   "metadata": {},
   "outputs": [],
   "source": [
    "# Lecture Version\n",
    "sess.run(result) # needs the interactie session"
   ]
  },
  {
   "cell_type": "code",
   "execution_count": null,
   "metadata": {},
   "outputs": [],
   "source": [
    "# Course notes version (and Lecture version)\n",
    "result.eval()"
   ]
  },
  {
   "cell_type": "markdown",
   "metadata": {},
   "source": [
    "There's a demonstration of the sess.run() and the .eval() stuff he was discussing in the lecture."
   ]
  },
  {
   "cell_type": "markdown",
   "metadata": {},
   "source": [
    "_That's all for now!_"
   ]
  }
 ],
 "metadata": {
  "kernelspec": {
   "display_name": "Python 3",
   "language": "python",
   "name": "python3"
  },
  "language_info": {
   "codemirror_mode": {
    "name": "ipython",
    "version": 3
   },
   "file_extension": ".py",
   "mimetype": "text/x-python",
   "name": "python",
   "nbconvert_exporter": "python",
   "pygments_lexer": "ipython3",
   "version": "3.5.4"
  }
 },
 "nbformat": 4,
 "nbformat_minor": 4
}
